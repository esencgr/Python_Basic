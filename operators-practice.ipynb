{
 "cells": [
  {
   "cell_type": "markdown",
   "metadata": {},
   "source": [
    "### **Exercises - Operators**"
   ]
  },
  {
   "cell_type": "code",
   "execution_count": 3,
   "metadata": {},
   "outputs": [
    {
     "name": "stdout",
     "output_type": "stream",
     "text": [
      "1 [5, 7, 10] 6\n",
      "216\n"
     ]
    }
   ],
   "source": [
    "x, y, z = 2, 5, 10\n",
    "\n",
    "numbers = 1, 5, 7, 10, 6\n",
    "\n",
    "# According to x, *y, z = numbers equalation what is z ^ 3 \n",
    "x, *y, z = numbers\n",
    "print( x, y, z )\n",
    "res = z ** 3 \n",
    "print( res )\n"
   ]
  },
  {
   "cell_type": "code",
   "execution_count": null,
   "metadata": {},
   "outputs": [],
   "source": [
    "# According to x, *y, z = numbers equalation what is sum y values \n",
    "x, *y, z = numbers\n",
    "print( x, y, z )\n",
    "\n",
    "sum = y[ 0 ] + y[ 1 ] + y[ 2 ]\n",
    "print( sum )\n",
    "\n",
    "s = 0\n",
    "for e in y:\n",
    "    s += e \n",
    "    \n",
    "print( s )"
   ]
  },
  {
   "cell_type": "code",
   "execution_count": null,
   "metadata": {},
   "outputs": [],
   "source": []
  },
  {
   "cell_type": "code",
   "execution_count": null,
   "metadata": {},
   "outputs": [],
   "source": []
  },
  {
   "cell_type": "code",
   "execution_count": null,
   "metadata": {},
   "outputs": [],
   "source": []
  }
 ],
 "metadata": {
  "kernelspec": {
   "display_name": "Python 3",
   "language": "python",
   "name": "python3"
  },
  "language_info": {
   "codemirror_mode": {
    "name": "ipython",
    "version": 3
   },
   "file_extension": ".py",
   "mimetype": "text/x-python",
   "name": "python",
   "nbconvert_exporter": "python",
   "pygments_lexer": "ipython3",
   "version": "3.8.3"
  }
 },
 "nbformat": 4,
 "nbformat_minor": 4
}
