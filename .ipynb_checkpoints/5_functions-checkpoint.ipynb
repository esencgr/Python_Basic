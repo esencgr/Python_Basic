{
 "cells": [
  {
   "cell_type": "markdown",
   "metadata": {},
   "source": [
    "## **FUNCTIONS**"
   ]
  },
  {
   "cell_type": "markdown",
   "metadata": {},
   "source": [
    "### ***Function Usage***"
   ]
  },
  {
   "cell_type": "code",
   "execution_count": 10,
   "metadata": {},
   "outputs": [
    {
     "name": "stdout",
     "output_type": "stream",
     "text": [
      "hello cgr\n",
      "hi user\n"
     ]
    }
   ],
   "source": [
    "def say_hello( name ):\n",
    "    print( \"hello\", name )\n",
    "say_hello(\"cgr\")\n",
    "\n",
    "def say_hi( name = 'user' ):\n",
    "    print( \"hi\", name )\n",
    "say_hi()"
   ]
  },
  {
   "cell_type": "code",
   "execution_count": 4,
   "metadata": {},
   "outputs": [
    {
     "name": "stdout",
     "output_type": "stream",
     "text": [
      "hello, cgr\n"
     ]
    }
   ],
   "source": [
    "def say_hello( name ):\n",
    "    return \"hello, \" + name\n",
    "s = say_hello(\"cgr\") \n",
    "print( s ))"
   ]
  },
  {
   "cell_type": "code",
   "execution_count": 23,
   "metadata": {},
   "outputs": [
    {
     "name": "stdout",
     "output_type": "stream",
     "text": [
      "8\n"
     ]
    }
   ],
   "source": [
    "def total( num1, num2 ):\n",
    "    return num1+num2\n",
    "print( total( 3, 5 ) )"
   ]
  },
  {
   "cell_type": "code",
   "execution_count": 1,
   "metadata": {},
   "outputs": [
    {
     "name": "stdout",
     "output_type": "stream",
     "text": [
      "enter your name : cgr\n",
      "enter birth year : 1994\n",
      "remaining year = 39\n",
      "Help on function retirement in module __main__:\n",
      "\n",
      "retirement(name, birth)\n",
      "    DOCSTRING : Calculate the remaining year.\n",
      "    INPUT : Name, Birth Year\n",
      "    OUTPUT : Remaining Year\n",
      "\n",
      "None\n"
     ]
    }
   ],
   "source": [
    "def age( birth ):\n",
    "    return ( 2020 - birth )\n",
    "\n",
    "def retirement( name, birth ):\n",
    "    '''\n",
    "       DOCSTRING : Calculate the remaining year.\n",
    "       INPUT : Name, Birth Year\n",
    "       OUTPUT : Remaining Year \n",
    "       \n",
    "    '''\n",
    "    ag = age( birth )\n",
    "    year = 65 - ag \n",
    "    if( year > 0 ):\n",
    "        print( f\"remaining year = { year }\" )\n",
    "    else:\n",
    "        print( \"you deserve retirement \")\n",
    "        \n",
    "name = input( \"enter your name : \" )    \n",
    "brth = int(input( \"enter birth year : \" ))\n",
    "retirement( name, brth )\n",
    "\n",
    "print( help( retirement ) )"
   ]
  },
  {
   "cell_type": "markdown",
   "metadata": {},
   "source": [
    "#### ***Note : Help Function*** "
   ]
  },
  {
   "cell_type": "code",
   "execution_count": 24,
   "metadata": {},
   "outputs": [
    {
     "name": "stdout",
     "output_type": "stream",
     "text": [
      "Help on built-in function append:\n",
      "\n",
      "append(object, /) method of builtins.list instance\n",
      "    Append object to the end of the list.\n",
      "\n",
      "None\n"
     ]
    }
   ],
   "source": [
    "lst = [ 1,2,3 ]\n",
    "print( help(lst.append ) ) "
   ]
  },
  {
   "cell_type": "markdown",
   "metadata": {},
   "source": [
    "### ***Function Parameters***"
   ]
  },
  {
   "cell_type": "markdown",
   "metadata": {},
   "source": [
    "####  **Value Type Parameters**"
   ]
  },
  {
   "cell_type": "markdown",
   "metadata": {},
   "source": [
    "####  ***Functions with String***"
   ]
  },
  {
   "cell_type": "code",
   "execution_count": 9,
   "metadata": {},
   "outputs": [
    {
     "name": "stdout",
     "output_type": "stream",
     "text": [
      "cgr\n"
     ]
    }
   ],
   "source": [
    "# n is a string and strings are value type \n",
    "# function doesnt use name string's adress  \n",
    "# variable copy\n",
    "\n",
    "def change_name( *n ):\n",
    "    n = \"ada\"\n",
    "    \n",
    "name = \"cgr\" \n",
    "change_name( *name )\n",
    "print( name )"
   ]
  },
  {
   "cell_type": "markdown",
   "metadata": {},
   "source": [
    "####  ***Functions with Number***"
   ]
  },
  {
   "cell_type": "code",
   "execution_count": 30,
   "metadata": {},
   "outputs": [
    {
     "data": {
      "text/plain": [
       "156"
      ]
     },
     "execution_count": 30,
     "metadata": {},
     "output_type": "execute_result"
    }
   ],
   "source": [
    "def add( n1, n2 ):\n",
    "    return n1+n2\n",
    "add( 89, 67 )"
   ]
  },
  {
   "cell_type": "markdown",
   "metadata": {},
   "source": [
    "####  ***Flexible Parameter Number***"
   ]
  },
  {
   "cell_type": "code",
   "execution_count": 33,
   "metadata": {},
   "outputs": [
    {
     "name": "stdout",
     "output_type": "stream",
     "text": [
      "(1, 2, 3, 4, 5)\n"
     ]
    }
   ],
   "source": [
    "def pr( *arg ):\n",
    "    print( arg )\n",
    "pr( 1,2,3,4,5 )"
   ]
  },
  {
   "cell_type": "code",
   "execution_count": 50,
   "metadata": {},
   "outputs": [
    {
     "name": "stdout",
     "output_type": "stream",
     "text": [
      "26\n",
      "52\n",
      "47\n"
     ]
    }
   ],
   "source": [
    "def tot( *arg ):\n",
    "    s = 0 \n",
    "    for i in arg:\n",
    "        s += i  \n",
    "    print( s )\n",
    "\n",
    "tot( 8, 9, 9 )\n",
    "tot( 8*2, 9*2, 2*9 )\n",
    "tot( 8, 9, 9, 10, 11)\n"
   ]
  },
  {
   "cell_type": "markdown",
   "metadata": {},
   "source": [
    "#### **Reference Type Parameters**"
   ]
  },
  {
   "cell_type": "markdown",
   "metadata": {},
   "source": [
    "#### ***Functions with List***"
   ]
  },
  {
   "cell_type": "code",
   "execution_count": 10,
   "metadata": {},
   "outputs": [
    {
     "name": "stdout",
     "output_type": "stream",
     "text": [
      "['istanbul', 'ankara']\n"
     ]
    }
   ],
   "source": [
    "# n is a list and list are reference  type \n",
    "# function uses lst list's adress \n",
    "# adress copy\n",
    "\n",
    "def change( n ):\n",
    "    n[ 0 ] = \"istanbul\"\n",
    "\n",
    "cities = [ \"izmir\", \"ankara\" ] \n",
    "change( cities )\n",
    "print( cities )"
   ]
  },
  {
   "cell_type": "code",
   "execution_count": 2,
   "metadata": {},
   "outputs": [
    {
     "name": "stdout",
     "output_type": "stream",
     "text": [
      "['ist', 'ankara']\n"
     ]
    }
   ],
   "source": [
    "cities = [ \"izmir\", \"ankara\" ] \n",
    "n = cities       # adress copy\n",
    "n[ 0 ] = \"ist\" \n",
    "print( cities )  # cities and n list are in the same adres "
   ]
  },
  {
   "cell_type": "code",
   "execution_count": 14,
   "metadata": {},
   "outputs": [
    {
     "name": "stdout",
     "output_type": "stream",
     "text": [
      "['izmir', 'ankara']\n"
     ]
    }
   ],
   "source": [
    "cities = [ \"izmir\", \"ankara\" ] \n",
    "n = cities[ : ]   # value copy : slicing : like as value type assigning\n",
    "n[ 0 ] = \"ist\"\n",
    "print( cities )  \n"
   ]
  },
  {
   "cell_type": "markdown",
   "metadata": {},
   "source": [
    "#### ***Sum Function***"
   ]
  },
  {
   "cell_type": "code",
   "execution_count": 10,
   "metadata": {},
   "outputs": [
    {
     "name": "stdout",
     "output_type": "stream",
     "text": [
      "8\n"
     ]
    }
   ],
   "source": [
    "def add( a, b ):\n",
    "    return sum( (a, b) )\n",
    "\n",
    "print( add(  3,5 ) )"
   ]
  },
  {
   "cell_type": "markdown",
   "metadata": {},
   "source": [
    "#### ***Functions with Tuple***"
   ]
  },
  {
   "cell_type": "code",
   "execution_count": 5,
   "metadata": {},
   "outputs": [
    {
     "name": "stdout",
     "output_type": "stream",
     "text": [
      "(8, 9, 10, 20, 30, 90)\n",
      "8\n",
      "<class 'tuple'>\n",
      "167\n"
     ]
    }
   ],
   "source": [
    "def add( *params ):\n",
    "    print( params ) \n",
    "    print( params[ 0 ] )\n",
    "    print( type(params) ) \n",
    "    return sum( params )\n",
    "\n",
    "# print( add(8, 9, 10) )  # if how many parameter do you want you can enter \n",
    "print( add(8, 9, 10, 20, 30, 90 ) )  \n"
   ]
  },
  {
   "cell_type": "code",
   "execution_count": 4,
   "metadata": {
    "scrolled": false
   },
   "outputs": [
    {
     "name": "stdout",
     "output_type": "stream",
     "text": [
      "167\n"
     ]
    }
   ],
   "source": [
    "# another way to sum \n",
    "def add( *params ):\n",
    "    tot = 0 \n",
    "    for pr in params:\n",
    "        tot += pr \n",
    "    return tot\n",
    "\n",
    "# print( add(8, 9, 10) )  # if how many parameter do you want you can enter \n",
    "print( add(8, 9, 10, 20, 30, 90 ) )  \n"
   ]
  },
  {
   "cell_type": "markdown",
   "metadata": {},
   "source": [
    "#### ***Functions with Dictionary***"
   ]
  },
  {
   "cell_type": "code",
   "execution_count": 13,
   "metadata": {
    "scrolled": true
   },
   "outputs": [
    {
     "name": "stdout",
     "output_type": "stream",
     "text": [
      "{'key1': 'value1', 'key2': 'value2'}\n",
      "key1 key2\n"
     ]
    }
   ],
   "source": [
    "def display( **kwargs ):\n",
    "    print( kwargs )\n",
    "    print( *kwargs )\n",
    "\n",
    "display( key1 = \"value1\", key2 = \"value2\"  )\n"
   ]
  },
  {
   "cell_type": "code",
   "execution_count": 8,
   "metadata": {
    "scrolled": true
   },
   "outputs": [
    {
     "name": "stdout",
     "output_type": "stream",
     "text": [
      "value1\n",
      "value2\n"
     ]
    }
   ],
   "source": [
    "def display( **kwargs ):\n",
    "    for key, value in kwargs.items():\n",
    "        print(  value )\n",
    "display( key1 = \"value1\", key2 = \"value2\"  )\n"
   ]
  },
  {
   "cell_type": "code",
   "execution_count": 19,
   "metadata": {},
   "outputs": [
    {
     "name": "stdout",
     "output_type": "stream",
     "text": [
      "('name', 'cgr')\n",
      "('age', 12)\n",
      "('phone', 1234)\n",
      "name cgr\n",
      "age 12\n",
      "phone 1234\n",
      "<class 'dict'>\n"
     ]
    }
   ],
   "source": [
    "def display( **args ):   # doesnt matter name args or another **param **hi     \n",
    "    for arg in args.items():\n",
    "        print( arg )\n",
    "\n",
    "dic = { \"name\":\"cgr\", \"age\":12, \"phone\": 1234 }\n",
    "display( **dic )\n",
    "\n",
    "\n",
    "# access key and value \n",
    "def display( **args ):   # doesnt matter name args or another **param **hi     \n",
    "    for key,val in args.items():\n",
    "        print( key,val )\n",
    "\n",
    "dic = { \"name\":\"cgr\", \"age\":12, \"phone\": 1234 }\n",
    "display( **dic )\n",
    "print( type (dic) )"
   ]
  },
  {
   "cell_type": "code",
   "execution_count": 12,
   "metadata": {},
   "outputs": [
    {
     "name": "stdout",
     "output_type": "stream",
     "text": [
      "3 4 5 (10, 20, 30) {'key1': 'value1', 'key2': 'value2'}\n"
     ]
    }
   ],
   "source": [
    "def display( a, b, c, *args, **kwargs ):\n",
    "    print( a, b, c, args, kwargs )\n",
    "    \n",
    "display( 3, 4, 5, 10, 20, 30, key1 = \"value1\", key2 = \"value2\"  )"
   ]
  },
  {
   "cell_type": "code",
   "execution_count": 6,
   "metadata": {},
   "outputs": [
    {
     "name": "stdout",
     "output_type": "stream",
     "text": [
      "after attack player 1 : 80 \n",
      "after attack player 2 : 90 \n",
      "{'name': 'x', 'attack': 10, 'health': 80} {'name': 'y', 'attack': 20, 'health': 90}\n"
     ]
    }
   ],
   "source": [
    "player_1 = { \"name\":\"x\", \"attack\":10, \"health\":100 } \n",
    "player_2 = { \"name\":\"y\", \"attack\":20, \"health\":100 }\n",
    "\n",
    "# this function define -> attack player 1 to player 2 \n",
    "def offensive( p1:dict, p2:dict ):\n",
    "    lose_health = p1[ \"attack\" ]\n",
    "    p2[ \"health\" ] -= lose_health\n",
    "    \n",
    "offensive( player_1, player_2 )\n",
    "offensive( player_2, player_1 )\n",
    "\n",
    "print( f\"after attack player 1 : { player_1['health']} \" )\n",
    "print( f\"after attack player 2 : { player_2['health']} \" )\n",
    "\n",
    "print( player_1, player_2 )"
   ]
  },
  {
   "cell_type": "markdown",
   "metadata": {},
   "source": [
    "### ***Methods***"
   ]
  },
  {
   "cell_type": "code",
   "execution_count": 15,
   "metadata": {},
   "outputs": [
    {
     "name": "stdout",
     "output_type": "stream",
     "text": [
      "<class 'list'>\n",
      "[1, 'cgr', 2, 3, 4]\n",
      "[1, 'cgr', 2, 3, 4, 'last']\n",
      "[1, 'cgr', 2, 3, 4]\n",
      "Help on built-in function append:\n",
      "\n",
      "append(object, /) method of builtins.list instance\n",
      "    Append object to the end of the list.\n",
      "\n"
     ]
    }
   ],
   "source": [
    "# TYPE METHOD\n",
    "a = [ 1, 2, 3, 4 ]\n",
    "print( type( a ))\n",
    "\n",
    "# INSERT METHOD \n",
    "a = [ 1, 2, 3, 4 ]\n",
    "a.insert( 1, \"cgr\")\n",
    "print( a )\n",
    "\n",
    "# APPEND METHOD\n",
    "a.append( \"last\" )\n",
    "print( a )\n",
    "\n",
    "# POP METHOD \n",
    "a.pop()\n",
    "print( a ) \n",
    "\n",
    "# HELP METHOD \n",
    "help (a.append)"
   ]
  },
  {
   "cell_type": "markdown",
   "metadata": {},
   "source": [
    "### ***Lambda Expressions  &  Map  &  Filter***"
   ]
  },
  {
   "cell_type": "code",
   "execution_count": 5,
   "metadata": {},
   "outputs": [
    {
     "name": "stdout",
     "output_type": "stream",
     "text": [
      "81\n",
      "[1, 9, 25, 49]\n",
      "\n",
      "*************\n",
      "\n",
      "1\n",
      "9\n",
      "25\n",
      "49\n"
     ]
    }
   ],
   "source": [
    "# MAP \n",
    "def square( num ): \n",
    "    return( num ** 2 )\n",
    "res = square( 9 )\n",
    "print( res )\n",
    "\n",
    "def square( num ): return( num ** 2 )\n",
    "\n",
    "numbers = [ 1, 3, 5, 7 ]\n",
    "\n",
    "res = list( map( square, numbers ) )\n",
    "print( res )\n",
    "\n",
    "print(\"\\n*************\\n\")\n",
    "\n",
    "for item in map( square, numbers ):\n",
    "    print( item )"
   ]
  },
  {
   "cell_type": "code",
   "execution_count": 47,
   "metadata": {},
   "outputs": [
    {
     "name": "stdout",
     "output_type": "stream",
     "text": [
      "[1, 9, 25, 49]\n",
      "[1, 9, 25, 49]\n",
      "9\n"
     ]
    }
   ],
   "source": [
    "# LAMBDA \n",
    "# def square( num ): return( num ** 2 )\n",
    "# lamda parameter : return \n",
    "numbers = [ 1, 3, 5, 7 ]\n",
    "res = list( map( lambda num : num **2 , numbers ) )\n",
    "print( res )\n",
    "\n",
    "# also you can define name of lambda function \n",
    "square = lambda num : num **2 \n",
    "res = list( map( square , numbers ) )\n",
    "print( res )\n",
    "\n",
    "result = square( 3 )\n",
    "print( result )"
   ]
  },
  {
   "cell_type": "code",
   "execution_count": 38,
   "metadata": {},
   "outputs": [
    {
     "name": "stdout",
     "output_type": "stream",
     "text": [
      "[2, 4]\n",
      "[2, 4]\n",
      "[2, 4]\n",
      "True\n"
     ]
    }
   ],
   "source": [
    "# FILTER\n",
    "nums = [ 1, 2, 3, 4, 5 ]\n",
    "\n",
    "def check_even( num ):\n",
    "    return num % 2 == 0 \n",
    "\n",
    "res = list(filter( check_even, nums ))\n",
    "print( res )\n",
    "\n",
    "res = list(filter( lambda num : num % 2 == 0, nums ))\n",
    "print( res )\n",
    "\n",
    "check_even = lambda num : num % 2 == 0\n",
    "res = list(filter( check_even, nums ))\n",
    "print( res )\n",
    "\n",
    "res = check_even( nums[ 3 ] ) \n",
    "print( res )\n"
   ]
  },
  {
   "cell_type": "markdown",
   "metadata": {},
   "source": [
    "#### ***Example :***"
   ]
  },
  {
   "cell_type": "code",
   "execution_count": 14,
   "metadata": {},
   "outputs": [
    {
     "name": "stdout",
     "output_type": "stream",
     "text": [
      "True\n",
      "True\n"
     ]
    }
   ],
   "source": [
    "def tri( a, b, hp ):\n",
    "    if( a**2 + b**2 == hp**2 ):\n",
    "        return True\n",
    "    else:\n",
    "        return False\n",
    "print( tri( 3, 4, 5 ) )\n",
    "       \n",
    "func = lambda x, y, z : x**2 + y**2 == z**2  \n",
    "print( func( 3, 4, 5 ) )"
   ]
  },
  {
   "cell_type": "markdown",
   "metadata": {},
   "source": [
    "#### ***Example :***"
   ]
  },
  {
   "cell_type": "code",
   "execution_count": 9,
   "metadata": {},
   "outputs": [
    {
     "name": "stdout",
     "output_type": "stream",
     "text": [
      "[1, 2, 3, 4]\n",
      "[2, 4]\n",
      "[1, 4, 9, 16]\n",
      "[4, 16]\n",
      "[4, 16]\n"
     ]
    }
   ],
   "source": [
    "lst = [ 1, 2, 3, 4 ] \n",
    "print( lst )\n",
    "\n",
    "res = list( filter( lambda lst : lst % 2 == 0, lst ))\n",
    "print( res ) \n",
    "\n",
    "res = list( map( lambda lst : lst ** 2 , lst ) )\n",
    "print( res )\n",
    "\n",
    "res = list( map( lambda lst : lst ** 2, ( filter( lambda lst : lst % 2 == 0 , lst ) ) ) )\n",
    "print( res )\n",
    "\n",
    "# a little optimization \n",
    "even =  lambda lst : lst % 2 == 0\n",
    "sqr  =  lambda lst : lst ** 2 \n",
    "\n",
    "res = list( map( sqr, ( filter( even, lst ) ) ) )\n",
    "print( res )\n"
   ]
  },
  {
   "cell_type": "markdown",
   "metadata": {},
   "source": [
    "#### ***Example :***"
   ]
  },
  {
   "cell_type": "code",
   "execution_count": 30,
   "metadata": {},
   "outputs": [
    {
     "name": "stdout",
     "output_type": "stream",
     "text": [
      "[True, False, False, False, False, False, False]\n"
     ]
    }
   ],
   "source": [
    "key_word = ['Human','Software','HR','Leader','Manager','Founder','Recruitment',\n",
    "            'Machine Learning','Data','Vision' ]\n",
    "\n",
    "content =  [\"Software\" ,\"Engineer\", \"at\", \"google\" ]\n",
    "\n",
    "def search( con, keys ):\n",
    "    sz = len( key_word )\n",
    "\n",
    "    for k in range ( 0, sz ):    \n",
    "        if  keys[k] in con: \n",
    "            return True\n",
    "\n",
    "res = search( content, key_word )\n",
    "#print( res )\n",
    "\n",
    "key_word = ['Human','Software','HR','Leader','Manager','Founder','Recruitment',\n",
    "            'Machine Learning','Data','Vision' ]\n",
    "\n",
    "content_sp =  [\"HR\" ,\"Engineer\", \"d\", \"google\", \"y\", \"google\", \"j\"]\n",
    "\n",
    "\n",
    "lst = list( map( lambda content_sp : content_sp in key_word , content_sp ) )\n",
    "print( lst )\n",
    "\n"
   ]
  },
  {
   "cell_type": "code",
   "execution_count": 2,
   "metadata": {},
   "outputs": [
    {
     "name": "stdout",
     "output_type": "stream",
     "text": [
      "3\n"
     ]
    }
   ],
   "source": [
    "# Lambda function to check if a given vaue is from 10 to 20.\n",
    "#test = lambda x : True if (x > 10 and x < 20) else False\n",
    "\n",
    "# Check if given numbers are in range using lambda function\n",
    "#print(test(12))\n",
    "#print(test(3))\n",
    "#print(test(24))\n",
    "\n",
    "lst = [1,2,3,4 ]\n",
    "print( next( filter( lambda x: x % 3 == 0, lst) ) )\n"
   ]
  },
  {
   "cell_type": "markdown",
   "metadata": {},
   "source": [
    "### ***Global & Local Variables***"
   ]
  },
  {
   "cell_type": "code",
   "execution_count": 4,
   "metadata": {},
   "outputs": [
    {
     "name": "stdout",
     "output_type": "stream",
     "text": [
      "local x\n",
      "global x\n"
     ]
    }
   ],
   "source": [
    "#global x \n",
    "x = \"global x\"\n",
    "\n",
    "# this x variable defines-----------  \n",
    "def fun( ):      \n",
    "    x = \"local x\"     # in this area\n",
    "    print( x )\n",
    "#-----------------------------------\n",
    "\n",
    "fun()\n",
    "print( x )"
   ]
  },
  {
   "cell_type": "code",
   "execution_count": 9,
   "metadata": {},
   "outputs": [
    {
     "name": "stdout",
     "output_type": "stream",
     "text": [
      "hello cgr\n",
      "global name\n"
     ]
    }
   ],
   "source": [
    "#global x \n",
    "name = \"global name\"\n",
    "\n",
    "def fun():  \n",
    "    name = \"cgr\"\n",
    "    \n",
    "    def hello():  \n",
    "        print( \"hello \" + name  )\n",
    "    \n",
    "    hello()\n",
    "\n",
    "fun()\n",
    "print( name )"
   ]
  },
  {
   "cell_type": "code",
   "execution_count": 17,
   "metadata": {},
   "outputs": [
    {
     "name": "stdout",
     "output_type": "stream",
     "text": [
      "x = 50\n",
      "x changed to 100\n",
      "50\n"
     ]
    }
   ],
   "source": [
    "x = 50 \n",
    "def test( x ):\n",
    "    print( f'x = {x}' )\n",
    "    x = 100\n",
    "    print( f'x changed to {x}' )\n",
    "\n",
    "test( x )\n",
    "print( x ) "
   ]
  },
  {
   "cell_type": "code",
   "execution_count": 18,
   "metadata": {},
   "outputs": [
    {
     "name": "stdout",
     "output_type": "stream",
     "text": [
      "x = 50\n",
      "x changed to 100\n",
      "100\n"
     ]
    }
   ],
   "source": [
    "# global is moves the x var into the function\n",
    "x = 50 \n",
    "def test() :\n",
    "    global x\n",
    "    print( f'x = {x}' )\n",
    "    x = 100\n",
    "    print( f'x changed to {x}' )\n",
    "\n",
    "test( )\n",
    "print( x ) "
   ]
  },
  {
   "cell_type": "markdown",
   "metadata": {},
   "source": [
    "### ***dir() function***"
   ]
  },
  {
   "cell_type": "code",
   "execution_count": 12,
   "metadata": {},
   "outputs": [
    {
     "name": "stdout",
     "output_type": "stream",
     "text": [
      "append\n",
      "clear\n",
      "copy\n",
      "count\n",
      "extend\n",
      "index\n",
      "insert\n",
      "pop\n",
      "remove\n",
      "reverse\n",
      "sort\n"
     ]
    }
   ],
   "source": [
    "\"\"\"\n",
    "for i in dir( int ):\n",
    "    print( i )\n",
    "\n",
    "for i in dir( str ):\n",
    "    print( i )\n",
    "    \n",
    "for i in dir( list ):\n",
    "    print( i ) \n",
    "    \n",
    "for j in dir( tuple ):\n",
    "    print( j )\n",
    "    \n",
    "for k in dir( dict ):\n",
    "    print( k ) \n",
    "    \n",
    "for i in dir( set ):\n",
    "    print( i )\n",
    "\n",
    "\"\"\"   \n",
    "# Only Methods \n",
    "for i in dir( list ):\n",
    "    if \"__\" not in i:\n",
    "        print( i )\n",
    "        "
   ]
  },
  {
   "cell_type": "code",
   "execution_count": null,
   "metadata": {},
   "outputs": [],
   "source": []
  },
  {
   "cell_type": "code",
   "execution_count": null,
   "metadata": {},
   "outputs": [],
   "source": []
  }
 ],
 "metadata": {
  "kernelspec": {
   "display_name": "Python 3",
   "language": "python",
   "name": "python3"
  },
  "language_info": {
   "codemirror_mode": {
    "name": "ipython",
    "version": 3
   },
   "file_extension": ".py",
   "mimetype": "text/x-python",
   "name": "python",
   "nbconvert_exporter": "python",
   "pygments_lexer": "ipython3",
   "version": "3.8.3"
  }
 },
 "nbformat": 4,
 "nbformat_minor": 4
}
