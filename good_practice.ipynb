{
 "cells": [
  {
   "cell_type": "markdown",
   "metadata": {},
   "source": [
    "### Practice - Functions "
   ]
  },
  {
   "cell_type": "markdown",
   "metadata": {},
   "source": [
    "#### ***EXAMPLE :*** \n",
    "* **Range**"
   ]
  },
  {
   "cell_type": "code",
   "execution_count": 9,
   "metadata": {},
   "outputs": [
    {
     "name": "stdout",
     "output_type": "stream",
     "text": [
      "enter password : 123456789\n",
      "password is out of range (should be 3-8 ) \n",
      "enter password : 12\n",
      "password is out of range (should be 3-8 ) \n",
      "enter password : \n",
      "password should not be empty \n",
      "enter password : 1234\n",
      "password saved \n"
     ]
    }
   ],
   "source": [
    "while( True ):\n",
    "    pwd = input( \"enter password : \" ) \n",
    "    \n",
    "    if not pwd:\n",
    "        print( \"password should not be empty \" )\n",
    "    \n",
    "    elif len( pwd ) in range ( 4, 8 ):\n",
    "        print( \"password saved \" )\n",
    "        break\n",
    "              \n",
    "    else:\n",
    "        print( \"password is out of range (should be 3-8 ) \" )\n",
    "    "
   ]
  },
  {
   "cell_type": "markdown",
   "metadata": {},
   "source": [
    "#### ***EXAMPLE :*** \n",
    "* **Lambda - Map - Filter**"
   ]
  },
  {
   "cell_type": "code",
   "execution_count": 2,
   "metadata": {},
   "outputs": [
    {
     "name": "stdout",
     "output_type": "stream",
     "text": [
      "[1, 2, 3, 4]\n",
      "[2, 4]\n",
      "[1, 4, 9, 16]\n",
      "[4, 16]\n",
      "[4, 16]\n"
     ]
    }
   ],
   "source": [
    "lst = [ 1, 2, 3, 4 ] \n",
    "print( lst )\n",
    "\n",
    "\n",
    "res = list( filter( lambda lst : lst % 2 == 0, lst ))\n",
    "print( res ) \n",
    "\n",
    "res = list( map( lambda lst : lst ** 2 , lst ) )\n",
    "print( res )\n",
    "\n",
    "res = list( map( lambda lst : lst ** 2, ( filter( lambda lst : lst % 2 == 0 , lst ) ) ) )\n",
    "print( res )\n",
    "\n",
    "# a little optimization \n",
    "even =  lambda lst : lst % 2 == 0\n",
    "sqr  =  lambda lst : lst ** 2 \n",
    "\n",
    "res = list( map( sqr, ( filter( even, lst ) ) ) )\n",
    "print( res )\n"
   ]
  },
  {
   "cell_type": "markdown",
   "metadata": {},
   "source": [
    "#### ***EXAMPLE :*** \n"
   ]
  },
  {
   "cell_type": "markdown",
   "metadata": {},
   "source": [
    "* **Prime Number**"
   ]
  },
  {
   "cell_type": "code",
   "execution_count": 1,
   "metadata": {},
   "outputs": [
    {
     "name": "stdout",
     "output_type": "stream",
     "text": [
      "num : 34\n",
      "34 is not prime.\n",
      "num : 2\n",
      "2 is prime.\n",
      "num : 1\n",
      "1 is not prime.\n",
      "num : 5\n",
      "5 is prime.\n",
      "num : q\n",
      "exit\n"
     ]
    }
   ],
   "source": [
    "def prime( num ):\n",
    "\n",
    "    if num == 1:\n",
    "        return False\n",
    "\n",
    "    elif num == 2:\n",
    "        return True\n",
    "    \n",
    "    else:\n",
    "        for i in range( 2, num ):\n",
    "            if num % i == 0: \n",
    "                return False\n",
    "    return True\n",
    "    \n",
    "while True:\n",
    "    number = input( \"num : \" )\n",
    "    \n",
    "    if number == \"q\":\n",
    "        print( \"exit\" )\n",
    "        break\n",
    "    \n",
    "    else:\n",
    "        if prime( int(number) ):\n",
    "            print( f\"{ number } is prime.\" )\n",
    "        else:\n",
    "            print( f\"{ number } is not prime.\" ) \n",
    "            \n",
    "    "
   ]
  },
  {
   "cell_type": "markdown",
   "metadata": {},
   "source": [
    "#### ***EXAMPLE :*** \n"
   ]
  },
  {
   "cell_type": "markdown",
   "metadata": {},
   "source": [
    "* **Recursive Factoriel**\n"
   ]
  },
  {
   "cell_type": "code",
   "execution_count": 4,
   "metadata": {
    "scrolled": true
   },
   "outputs": [
    {
     "name": "stdout",
     "output_type": "stream",
     "text": [
      "720\n"
     ]
    }
   ],
   "source": [
    "def fact( num ):\n",
    "    if( num == 1 ):\n",
    "        return 1 \n",
    "    else:\n",
    "        return num * fact( num -1 )\n",
    "\n",
    "print( fact( 6 ) )"
   ]
  },
  {
   "cell_type": "markdown",
   "metadata": {},
   "source": [
    "* **Recursive Fibonacci**\n"
   ]
  },
  {
   "cell_type": "code",
   "execution_count": 14,
   "metadata": {},
   "outputs": [
    {
     "name": "stdout",
     "output_type": "stream",
     "text": [
      "0\n",
      "1\n",
      "1\n",
      "2\n",
      "3\n",
      "5\n",
      "8\n",
      "13\n"
     ]
    }
   ],
   "source": [
    "def fibo( n ):\n",
    "    if(n == 0): return 0\n",
    "    if(n == 1): return 1 \n",
    "    return (fibo( n - 1 ) + fibo( n - 2 ))\n",
    "        \n",
    "for i in range( 0, 8 ):\n",
    "    print( fibo( i ) )"
   ]
  },
  {
   "cell_type": "markdown",
   "metadata": {},
   "source": [
    "#### ***EXAMPLE :*** \n"
   ]
  },
  {
   "cell_type": "markdown",
   "metadata": {},
   "source": [
    "* **Lamda - Map - Filter**\n"
   ]
  },
  {
   "cell_type": "code",
   "execution_count": 3,
   "metadata": {},
   "outputs": [
    {
     "name": "stdout",
     "output_type": "stream",
     "text": [
      "4\n",
      "nohtyp olleh\n"
     ]
    }
   ],
   "source": [
    "func = lambda x : x * 2 \n",
    "res = func( 2 )\n",
    "print( res )\n",
    "\n",
    "rev = lambda s : s[ ::-1 ]\n",
    "res = rev( \"hello python\" )\n",
    "\n",
    "print( res )"
   ]
  },
  {
   "cell_type": "markdown",
   "metadata": {},
   "source": [
    "### Practice - Loops"
   ]
  },
  {
   "cell_type": "markdown",
   "metadata": {},
   "source": [
    "#### ***EXAMPLE :*** \n"
   ]
  },
  {
   "cell_type": "code",
   "execution_count": 7,
   "metadata": {},
   "outputs": [],
   "source": [
    "products = [ {'name':'s6', 'price':'3000'},\n",
    "             {'name':'s7', 'price':'4000'},\n",
    "             {'name':'s8', 'price':'5000'},\n",
    "             {'name':'s9', 'price':'6000'}\n",
    "           ] "
   ]
  },
  {
   "cell_type": "markdown",
   "metadata": {},
   "source": [
    "* **How much is products total pay?**"
   ]
  },
  {
   "cell_type": "code",
   "execution_count": 28,
   "metadata": {},
   "outputs": [
    {
     "name": "stdout",
     "output_type": "stream",
     "text": [
      "18000\n"
     ]
    }
   ],
   "source": [
    "tot = 0\n",
    "for pro in products:   \n",
    "    tot += int( pro[ 'price' ] ) \n",
    "print( tot ) "
   ]
  },
  {
   "cell_type": "markdown",
   "metadata": {},
   "source": [
    "* **Which products have the highest price is 4000 ?**"
   ]
  },
  {
   "cell_type": "code",
   "execution_count": 29,
   "metadata": {},
   "outputs": [
    {
     "name": "stdout",
     "output_type": "stream",
     "text": [
      "s6\n",
      "s7\n"
     ]
    }
   ],
   "source": [
    "for pro in products:   \n",
    "    pay = int( pro[ 'price' ] )\n",
    "    if( pay <= 4000 ):\n",
    "        print( pro[ 'name'] )"
   ]
  },
  {
   "cell_type": "markdown",
   "metadata": {},
   "source": [
    "#### ***EXAMPLE :*** \n"
   ]
  },
  {
   "cell_type": "markdown",
   "metadata": {},
   "source": [
    "* **Get 5 number and write with order small to big ( WHILE ) ?**"
   ]
  },
  {
   "cell_type": "code",
   "execution_count": 2,
   "metadata": {},
   "outputs": [
    {
     "name": "stdout",
     "output_type": "stream",
     "text": [
      "enter lst number 1: 1\n",
      "enter lst number 1: 3\n",
      "enter lst number 1: 2\n",
      "enter lst number 1: 3\n",
      "enter lst number 1: 2\n",
      "[1, 2, 2, 3, 3]\n"
     ]
    }
   ],
   "source": [
    "n = 0 \n",
    "lst = list()\n",
    "while( n < 5 ):\n",
    "    num = int(input( \"enter lst number 1: \" ))\n",
    "    lst.append( num )\n",
    "    n += 1\n",
    "lst.sort()\n",
    "print( lst )"
   ]
  },
  {
   "cell_type": "markdown",
   "metadata": {},
   "source": [
    "\n",
    "#### ***EXAMPLE :*** \n"
   ]
  },
  {
   "cell_type": "markdown",
   "metadata": {},
   "source": [
    "* **Product**\n",
    "  - Product number by user.\n",
    "  - Put a dictinory this product (name, price )\n",
    "  - Write this products while loop**"
   ]
  },
  {
   "cell_type": "code",
   "execution_count": 6,
   "metadata": {},
   "outputs": [
    {
     "name": "stdout",
     "output_type": "stream",
     "text": [
      "enter total product number: 3\n",
      "enter product name: s1\n",
      "enter pay: 100\n",
      "enter product name: s2\n",
      "enter pay: 200\n",
      "enter product name: s3\n",
      "enter pay: 300\n",
      "\n",
      "\n",
      "product name: s1 pay: 100\n",
      "product name: s2 pay: 200\n",
      "product name: s3 pay: 300\n"
     ]
    }
   ],
   "source": [
    "n = int(input( \"enter total product number: \" ))\n",
    "products = list()\n",
    "while( n > 0 ):\n",
    "    name = input( \"enter product name: \" )\n",
    "    pay = int(input( \"enter pay: \" ))\n",
    "    products.append({\n",
    "           'name' : name,\n",
    "           'price': pay,\n",
    "    })\n",
    "    n -= 1\n",
    "    \n",
    "print( \"\\n\" )\n",
    "\n",
    "for pro in products:\n",
    "    print( f\"product name: {pro[ 'name']} pay: {pro[ 'price' ]}\" )"
   ]
  },
  {
   "cell_type": "markdown",
   "metadata": {},
   "source": [
    "### Practice - Conditional Statements ( if / elif / else  )"
   ]
  },
  {
   "cell_type": "markdown",
   "metadata": {},
   "source": [
    "#### ***EXAMPLE :*** \n",
    "* **Car Care Period**\n",
    " - Which date your car were in the traffic first time ?\n",
    "   - First care  = 1. year\n",
    "   - Second care = 2. year\n",
    "   - Third care = 3. year\n",
    " - Calculate time according to day month and year.( You should be datetime module )\n",
    "   - ( now ) - ( 2018/8/1 ) --> day "
   ]
  },
  {
   "cell_type": "code",
   "execution_count": 29,
   "metadata": {},
   "outputs": [
    {
     "name": "stdout",
     "output_type": "stream",
     "text": [
      "which date your car were in first time in the traffic ( YEAR / MONTH / DAY )? 2020/9/1\n",
      "\n",
      "first time : 2020-09-01 00:00:00\n",
      "\n",
      "now : 2020-09-25 22:59:45.300314\n",
      "\n",
      "passed day : 24\n",
      "\n",
      "\n",
      "first care\n"
     ]
    }
   ],
   "source": [
    "import datetime\n",
    "\n",
    "date = input( \"which date your car were in first time in the traffic ( YEAR / MONTH / DAY )? \")\n",
    "date = date.split('/')\n",
    "\n",
    "year = date[ 0 ]\n",
    "month = date[ 1 ] \n",
    "day = date[ 2 ] \n",
    "\n",
    "first = datetime.datetime( int( year ), int( month ), int( day ) )\n",
    "print( \"\\nfirst time :\",first )\n",
    "\n",
    "now = datetime.datetime.now()\n",
    "print( \"\\nnow :\",now )\n",
    "\n",
    "passed_time = now - first\n",
    "passed_day = passed_time.days\n",
    "\n",
    "print( \"\\npassed day :\",passed_day )\n",
    "print( \"\\n\" )\n",
    "\n",
    "if( passed_day <= 365 ):\n",
    "    print( \"first care\" )\n",
    "elif( passed_day > 365 and passed_day <= 365*2 ):\n",
    "    print( \"second care\" )\n",
    "elif( passed_day > 365*2 and passed_day <= 365*3 ):\n",
    "    print( \"third care\" )\n",
    "else:\n",
    "    print( \"wrong !\" )\n"
   ]
  },
  {
   "cell_type": "markdown",
   "metadata": {},
   "source": [
    "### **Practice - Operators**"
   ]
  },
  {
   "cell_type": "markdown",
   "metadata": {},
   "source": [
    "#### ***EXAMPLE :*** \n",
    "* **Get 2 visa note( %60 ) and 1 final note( %40 )**\n",
    "* **a- If avarage is 50 the final note must be minimum 50**\n",
    "* **If the final note is 70, not important the other notes.**\n"
   ]
  },
  {
   "cell_type": "code",
   "execution_count": 5,
   "metadata": {},
   "outputs": [
    {
     "name": "stdout",
     "output_type": "stream",
     "text": [
      "visa1 = 50\n",
      "visa2 = 60\n",
      "final = 50\n",
      "the student avarage = 53.0 and pass st = True\n"
     ]
    }
   ],
   "source": [
    "visa1 = float(input( \"visa1 = \" )) \n",
    "visa2= float(input( \"visa2 = \" )) \n",
    "final = float(input( \"final = \" ))\n",
    "\n",
    "avr = ( (visa1 + visa2) / 2 ) * 0.6 + ( final ) * 0.4\n",
    "result = ( ( avr >= 50 ) and ( final >= 50 ) ) or ( final >= 70 )\n",
    "#result = ( avr >= 50 ) or ( final >= 70 )\n",
    "\n",
    "print( f\"the student avarage = { avr } and pass st = { result }\" )"
   ]
  },
  {
   "cell_type": "markdown",
   "metadata": {},
   "source": [
    "#### ***EXAMPLE :*** \n",
    "**Sublist With Operators**"
   ]
  },
  {
   "cell_type": "code",
   "execution_count": 3,
   "metadata": {},
   "outputs": [
    {
     "name": "stdout",
     "output_type": "stream",
     "text": [
      "1 [5, 7, 10] 6\n",
      "216\n"
     ]
    }
   ],
   "source": [
    "x, y, z = 2, 5, 10\n",
    "\n",
    "numbers = 1, 5, 7, 10, 6\n",
    "\n",
    "# According to x, *y, z = numbers equalation what is z ^ 3 \n",
    "x, *y, z = numbers\n",
    "print( x, y, z )\n",
    "res = z ** 3 \n",
    "print( res )\n"
   ]
  },
  {
   "cell_type": "code",
   "execution_count": null,
   "metadata": {},
   "outputs": [],
   "source": [
    "# According to x, *y, z = numbers equalation what is sum y values \n",
    "x, *y, z = numbers\n",
    "print( x, y, z )\n",
    "\n",
    "sum = y[ 0 ] + y[ 1 ] + y[ 2 ]\n",
    "print( sum )\n",
    "\n",
    "s = 0\n",
    "for e in y:\n",
    "    s += e \n",
    "    \n",
    "print( s )"
   ]
  },
  {
   "cell_type": "markdown",
   "metadata": {},
   "source": [
    "### **Practice - Objects & Data Types**"
   ]
  },
  {
   "cell_type": "markdown",
   "metadata": {},
   "source": [
    "#### ***EXAMPLE :*** \n",
    "**Create a list like that and write it**\n",
    "    * student_a = cgr 2010, (70,60,70)\n",
    "    * student_b = sena 1999, (80,80,70)\n",
    "    * student_c = ahmet 1998, (80,70,90)"
   ]
  },
  {
   "cell_type": "code",
   "execution_count": 1,
   "metadata": {},
   "outputs": [
    {
     "name": "stdout",
     "output_type": "stream",
     "text": [
      "['cgr', 1994, [70, 60, 70], 'sena', 1999, [80, 80, 70], 'ahmet', 1998, [80, 70, 90]]\n",
      "cgr is 26 years old and note avr = 66.67\n"
     ]
    }
   ],
   "source": [
    "stu_a = [ \"cgr\", 1994, [ 70,60,70 ] ]\n",
    "stu_b = [ \"sena\", 1999, [ 80,80,70 ] ]\n",
    "stu_c = [ \"ahmet\", 1998, [ 80,70,90 ] ]\n",
    "\n",
    "s = stu_a + stu_b + stu_c\n",
    "print( s )    \n",
    "\n",
    "res = stu_a[ 0 ]\n",
    "res = stu_c[ 2 ][ 2 ]\n",
    "\n",
    "avr = ( stu_a[ 2 ][ 0 ] + stu_a[ 2 ][ 1 ] + stu_a[ 2 ][ 2 ] ) / 3 \n",
    "res = ( f\"{ stu_a[ 0 ] } is { 2020 - stu_a[ 1 ] } years old and note avr = {avr:.2f}\" ) \n",
    "# res = ( \"{} is {} years old and note avr {:.2f}\".format( stu_a[ 0 ], ( 2020 - stu_a[ 1 ] ), avr ))\n",
    "print( res )"
   ]
  },
  {
   "cell_type": "markdown",
   "metadata": {},
   "source": [
    "#### ***EXAMPLE :*** \n",
    "* **Put in a list that  the three value entered by user**"
   ]
  },
  {
   "cell_type": "code",
   "execution_count": 3,
   "metadata": {},
   "outputs": [
    {
     "name": "stdout",
     "output_type": "stream",
     "text": [
      "enter car: OPEL\n",
      "enter car: MAZDA\n",
      "enter car: RENAULT\n",
      "['OPEL', 'MAZDA', 'RENAULT']\n"
     ]
    }
   ],
   "source": [
    "# Put in a list that  the three value entered by user\n",
    "cars = []\n",
    "for i in range ( 0,3 ):\n",
    "    car = input( \"enter car: \")\n",
    "    cars.append( car )\n",
    "\n",
    "print( cars ) "
   ]
  },
  {
   "cell_type": "markdown",
   "metadata": {},
   "source": [
    "#### ***EXAMPLE :*** \n",
    "* **Replace \"world\" with \"there\" in the \"hello world\" string**\n",
    "* **Print contents in 50 * char**"
   ]
  },
  {
   "cell_type": "code",
   "execution_count": 3,
   "metadata": {},
   "outputs": [
    {
     "name": "stdout",
     "output_type": "stream",
     "text": [
      "hello there\n",
      "*********************contents*********************\n",
      "******************************************contests\n",
      "contests''''''''''''''''''''''''''''''''''''''''''\n"
     ]
    }
   ],
   "source": [
    "# replace \"world\" with \"there\" in the \"hello world\" string\n",
    "s = \"hello world\".replace( \"world\",\"there\" ) \n",
    "print( s )\n",
    "\n",
    "# print \" *********contents *********** \" in 50 char\n",
    "s = \"contents\". center( 50, '*') \n",
    "print( s )\n",
    "s = \"contests\".rjust( 50, \"*\")\n",
    "print( s )\n",
    "s = \"contests\".ljust( 50, \"'\")\n",
    "print( s )"
   ]
  },
  {
   "cell_type": "markdown",
   "metadata": {},
   "source": [
    "#### ***EXAMPLE :*** \n",
    "* **Enter two number and replace with each other.**"
   ]
  },
  {
   "cell_type": "code",
   "execution_count": 4,
   "metadata": {},
   "outputs": [
    {
     "name": "stdout",
     "output_type": "stream",
     "text": [
      "a : 3\n",
      "b : 4\n",
      "normal situation a:3 b:4\n",
      "\n",
      "replace each other a:4 b:3\n"
     ]
    }
   ],
   "source": [
    "\n",
    "a = int(input( \"a : \" ))\n",
    "b = int(input( \"b : \" ))\n",
    "print( f\"normal situation a:{ a } b:{ b }\\n\" )\n",
    "\n",
    "a,b = b,a \n",
    "print( f\"replace each other a:{ a } b:{ b }\" )"
   ]
  },
  {
   "cell_type": "markdown",
   "metadata": {},
   "source": [
    "#### ***EXAMPLE :*** \n",
    "* **Take the two perpendicular sides (a, b) of a right triangle from the user and try to find the hypotenuse length.** \n",
    "* **Formula : a^2 + b^2 = c^2**"
   ]
  },
  {
   "cell_type": "code",
   "execution_count": 1,
   "metadata": {},
   "outputs": [
    {
     "name": "stdout",
     "output_type": "stream",
     "text": [
      "4\n",
      "3\n",
      "hipo  5.0\n"
     ]
    }
   ],
   "source": [
    "a = int(input())\n",
    "b = int(input())\n",
    "\n",
    "c = ( a ** 2 + b ** 2 ) ** 0.5  \n",
    "\n",
    "print( \"hipo \",c )\n",
    "\n",
    "\n",
    "#print( f\"if the sides of right triangle is a:{ a } b:{ b }, hypotenuse is c:{ c }\" )  "
   ]
  },
  {
   "cell_type": "markdown",
   "metadata": {},
   "source": [
    "#### ***EXAMPLE :*** \n",
    "**Create a student information list and write it**"
   ]
  },
  {
   "cell_type": "code",
   "execution_count": 7,
   "metadata": {},
   "outputs": [
    {
     "name": "stdout",
     "output_type": "stream",
     "text": [
      "enter total student number: 2\n",
      "enter no:100\n",
      "enter name:cagri\n",
      "enter phone: 456\n",
      "enter no:200\n",
      "enter name:ezgi\n",
      "enter phone: 566\n",
      "\n",
      "\n",
      "0. order student no = 100 - student name = cagri - student phone = 456\n",
      "1. order student no = 200 - student name = ezgi - student phone = 566\n",
      "\n",
      "\n",
      "enter student ord :0\n",
      "0. student no = 100 - student name = cagri\n",
      "\n",
      "\n"
     ]
    }
   ],
   "source": [
    "\n",
    "# students = {}\n",
    "students = dict()\n",
    "size = int(input(\"enter total student number: \" ))\n",
    "\n",
    "for order in range( 0, size ):\n",
    "    number = int(input( \"enter no:\" ))\n",
    "    name = input( \"enter name:\" )\n",
    "    phone = input( \"enter phone: \" )\n",
    "    students[ order ] =  {\n",
    "          'number': number,\n",
    "          'name'  : name,\n",
    "          'phone' : phone\n",
    "    }\n",
    "\n",
    "print( \"\\n\" )\n",
    "\n",
    "for order in students: \n",
    "    student = students[ order ]\n",
    "    print( f\"{order}. order student no = {student['number']} - student name = {student['name']} - student phone = {student['phone']}\")\n",
    "\n",
    "print( \"\\n\" )\n",
    "\n",
    "order = int(input(\"enter student ord :\"))\n",
    "std = students[ order ]\n",
    "print( f\"{order}. student no = { std['number'] } - student name = {std['name']}\")\n",
    "\n",
    "print( \"\\n\" )"
   ]
  }
 ],
 "metadata": {
  "kernelspec": {
   "display_name": "Python 3",
   "language": "python",
   "name": "python3"
  },
  "language_info": {
   "codemirror_mode": {
    "name": "ipython",
    "version": 3
   },
   "file_extension": ".py",
   "mimetype": "text/x-python",
   "name": "python",
   "nbconvert_exporter": "python",
   "pygments_lexer": "ipython3",
   "version": "3.7.6"
  }
 },
 "nbformat": 4,
 "nbformat_minor": 4
}
