{
 "cells": [
  {
   "cell_type": "code",
   "execution_count": 2,
   "metadata": {},
   "outputs": [
    {
     "output_type": "stream",
     "name": "stdout",
     "text": [
      "1.2.2\n3.141.0\n3.14.1\n\n\n1.19.2\n3.3.4\n1.2.2\n1.6.1\n3.141.0\n"
     ]
    }
   ],
   "source": [
    "# import cv2\n",
    "import numpy\n",
    "import matplotlib\n",
    "import scipy\n",
    "import pandas\n",
    "import selenium\n",
    "from selenium import webdriver\n",
    "\n",
    "print( pandas.__version__)\n",
    "print( selenium.__version__)\n",
    "print( webdriver.__version__)\n",
    "print(\"\\n\")\n",
    "\n",
    "# print( cv2.__version__)\n",
    "print( numpy.__version__)\n",
    "print( matplotlib.__version__)\n",
    "print( pandas.__version__)\n",
    "print( scipy.__version__)\n",
    "print( selenium.__version__)\n"
   ]
  }
 ],
 "metadata": {
  "kernelspec": {
   "display_name": "Python 3.8.5 64-bit ('base': conda)",
   "language": "python",
   "name": "python38564bitbasecondaa36d23ca368c4a06b017f2cbb1bc53a3"
  },
  "language_info": {
   "codemirror_mode": {
    "name": "ipython",
    "version": 3
   },
   "file_extension": ".py",
   "mimetype": "text/x-python",
   "name": "python",
   "nbconvert_exporter": "python",
   "pygments_lexer": "ipython3",
   "version": "3.8.5-final"
  }
 },
 "nbformat": 4,
 "nbformat_minor": 4
}