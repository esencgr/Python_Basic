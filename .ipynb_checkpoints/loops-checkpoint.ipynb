{
 "cells": [
  {
   "cell_type": "markdown",
   "metadata": {},
   "source": [
    "## **LOOPS**"
   ]
  },
  {
   "cell_type": "markdown",
   "metadata": {},
   "source": [
    "### ***For Loops***"
   ]
  },
  {
   "cell_type": "code",
   "execution_count": 15,
   "metadata": {},
   "outputs": [
    {
     "name": "stdout",
     "output_type": "stream",
     "text": [
      "1\n",
      "2\n",
      "3\n",
      "4\n",
      "5\n"
     ]
    }
   ],
   "source": [
    "numbers = [ 1, 2, 3, 4, 5 ]  # list \n",
    "for num in numbers:\n",
    "    print( num )\n",
    "    #print( \"hi\" )   # writes 5 times hi because numbers list len = 5"
   ]
  },
  {
   "cell_type": "code",
   "execution_count": 16,
   "metadata": {},
   "outputs": [
    {
     "name": "stdout",
     "output_type": "stream",
     "text": [
      "my name is ali\n",
      "my name is veli\n"
     ]
    }
   ],
   "source": [
    "names = [ \"ali\", \"veli\" ]   # list \n",
    "for name in names:\n",
    "    print( f\"my name is {name}\" )"
   ]
  },
  {
   "cell_type": "code",
   "execution_count": 17,
   "metadata": {},
   "outputs": [
    {
     "name": "stdout",
     "output_type": "stream",
     "text": [
      "python\n"
     ]
    }
   ],
   "source": [
    "word = [ 'python' ]   # list \n",
    "for char in word:\n",
    "    print( char )"
   ]
  },
  {
   "cell_type": "code",
   "execution_count": 28,
   "metadata": {},
   "outputs": [
    {
     "name": "stdout",
     "output_type": "stream",
     "text": [
      "1 2\n",
      "3 4\n"
     ]
    }
   ],
   "source": [
    "# tup = ( 1, 2, 3, 4 )           # tuple\n",
    "# tup = ( [ 1, 2 ], [ 3, 4 ] )   # tuple\n",
    "# tup = ( { 1, 2 }, { 3, 4 } )   # tuple\n",
    "\n",
    "tup = [ ( 1, 2 ), ( 3, 4 ) ]     # tuple\n",
    "for a,b in tup :\n",
    "    print( a,b )"
   ]
  },
  {
   "cell_type": "code",
   "execution_count": 38,
   "metadata": {},
   "outputs": [
    {
     "name": "stdout",
     "output_type": "stream",
     "text": [
      "k1\n",
      "k2\n",
      "k3\n",
      "('k1', 1)\n",
      "('k2', 2)\n",
      "('k3', 3)\n",
      "k1 1\n",
      "k2 2\n",
      "k3 3\n"
     ]
    }
   ],
   "source": [
    "dic = { \"k1\":1, \"k2\":2, \"k3\":3 }\n",
    "for item in dic:\n",
    "    print( item )          # only key information\n",
    "    \n",
    "for item in dic.items():\n",
    "    print( item )          # each elements information\n",
    "    \n",
    "for key,value in dic.items():\n",
    "    print( key,value )     # key and value info "
   ]
  },
  {
   "cell_type": "markdown",
   "metadata": {},
   "source": [
    "#### ***EXAMPLE***\n",
    "* **Which numbers in list is a multiple of 3?**"
   ]
  },
  {
   "cell_type": "code",
   "execution_count": 40,
   "metadata": {},
   "outputs": [],
   "source": [
    "lst = [ 1, 3, 5, 7, 9, 12, 19, 21 ]"
   ]
  },
  {
   "cell_type": "code",
   "execution_count": 41,
   "metadata": {},
   "outputs": [
    {
     "name": "stdout",
     "output_type": "stream",
     "text": [
      "3\n",
      "9\n",
      "12\n",
      "21\n"
     ]
    }
   ],
   "source": [
    "for num in lst:\n",
    "    if( num % 3 == 0 ):\n",
    "        print( num )"
   ]
  },
  {
   "cell_type": "markdown",
   "metadata": {},
   "source": [
    "* **What is sum of numbers in the list ?**"
   ]
  },
  {
   "cell_type": "code",
   "execution_count": 42,
   "metadata": {},
   "outputs": [
    {
     "name": "stdout",
     "output_type": "stream",
     "text": [
      "77\n"
     ]
    }
   ],
   "source": [
    "tot = 0\n",
    "for num in lst:\n",
    "    tot += num \n",
    "print( tot )"
   ]
  },
  {
   "cell_type": "markdown",
   "metadata": {},
   "source": [
    "* **What is square of odd numbers  ?**"
   ]
  },
  {
   "cell_type": "code",
   "execution_count": 44,
   "metadata": {},
   "outputs": [
    {
     "name": "stdout",
     "output_type": "stream",
     "text": [
      "1\n",
      "9\n",
      "25\n",
      "49\n",
      "81\n",
      "361\n",
      "441\n"
     ]
    }
   ],
   "source": [
    "for num in lst:\n",
    "    if( num % 2 == 1 ):\n",
    "        print( num ** 2 )"
   ]
  },
  {
   "cell_type": "markdown",
   "metadata": {},
   "source": [
    "* **Which cities include the most of 5 caharacter ?**"
   ]
  },
  {
   "cell_type": "code",
   "execution_count": 46,
   "metadata": {},
   "outputs": [],
   "source": [
    "cities = [ \"kocaeli\", \"istanbul\", \"ankara\", \"izmir\", \"rize\" ]"
   ]
  },
  {
   "cell_type": "code",
   "execution_count": 50,
   "metadata": {},
   "outputs": [
    {
     "name": "stdout",
     "output_type": "stream",
     "text": [
      "izmir\n",
      "rize\n"
     ]
    }
   ],
   "source": [
    "for city in cities:\n",
    "    size = len( city )\n",
    "    if( size <= 5 ):\n",
    "        print( city )"
   ]
  },
  {
   "cell_type": "markdown",
   "metadata": {},
   "source": [
    "### ***While Loops***"
   ]
  },
  {
   "cell_type": "code",
   "execution_count": 1,
   "metadata": {},
   "outputs": [
    {
     "name": "stdout",
     "output_type": "stream",
     "text": [
      "1\n",
      "3\n",
      "5\n",
      "7\n",
      "9\n"
     ]
    }
   ],
   "source": [
    "n = 0\n",
    "lst = [ 1, 3, 5, 7, 9 ]\n",
    "while( n < len(lst) ):\n",
    "    print( lst[ n ] )\n",
    "    n+=1"
   ]
  },
  {
   "cell_type": "markdown",
   "metadata": {},
   "source": [
    "# ***EXAMPLE***\n",
    "* **Odd and even numbers betwween 0-100 ?**"
   ]
  },
  {
   "cell_type": "code",
   "execution_count": 21,
   "metadata": {},
   "outputs": [
    {
     "name": "stdout",
     "output_type": "stream",
     "text": [
      "odd numbers in 0-100 = [1, 3, 5, 7, 9, 11, 13, 15, 17, 19, 21, 23, 25, 27, 29, 31, 33, 35, 37, 39, 41, 43, 45, 47, 49, 51, 53, 55, 57, 59, 61, 63, 65, 67, 69, 71, 73, 75, 77, 79, 81, 83, 85, 87, 89, 91, 93, 95, 97, 99]\n",
      "\n",
      " \n",
      "even numbers in 0-100 = [0, 2, 4, 6, 8, 10, 12, 14, 16, 18, 20, 22, 24, 26, 28, 30, 32, 34, 36, 38, 40, 42, 44, 46, 48, 50, 52, 54, 56, 58, 60, 62, 64, 66, 68, 70, 72, 74, 76, 78, 80, 82, 84, 86, 88, 90, 92, 94, 96, 98]\n"
     ]
    }
   ],
   "source": [
    "n = 0\n",
    "odds = list()\n",
    "evens = list()\n",
    "\n",
    "while( n < 100 ):\n",
    "    if( n % 2 == 1 ):\n",
    "        odds.append( n )\n",
    "    else:\n",
    "        evens.append( n ) \n",
    "    n += 1    \n",
    "\n",
    "print( f\"odd numbers in 0-100 = { odds }\" )\n",
    "print( \"\\n\" )\n",
    "print( f\"even numbers in 0-100 = { evens }\" )\n"
   ]
  },
  {
   "cell_type": "code",
   "execution_count": 23,
   "metadata": {},
   "outputs": [
    {
     "name": "stdout",
     "output_type": "stream",
     "text": [
      "enter name : \n",
      "enter name : \n",
      "enter name : cagri\n",
      "hello, cagri\n"
     ]
    }
   ],
   "source": [
    "name = \"\"\n",
    "while not name:\n",
    "     name = input( \"enter name : \" )\n",
    "\n",
    "print( f\"hello, {name}\" ) "
   ]
  },
  {
   "cell_type": "code",
   "execution_count": null,
   "metadata": {},
   "outputs": [],
   "source": [
    "\n",
    "\n",
    "\n",
    "\n",
    "\n",
    "\n",
    "\n",
    "\n",
    "\n",
    "\n",
    "\n",
    "\n",
    "\n",
    "\n",
    "\n",
    "\n",
    "\n",
    "\n",
    "\n",
    "\n",
    "\n",
    "\n",
    "\n"
   ]
  }
 ],
 "metadata": {
  "kernelspec": {
   "display_name": "Python 3",
   "language": "python",
   "name": "python3"
  },
  "language_info": {
   "codemirror_mode": {
    "name": "ipython",
    "version": 3
   },
   "file_extension": ".py",
   "mimetype": "text/x-python",
   "name": "python",
   "nbconvert_exporter": "python",
   "pygments_lexer": "ipython3",
   "version": "3.8.3"
  }
 },
 "nbformat": 4,
 "nbformat_minor": 4
}
