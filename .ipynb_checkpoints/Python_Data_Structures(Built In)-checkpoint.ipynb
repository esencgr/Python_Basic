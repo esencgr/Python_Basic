{
 "cells": [
  {
   "cell_type": "markdown",
   "id": "handed-silly",
   "metadata": {},
   "source": [
    "# DATA STRUCTURES (BUILT-IN)"
   ]
  },
  {
   "cell_type": "markdown",
   "id": "assumed-satellite",
   "metadata": {},
   "source": [
    "## **1. LISTS**"
   ]
  },
  {
   "cell_type": "markdown",
   "id": "grateful-telephone",
   "metadata": {},
   "source": [
    "### ***METHODS***"
   ]
  },
  {
   "cell_type": "markdown",
   "id": "registered-substitute",
   "metadata": {},
   "source": [
    "- The list data type has some more methods. Here are all of the methods of list objects:"
   ]
  },
  {
   "cell_type": "code",
   "execution_count": 75,
   "id": "subsequent-shell",
   "metadata": {
    "scrolled": true
   },
   "outputs": [
    {
     "name": "stdout",
     "output_type": "stream",
     "text": [
      "[1, 2, 3, 4, 10]\n",
      "[1, 2, 3, 4, 10]\n",
      "[1, 2, 3, 4, [0, 10, 20]]\n"
     ]
    }
   ],
   "source": [
    "# APPEND\n",
    "lst = [1,2,3,4]\n",
    "lst.append(10)\n",
    "print(lst)\n",
    "\n",
    "# EQUAL TO APPEND\n",
    "lst = [1,2,3,4]\n",
    "lst[len(lst):] = [10]\n",
    "print(lst)"
   ]
  },
  {
   "cell_type": "code",
   "execution_count": 24,
   "id": "upper-habitat",
   "metadata": {},
   "outputs": [
    {
     "name": "stdout",
     "output_type": "stream",
     "text": [
      "[1, 2, 3, 4, 10, 20, 30]\n",
      "[1, 2, 3, 4, 10, 20, 30]\n",
      "[1, 10, 10, 3, 4]\n"
     ]
    }
   ],
   "source": [
    "# EXTEND\n",
    "lst = [1,2,3,4]\n",
    "lst.extend([10,20,30])\n",
    "print(lst)\n",
    "\n",
    "# EQUAL TO EXTEND\n",
    "lst = [1,2,3,4]\n",
    "lst[len(lst):] = [10,20,30]\n",
    "print(lst)"
   ]
  },
  {
   "cell_type": "code",
   "execution_count": 76,
   "id": "dutch-network",
   "metadata": {},
   "outputs": [
    {
     "name": "stdout",
     "output_type": "stream",
     "text": [
      "[1, 2, 3, 4, [0, 10, 20]]\n",
      "[1, 2, 3, 4, 0, 10, 20]\n"
     ]
    }
   ],
   "source": [
    "# APPEND vs EXTEND (ADD LIST TWO METHODS)\n",
    "\n",
    "# APPEND\n",
    "lst = [1,2,3,4]\n",
    "l = [0,10,20]\n",
    "lst.append(l)\n",
    "print(lst)\n",
    "\n",
    "# EXTEND\n",
    "lst = [1,2,3,4]\n",
    "l = [0,10,20]\n",
    "lst.extend(l)\n",
    "print(lst)"
   ]
  },
  {
   "cell_type": "code",
   "execution_count": 32,
   "id": "appreciated-director",
   "metadata": {},
   "outputs": [
    {
     "name": "stdout",
     "output_type": "stream",
     "text": [
      "[1, 10, 2, 3, 4]\n",
      "[1, 10, 3, 4]\n",
      "[1, 10, 2, 3, 4]\n"
     ]
    }
   ],
   "source": [
    "# INSERT\n",
    "lst = [1,2,3,4]\n",
    "lst.insert(1,10)\n",
    "print(lst)\n",
    "\n",
    "# EQUAL TO INSERT\n",
    "lst = [1,2,3,4]\n",
    "lst[1:1] = [10]\n",
    "print(lst)"
   ]
  },
  {
   "cell_type": "code",
   "execution_count": 39,
   "id": "metropolitan-style",
   "metadata": {},
   "outputs": [
    {
     "name": "stdout",
     "output_type": "stream",
     "text": [
      "[1, 2, 4]\n"
     ]
    }
   ],
   "source": [
    "# REMOVE\n",
    "lst = [1,2,3,4]\n",
    "lst.remove(3)\n",
    "print(lst)"
   ]
  },
  {
   "cell_type": "code",
   "execution_count": 42,
   "id": "cross-state",
   "metadata": {},
   "outputs": [
    {
     "name": "stdout",
     "output_type": "stream",
     "text": [
      "4\n",
      "[1, 2, 3]\n",
      "3\n",
      "[1, 2, 4]\n"
     ]
    }
   ],
   "source": [
    "# POP\n",
    "lst = [1,2,3,4]\n",
    "d = lst.pop()\n",
    "print(d)\n",
    "print(lst)\n",
    "\n",
    "# POP - Popped any element\n",
    "lst = [1,2,3,4]\n",
    "d = lst.pop(2)\n",
    "print(d)\n",
    "print(lst)"
   ]
  },
  {
   "cell_type": "code",
   "execution_count": 55,
   "id": "center-chance",
   "metadata": {},
   "outputs": [
    {
     "name": "stdout",
     "output_type": "stream",
     "text": [
      "2\n",
      "6\n"
     ]
    }
   ],
   "source": [
    "# INDEX\n",
    "lst = [1,2,3,4,1,2,3]\n",
    "print(lst.index(3))\n",
    "\n",
    "# INDEX - Find next index starting a position 4\n",
    "lst = [1,2,3,4,1,2,3]\n",
    "print(lst.index(3,4))"
   ]
  },
  {
   "cell_type": "code",
   "execution_count": 59,
   "id": "champion-steal",
   "metadata": {},
   "outputs": [
    {
     "name": "stdout",
     "output_type": "stream",
     "text": [
      "2\n",
      "0\n"
     ]
    }
   ],
   "source": [
    "# COUNT\n",
    "lst = [1,2,3,4,1,2,3]\n",
    "print(lst.count(3))\n",
    "\n",
    "lst = [1,2,3,4,1,2,3,3]\n",
    "print(lst.count(100))"
   ]
  },
  {
   "cell_type": "code",
   "execution_count": 70,
   "id": "neural-split",
   "metadata": {},
   "outputs": [
    {
     "name": "stdout",
     "output_type": "stream",
     "text": [
      "[1, 1, 2, 2, 3, 3, 4]\n",
      "[4, 3, 3, 2, 2, 1, 1]\n",
      "['abc', 'cpp', 'python']\n"
     ]
    }
   ],
   "source": [
    "# SORT - (*, key=None, reverse=False) - increase order\n",
    "lst = [1,2,3,4,1,2,3]\n",
    "lst.sort()\n",
    "print(lst)\n",
    "\n",
    "# SORT - decrease order\n",
    "lst = [1,2,3,4,1,2,3]\n",
    "lst.sort(reverse=True)\n",
    "print(lst)\n",
    "\n",
    "# SORT - (*, key=None, reverse=False)\n",
    "lst = [\"cpp\",\"python\",\"abc\"]\n",
    "lst.sort()\n",
    "print(lst)"
   ]
  },
  {
   "cell_type": "code",
   "execution_count": 74,
   "id": "exceptional-ozone",
   "metadata": {
    "scrolled": false
   },
   "outputs": [
    {
     "name": "stdout",
     "output_type": "stream",
     "text": [
      "[4, 3, 2, 1]\n"
     ]
    }
   ],
   "source": [
    "# REVERSE\n",
    "lst = [1,2,3,4]\n",
    "lst.reverse()\n",
    "print(lst)"
   ]
  },
  {
   "cell_type": "code",
   "execution_count": 89,
   "id": "developing-assistant",
   "metadata": {
    "scrolled": false
   },
   "outputs": [
    {
     "name": "stdout",
     "output_type": "stream",
     "text": [
      "[1, 2, 3, 4] [1, 2, 3, 4]\n",
      "140623751828480\n",
      "140623751828480\n",
      "[1, 2, 3, 4, 100] [1, 2, 3, 4, 100]\n",
      "\n",
      "------------------------------------\n",
      "\n",
      "[1, 2, 3, 4] [1, 2, 3, 4]\n",
      "140623754441216\n",
      "140623754764864\n",
      "[1, 2, 3, 4] [1, 2, 3, 4, 100]\n"
     ]
    }
   ],
   "source": [
    "# SHALLOW COPY (sığ)\n",
    "lst1 = [1,2,3,4]\n",
    "lst2 = lst1\n",
    "print(lst2, lst1)\n",
    "\n",
    "\"\"\"adresses\"\"\"\n",
    "print(id(lst2))  \n",
    "print(id(lst1))\n",
    "\n",
    "lst1.append(100)\n",
    "print(lst2, lst1)\n",
    "\n",
    "print(\"\\n------------------------------------\\n\")\n",
    "\n",
    "# DEEP COPY  (derin)\n",
    "lst1 = [1,2,3,4]\n",
    "lst2 = lst1.copy()\n",
    "print(lst2, lst1)\n",
    "\n",
    "\"\"\"adresses\"\"\"\n",
    "print(id(lst2))  \n",
    "print(id(lst1))\n",
    "\n",
    "lst1.append(100)\n",
    "print(lst2, lst1)"
   ]
  },
  {
   "cell_type": "markdown",
   "id": "entertaining-transcript",
   "metadata": {},
   "source": [
    "### ***USING LISTS AS STACK***"
   ]
  },
  {
   "cell_type": "markdown",
   "id": "opposite-holly",
   "metadata": {},
   "source": [
    "- The list methods make it very easy to use a list as a stack, where the last element added is the first element retrieved (“last-in, first-out”). \n",
    "- To add an item to the top of the stack, use append(). \n",
    "- To retrieve an item from the top of the stack, use pop() without an explicit index. \n",
    "\n",
    "***EXAMPLE***:"
   ]
  },
  {
   "cell_type": "code",
   "execution_count": 11,
   "id": "heard-longer",
   "metadata": {},
   "outputs": [
    {
     "name": "stdout",
     "output_type": "stream",
     "text": [
      "[10, 20, 30, 40]\n",
      "40\n",
      "[10, 20, 30]\n"
     ]
    }
   ],
   "source": [
    "stack = [10,20,30]\n",
    "\n",
    "stack.append(40)\n",
    "print(stack)\n",
    "\n",
    "print(stack.pop())\n",
    "print(stack)"
   ]
  },
  {
   "cell_type": "markdown",
   "id": "chief-cause",
   "metadata": {},
   "source": [
    "### ***USING LISTS AS QUEUES***"
   ]
  },
  {
   "cell_type": "markdown",
   "id": "related-premises",
   "metadata": {},
   "source": [
    "- It is also possible to use a list as a queue, where the first element added is the first element retrieved (“first-in, first-out”). \n",
    "- However, lists are not efficient for this purpose. While appends and pops from the end of list are fast, doing inserts or pops from the beginning of a list is slow *(because all of the other elements have to be shifted by one).*\n",
    "- To implement a queue, use ***collections.deque*** which was designed to have fast appends and pops from both ends. \n",
    "\n",
    "***EXAMPLE***:"
   ]
  },
  {
   "cell_type": "code",
   "execution_count": 33,
   "id": "legendary-square",
   "metadata": {
    "scrolled": true
   },
   "outputs": [
    {
     "name": "stdout",
     "output_type": "stream",
     "text": [
      "deque([10, 20, 30])\n",
      "deque([10, 20, 30, 40])\n",
      "10\n",
      "deque([20, 30, 40])\n",
      "-----------------------\n",
      "[10, 20, 30]\n",
      "10\n",
      "[20, 30, 40]\n"
     ]
    }
   ],
   "source": [
    "from collections import deque    # DATA STRUCTURES LIBRARY\n",
    "\n",
    "l = deque([10,20,30])\n",
    "print(l)\n",
    "\n",
    "l.append(40)\n",
    "print(l)\n",
    "\n",
    "print(l.popleft())\n",
    "print(l)\n",
    "\n",
    "print(\"-----------------------\")\n",
    "\n",
    "# EQUAL TO POPLEFT\n",
    "l = [10,20,30]\n",
    "print(l)\n",
    "l.append(40)\n",
    "\n",
    "print(l.pop(0))\n",
    "print(l)\n"
   ]
  },
  {
   "cell_type": "markdown",
   "id": "acquired-width",
   "metadata": {},
   "source": [
    "### ***LIST COMPREHENSIONS***"
   ]
  },
  {
   "cell_type": "markdown",
   "id": "broke-identifier",
   "metadata": {},
   "source": [
    "- List comprehensions provide a concise way to create lists. \n",
    "- Common applications are to make new lists where each element is the result of some operations applied to each member of another sequence or iterable, \n",
    "- Or to create a subsequence of those elements that satisfy a certain condition.\n",
    "\n",
    "***EXAMPLE*** : assume we want to create a list of squares, like:"
   ]
  },
  {
   "cell_type": "code",
   "execution_count": 44,
   "id": "bored-blues",
   "metadata": {},
   "outputs": [
    {
     "name": "stdout",
     "output_type": "stream",
     "text": [
      "[0, 1, 4, 9, 16, 25, 36, 49, 64, 81]\n",
      "9\n"
     ]
    }
   ],
   "source": [
    "squares = []\n",
    "for x in range(0,10):\n",
    "    squares.append(x**2)\n",
    "\n",
    "print(squares)\n",
    "print(x)                      # this called side effects. x is created and changed for purpose "
   ]
  },
  {
   "cell_type": "markdown",
   "id": "hairy-probability",
   "metadata": {},
   "source": [
    "- Note that this ***creates (or overwrites) a variable named x that still exists after the loop completes.***\n",
    "\n",
    "- We can calculate the list of squares ***without any side effects using:***"
   ]
  },
  {
   "cell_type": "code",
   "execution_count": 60,
   "id": "extraordinary-throw",
   "metadata": {},
   "outputs": [
    {
     "name": "stdout",
     "output_type": "stream",
     "text": [
      "[0, 1, 4, 9, 16, 25, 36, 49, 64, 81]\n"
     ]
    },
    {
     "ename": "NameError",
     "evalue": "name 's' is not defined",
     "output_type": "error",
     "traceback": [
      "\u001b[0;31m---------------------------------------------------------------------------\u001b[0m",
      "\u001b[0;31mNameError\u001b[0m                                 Traceback (most recent call last)",
      "\u001b[0;32m<ipython-input-60-9673d76580a9>\u001b[0m in \u001b[0;36m<module>\u001b[0;34m\u001b[0m\n\u001b[1;32m      1\u001b[0m \u001b[0msquares\u001b[0m \u001b[0;34m=\u001b[0m \u001b[0mlist\u001b[0m\u001b[0;34m(\u001b[0m\u001b[0mmap\u001b[0m\u001b[0;34m(\u001b[0m\u001b[0;32mlambda\u001b[0m \u001b[0ms\u001b[0m \u001b[0;34m:\u001b[0m \u001b[0ms\u001b[0m\u001b[0;34m**\u001b[0m\u001b[0;36m2\u001b[0m\u001b[0;34m,\u001b[0m \u001b[0mrange\u001b[0m\u001b[0;34m(\u001b[0m\u001b[0;36m0\u001b[0m\u001b[0;34m,\u001b[0m\u001b[0;36m10\u001b[0m\u001b[0;34m)\u001b[0m\u001b[0;34m)\u001b[0m\u001b[0;34m)\u001b[0m\u001b[0;34m\u001b[0m\u001b[0;34m\u001b[0m\u001b[0m\n\u001b[1;32m      2\u001b[0m \u001b[0mprint\u001b[0m\u001b[0;34m(\u001b[0m\u001b[0msquares\u001b[0m\u001b[0;34m)\u001b[0m\u001b[0;34m\u001b[0m\u001b[0;34m\u001b[0m\u001b[0m\n\u001b[0;32m----> 3\u001b[0;31m \u001b[0mprint\u001b[0m\u001b[0;34m(\u001b[0m\u001b[0ms\u001b[0m\u001b[0;34m)\u001b[0m\u001b[0;34m\u001b[0m\u001b[0;34m\u001b[0m\u001b[0m\n\u001b[0m",
      "\u001b[0;31mNameError\u001b[0m: name 's' is not defined"
     ]
    }
   ],
   "source": [
    "squares = list(map(lambda s : s**2, range(0,10)))\n",
    "print(squares)\n",
    "print(s)"
   ]
  },
  {
   "cell_type": "markdown",
   "id": "experimental-occurrence",
   "metadata": {},
   "source": [
    "- ***Or, equivalently:***"
   ]
  },
  {
   "cell_type": "code",
   "execution_count": 1,
   "id": "contained-maintenance",
   "metadata": {},
   "outputs": [
    {
     "name": "stdout",
     "output_type": "stream",
     "text": [
      "[0, 1, 4, 9, 16, 25, 36, 49, 64, 81]\n"
     ]
    },
    {
     "ename": "NameError",
     "evalue": "name 'p' is not defined",
     "output_type": "error",
     "traceback": [
      "\u001b[0;31m---------------------------------------------------------------------------\u001b[0m",
      "\u001b[0;31mNameError\u001b[0m                                 Traceback (most recent call last)",
      "\u001b[0;32m<ipython-input-1-bb02250bfb0b>\u001b[0m in \u001b[0;36m<module>\u001b[0;34m\u001b[0m\n\u001b[1;32m      2\u001b[0m \u001b[0msquares\u001b[0m \u001b[0;34m=\u001b[0m \u001b[0;34m[\u001b[0m\u001b[0mp\u001b[0m\u001b[0;34m**\u001b[0m\u001b[0;36m2\u001b[0m \u001b[0;32mfor\u001b[0m \u001b[0mp\u001b[0m \u001b[0;32min\u001b[0m \u001b[0mrange\u001b[0m\u001b[0;34m(\u001b[0m\u001b[0;36m0\u001b[0m\u001b[0;34m,\u001b[0m\u001b[0;36m10\u001b[0m\u001b[0;34m)\u001b[0m\u001b[0;34m]\u001b[0m\u001b[0;34m\u001b[0m\u001b[0;34m\u001b[0m\u001b[0m\n\u001b[1;32m      3\u001b[0m \u001b[0mprint\u001b[0m\u001b[0;34m(\u001b[0m\u001b[0msquares\u001b[0m\u001b[0;34m)\u001b[0m\u001b[0;34m\u001b[0m\u001b[0;34m\u001b[0m\u001b[0m\n\u001b[0;32m----> 4\u001b[0;31m \u001b[0mprint\u001b[0m\u001b[0;34m(\u001b[0m\u001b[0mp\u001b[0m\u001b[0;34m)\u001b[0m\u001b[0;34m\u001b[0m\u001b[0;34m\u001b[0m\u001b[0m\n\u001b[0m",
      "\u001b[0;31mNameError\u001b[0m: name 'p' is not defined"
     ]
    }
   ],
   "source": [
    "# EQUAL\n",
    "squares = [p**2 for p in range(0,10)]\n",
    "print(squares)\n",
    "print(p)"
   ]
  },
  {
   "cell_type": "markdown",
   "id": "enhanced-special",
   "metadata": {},
   "source": [
    "- In this two ways(without side effects) the ***p and s loop variable is temporary.*** \n",
    "- When the line is compiled and than this ***inline function and these variables completely removes.***"
   ]
  },
  {
   "cell_type": "code",
   "execution_count": 56,
   "id": "curious-extreme",
   "metadata": {},
   "outputs": [
    {
     "name": "stdout",
     "output_type": "stream",
     "text": [
      "[1, 4, 9]\n",
      "\n",
      "--------------------\n",
      "\n",
      "[1, 4, 9]\n"
     ]
    }
   ],
   "source": [
    "# MAP - LAMBDA \n",
    "def f(x):\n",
    "    return x**2\n",
    "\n",
    "l = [1,2,3]\n",
    "res = list(map(f,l))\n",
    "print(res)\n",
    "\n",
    "print(\"\\n--------------------\\n\")\n",
    "\n",
    "f = lambda x : x**2 \n",
    "\n",
    "l = [1,2,3]\n",
    "res = list(map(f,l))\n",
    "print(res)"
   ]
  },
  {
   "cell_type": "markdown",
   "id": "fuzzy-stocks",
   "metadata": {},
   "source": [
    "- A list comprehension consists of brackets containing an expression followed by a for clause, then zero or more for or if clauses. \n",
    "- The result will be a new list resulting from evaluating the expression in the context of the for and if clauses which follow it. \n",
    "\n",
    "***EXAMPLE*** : This listcomp combines the elements of two lists if they are not equal:"
   ]
  },
  {
   "cell_type": "code",
   "execution_count": 2,
   "id": "posted-determination",
   "metadata": {},
   "outputs": [
    {
     "name": "stdout",
     "output_type": "stream",
     "text": [
      "[(1, 3), (1, 4), (2, 3), (2, 1), (2, 4), (3, 1), (3, 4)]\n"
     ]
    }
   ],
   "source": [
    "lst = [(x, y) for x in [1,2,3] for y in [3,1,4] if x != y]\n",
    "print(lst)"
   ]
  },
  {
   "cell_type": "markdown",
   "id": "funny-florist",
   "metadata": {},
   "source": [
    "***EXAMPLE*** :\n"
   ]
  },
  {
   "cell_type": "code",
   "execution_count": 11,
   "id": "norwegian-italy",
   "metadata": {},
   "outputs": [
    {
     "name": "stdout",
     "output_type": "stream",
     "text": [
      "[-4, -2, 0, 2, 4]\n",
      "[-8, -4, 0, 4, 8]\n",
      "[0, 2, 4]\n",
      "[4, 2, 0, 2, 4]\n"
     ]
    }
   ],
   "source": [
    "# list\n",
    "vec = [-4, -2, 0, 2, 4]\n",
    "print(vec)\n",
    "\n",
    "# create a new list with the values doubled\n",
    "res = [x*2 for x in vec]\n",
    "print(res)\n",
    "\n",
    "# filter the list to exclude negative numbers\n",
    "res = [x for x in vec if x >= 0]\n",
    "print(res)\n",
    "\n",
    "# apply a function to all the elements\n",
    "res = [abs(x) for x in vec]\n",
    "print(res)"
   ]
  },
  {
   "cell_type": "code",
   "execution_count": 14,
   "id": "guilty-limitation",
   "metadata": {},
   "outputs": [
    {
     "name": "stdout",
     "output_type": "stream",
     "text": [
      "[['banana'], ['loganberry'], ['passion', 'fruit']]\n"
     ]
    }
   ],
   "source": [
    "# list\n",
    "fr = ['banana', 'loganberry', 'passion fruit']\n",
    "\n",
    "# call a method on each element\n",
    "res = [e.split() for e in fr]\n",
    "print(res)"
   ]
  },
  {
   "cell_type": "code",
   "execution_count": 22,
   "id": "governing-carter",
   "metadata": {
    "scrolled": true
   },
   "outputs": [
    {
     "name": "stdout",
     "output_type": "stream",
     "text": [
      "[(1, 1), (1, 2), (2, 1), (2, 2)]\n"
     ]
    }
   ],
   "source": [
    "# create a list of 2-tuples like (number, square)\n",
    "res = [(x,y) for x in range(1,3) for y in range(1,3)]\n",
    "print(res)"
   ]
  },
  {
   "cell_type": "code",
   "execution_count": 23,
   "id": "equipped-circular",
   "metadata": {
    "scrolled": true
   },
   "outputs": [
    {
     "name": "stdout",
     "output_type": "stream",
     "text": [
      "[1, 2, 3, 4, 5, 6, 7, 8, 9]\n"
     ]
    }
   ],
   "source": [
    "# list\n",
    "vec = [[1,2,3], [4,5,6], [7,8,9]]\n",
    "\n",
    "# flatten a list using a listcomp with two 'for'\n",
    "res = [num for el in vec for num in el]\n",
    "print(res)"
   ]
  },
  {
   "cell_type": "markdown",
   "id": "authentic-credit",
   "metadata": {},
   "source": [
    "- ***List comprehensions can contain complex expressions and nested functions:***\n"
   ]
  },
  {
   "cell_type": "code",
   "execution_count": 27,
   "id": "theoretical-jenny",
   "metadata": {},
   "outputs": [
    {
     "name": "stdout",
     "output_type": "stream",
     "text": [
      "[3.14, 3.142, 3.1416, 3.14159, 3.141593]\n"
     ]
    }
   ],
   "source": [
    "# DATA STRUCTURES (BUILT-IN)from math import pi\n",
    "\n",
    "res = [round(pi, i) for i in range(2,7)]\n",
    "print(res)"
   ]
  },
  {
   "cell_type": "code",
   "execution_count": 20,
   "id": "located-advantage",
   "metadata": {},
   "outputs": [
    {
     "name": "stdout",
     "output_type": "stream",
     "text": [
      "[(1, 2, 3), (4, 5, 6), (7, 8, 9)]\n"
     ]
    }
   ],
   "source": [
    "# (1,2,3)\n",
    "# (4,5,6)\n",
    "z = 0\n",
    "res = [(x,y,z) for x in range(1,10,3) for y in range(x+1,x+2) for z in range(y+1,y+2)]\n",
    "print(res)"
   ]
  },
  {
   "cell_type": "markdown",
   "id": "computational-strap",
   "metadata": {},
   "source": [
    "### ***NESTED LIST COMPREHENSIONS***"
   ]
  },
  {
   "cell_type": "markdown",
   "id": "judicial-violin",
   "metadata": {},
   "source": [
    "- The initial expression in a list comprehension can be any arbitrary expression, including another list comprehension."
   ]
  },
  {
   "cell_type": "markdown",
   "id": "studied-sculpture",
   "metadata": {},
   "source": [
    "***EXAMPLE*** :"
   ]
  },
  {
   "cell_type": "markdown",
   "id": "stable-tooth",
   "metadata": {},
   "source": [
    "- Consider the following example of a ***3x4 matrix implemented as a list of 3 lists of length 4:***"
   ]
  },
  {
   "cell_type": "code",
   "execution_count": 7,
   "id": "persistent-lighter",
   "metadata": {},
   "outputs": [
    {
     "name": "stdout",
     "output_type": "stream",
     "text": [
      "[[1, 2, 3, 4], [5, 6, 7, 8], [9, 10, 11, 12]]\n"
     ]
    }
   ],
   "source": [
    "matrix = [                # 3x4 matrix \n",
    "...     [1, 2, 3, 4],\n",
    "...     [5, 6, 7, 8],\n",
    "...     [9, 10, 11, 12],\n",
    "... ]\n",
    "print(matrix)"
   ]
  },
  {
   "cell_type": "markdown",
   "id": "seventh-audience",
   "metadata": {},
   "source": [
    "- The following list comprehension will ***transpose rows and columns:***"
   ]
  },
  {
   "cell_type": "code",
   "execution_count": 23,
   "id": "banner-object",
   "metadata": {},
   "outputs": [
    {
     "name": "stdout",
     "output_type": "stream",
     "text": [
      "[[1, 2, 3, 4], [5, 6, 7, 8], [9, 10, 11, 12]]\n",
      "[[1, 5, 9], [2, 6, 10], [3, 7, 11], [4, 8, 12]]\n"
     ]
    }
   ],
   "source": [
    "# RAW MATRIX\n",
    "print(matrix)\n",
    "\n",
    "# TRANSPOZE MATRIX\n",
    "transpose = []\n",
    "\n",
    "transpose = [[row[i] for row in matrix] for i in range(4)]\n",
    "    \n",
    "print(transpose)"
   ]
  },
  {
   "cell_type": "markdown",
   "id": "pressed-young",
   "metadata": {},
   "source": [
    "- As we saw in the previous section, the nested listcomp is ***evaluated in the context of the for that follows it***, so this example is equivalent to:"
   ]
  },
  {
   "cell_type": "code",
   "execution_count": 18,
   "id": "supposed-gambling",
   "metadata": {},
   "outputs": [
    {
     "name": "stdout",
     "output_type": "stream",
     "text": [
      "[[1, 2, 3, 4], [5, 6, 7, 8], [9, 10, 11, 12]]\n",
      "[[1, 5, 9], [2, 6, 10], [3, 7, 11], [4, 8, 12]]\n"
     ]
    }
   ],
   "source": [
    "# RAW MATRIX\n",
    "print(matrix)\n",
    "\n",
    "# TRANSPOZE MATRIX\n",
    "transpose = []\n",
    "\n",
    "for i in range(4):\n",
    "    transpose.append([row[i] for row in matrix])\n",
    "    \n",
    "print(transpose)"
   ]
  },
  {
   "cell_type": "markdown",
   "id": "dirty-source",
   "metadata": {},
   "source": [
    "- which, in turn, is the same as:"
   ]
  },
  {
   "cell_type": "code",
   "execution_count": 14,
   "id": "liable-belief",
   "metadata": {},
   "outputs": [
    {
     "name": "stdout",
     "output_type": "stream",
     "text": [
      "[[1, 2, 3, 4], [5, 6, 7, 8], [9, 10, 11, 12]]\n",
      "[[1, 5, 9], [2, 6, 10], [3, 7, 11], [4, 8, 12]]\n"
     ]
    }
   ],
   "source": [
    "# RAW MATRIX\n",
    "print(matrix)\n",
    "\n",
    "# TRANSPOZE MATRIX\n",
    "transpose = []\n",
    "\n",
    "for i in range(4):\n",
    "    # the following 3 lines implement the nested listcomp\n",
    "    transposed_row = []\n",
    "    for row in matrix:\n",
    "        transposed_row.append(row[i])\n",
    "    transpose.append(transposed_row)\n",
    "    \n",
    "print(transpose)"
   ]
  },
  {
   "cell_type": "markdown",
   "id": "metropolitan-litigation",
   "metadata": {},
   "source": [
    "### ***DEL STATEMENT***"
   ]
  },
  {
   "cell_type": "markdown",
   "id": "impressive-combining",
   "metadata": {},
   "source": [
    "- There is a way to remove an item from a list given its index instead of its value: ***the del statement.*** \n",
    "- This differs from the pop() method which returns a value. \n",
    "- The del statement can also be used to remove slices from a list or clear the entire list (which we did earlier by assignment of an empty list to the slice)."
   ]
  },
  {
   "cell_type": "markdown",
   "id": "alpha-milwaukee",
   "metadata": {},
   "source": [
    "***EXAMPLE*** :"
   ]
  },
  {
   "cell_type": "code",
   "execution_count": 1,
   "id": "designed-runner",
   "metadata": {},
   "outputs": [
    {
     "name": "stdout",
     "output_type": "stream",
     "text": [
      "[1, 66.25, 333, 333, 1234.5]\n",
      "[1, 66.25, 1234.5]\n",
      "[]\n"
     ]
    }
   ],
   "source": [
    "a = [-1, 1, 66.25, 333, 333, 1234.5]\n",
    "del a[0]\n",
    "print(a)\n",
    "\n",
    "del a[2:4]\n",
    "print(a)\n",
    "\n",
    "del a[:]\n",
    "print(a)"
   ]
  },
  {
   "cell_type": "markdown",
   "id": "alternate-coordinator",
   "metadata": {},
   "source": [
    "## **2. TUPLES**"
   ]
  },
  {
   "cell_type": "markdown",
   "id": "insured-commercial",
   "metadata": {},
   "source": [
    "- We saw that lists and strings have many common properties, such as indexing and slicing operations.\n",
    "- Python is an evolving language, other sequence data types may be added. There is also another standard sequence data type: the tuple.\n",
    "- A tuple consists of a number of values separated by commas, for instance:"
   ]
  },
  {
   "cell_type": "markdown",
   "id": "seeing-easter",
   "metadata": {},
   "source": [
    "- ***Some differents from list***"
   ]
  },
  {
   "cell_type": "code",
   "execution_count": 2,
   "id": "marked-deployment",
   "metadata": {},
   "outputs": [
    {
     "name": "stdout",
     "output_type": "stream",
     "text": [
      "[1, 2, 3]\n",
      "[1, 2, 10]\n"
     ]
    }
   ],
   "source": [
    "# LISTS ARE MUTABLE\n",
    "l = [1,2,3]\n",
    "print(l)\n",
    "\n",
    "l[2] = 10\n",
    "print(l)"
   ]
  },
  {
   "cell_type": "code",
   "execution_count": 4,
   "id": "overhead-russian",
   "metadata": {},
   "outputs": [
    {
     "name": "stdout",
     "output_type": "stream",
     "text": [
      "(1, 2, 3)\n"
     ]
    },
    {
     "ename": "TypeError",
     "evalue": "'tuple' object does not support item assignment",
     "output_type": "error",
     "traceback": [
      "\u001b[0;31m---------------------------------------------------------------------------\u001b[0m",
      "\u001b[0;31mTypeError\u001b[0m                                 Traceback (most recent call last)",
      "\u001b[0;32m<ipython-input-4-2db14120c814>\u001b[0m in \u001b[0;36m<module>\u001b[0;34m\u001b[0m\n\u001b[1;32m      3\u001b[0m \u001b[0mprint\u001b[0m\u001b[0;34m(\u001b[0m\u001b[0mt\u001b[0m\u001b[0;34m)\u001b[0m\u001b[0;34m\u001b[0m\u001b[0;34m\u001b[0m\u001b[0m\n\u001b[1;32m      4\u001b[0m \u001b[0;34m\u001b[0m\u001b[0m\n\u001b[0;32m----> 5\u001b[0;31m \u001b[0mt\u001b[0m\u001b[0;34m[\u001b[0m\u001b[0;36m2\u001b[0m\u001b[0;34m]\u001b[0m \u001b[0;34m=\u001b[0m \u001b[0;36m10\u001b[0m\u001b[0;34m\u001b[0m\u001b[0;34m\u001b[0m\u001b[0m\n\u001b[0m\u001b[1;32m      6\u001b[0m \u001b[0mprint\u001b[0m\u001b[0;34m(\u001b[0m\u001b[0mt\u001b[0m\u001b[0;34m)\u001b[0m\u001b[0;34m\u001b[0m\u001b[0;34m\u001b[0m\u001b[0m\n",
      "\u001b[0;31mTypeError\u001b[0m: 'tuple' object does not support item assignment"
     ]
    }
   ],
   "source": [
    "# TUPLES ARE IMMUTABLE\n",
    "t = (1,2,3)\n",
    "print(t)\n",
    "\n",
    "t[2] = 10\n",
    "print(t)"
   ]
  },
  {
   "cell_type": "markdown",
   "id": "pediatric-jesus",
   "metadata": {},
   "source": [
    "- But tuple can mutable with this way : "
   ]
  },
  {
   "cell_type": "code",
   "execution_count": 10,
   "id": "caroline-ideal",
   "metadata": {},
   "outputs": [
    {
     "name": "stdout",
     "output_type": "stream",
     "text": [
      "(1, 2, 3)\n",
      "1 2 3\n",
      "140219010971456\n",
      "(1, 2, 10)\n",
      "140219011013568\n"
     ]
    }
   ],
   "source": [
    "t = (1,2,3)\n",
    "print(t)\n",
    "\n",
    "# unpacking \n",
    "x,y,z = t\n",
    "print(x,y,z)\n",
    "print(id(t))\n",
    "\n",
    "z = 10 \n",
    "\n",
    "# packing \n",
    "t = (x,y,z)   # this t tuple is different from the before t\n",
    "print(t)\n",
    "print(id(t))"
   ]
  },
  {
   "cell_type": "markdown",
   "id": "recognized-reservoir",
   "metadata": {},
   "source": [
    "- ***Some atrributes tuples :***"
   ]
  },
  {
   "cell_type": "code",
   "execution_count": 12,
   "id": "suspended-victory",
   "metadata": {},
   "outputs": [
    {
     "name": "stdout",
     "output_type": "stream",
     "text": [
      "((1, 2, 3), (10, 20, 20))\n"
     ]
    }
   ],
   "source": [
    "# Tuples may be nested:\n",
    "t = (1,2,3)\n",
    "u = t, (10,20,20)\n",
    "print(u)"
   ]
  },
  {
   "cell_type": "code",
   "execution_count": 15,
   "id": "imposed-madison",
   "metadata": {},
   "outputs": [
    {
     "name": "stdout",
     "output_type": "stream",
     "text": [
      "([1, 2, 3], [10, 20], (1, 100))\n"
     ]
    }
   ],
   "source": [
    "# They can contain mutable objects:\n",
    "v = ([1,2,3],[10, 20], (1,100))\n",
    "print(v)\n"
   ]
  },
  {
   "cell_type": "code",
   "execution_count": 16,
   "id": "modular-membrane",
   "metadata": {},
   "outputs": [
    {
     "name": "stdout",
     "output_type": "stream",
     "text": [
      "(1, 2, 3)\n"
     ]
    }
   ],
   "source": [
    "# another definition of tuple\n",
    "t = 1,2,3\n",
    "print(t)"
   ]
  },
  {
   "cell_type": "markdown",
   "id": "incoming-scheme",
   "metadata": {},
   "source": [
    "- ***special problem is the construction of tuples containing 0 or 1 items:***  The syntax has some extra quirks to accommodate these. \n",
    "- Empty tuples are constructed by an empty pair of parentheses; \n",
    "- A tuple with one item is constructed by following a value with a comma (it is not sufficient to enclose a single value in parentheses). \n",
    "\n",
    "- Ugly, but effective. For example:"
   ]
  },
  {
   "cell_type": "code",
   "execution_count": 26,
   "id": "affecting-operations",
   "metadata": {},
   "outputs": [
    {
     "name": "stdout",
     "output_type": "stream",
     "text": [
      "0\n",
      "1\n",
      "('hello',)\n"
     ]
    }
   ],
   "source": [
    "empty = ()\n",
    "print(len(empty))\n",
    "\n",
    "singleton = 'hello',    # <-- note trailing comma\n",
    "print(len(singleton))\n",
    "print(singleton)"
   ]
  },
  {
   "cell_type": "markdown",
   "id": "indie-sheet",
   "metadata": {},
   "source": [
    "## **3. SETS**"
   ]
  },
  {
   "cell_type": "markdown",
   "id": "southwest-jungle",
   "metadata": {},
   "source": [
    "- Python also includes a data type for sets. \n",
    "- A set is an ***unordered collection with no duplicate elements.***\n",
    "- ***Basic uses include membership testing and eliminating duplicate entries.***\n",
    "- Set objects also support mathematical operations like ***union, intersection, difference, and symmetric difference.***\n",
    "- ***Curly braces or the set()***  function can be used to create sets. \n",
    "\n",
    "**Note:** to create an empty set you ***have to use set(), not {}***; the latter creates an empty dictionary, a data structure that we discuss in the next section.\n"
   ]
  },
  {
   "cell_type": "code",
   "execution_count": 13,
   "id": "joint-louis",
   "metadata": {},
   "outputs": [
    {
     "name": "stdout",
     "output_type": "stream",
     "text": [
      "{'orange', 'apple', 'pear', 'banana'}\n",
      "{'xxx', 'orange', 'apple', 'banana', 'pear'}\n"
     ]
    }
   ],
   "source": [
    "b = {'apple', 'orange', 'apple', 'pear', 'orange', 'banana'}\n",
    "print(b)      # WITH NO DUPLICATE \n",
    "\n",
    "b.add(\"xxx\")\n",
    "print(b)      # UNORDERED"
   ]
  },
  {
   "cell_type": "code",
   "execution_count": 22,
   "id": "supreme-bidder",
   "metadata": {},
   "outputs": [
    {
     "name": "stdout",
     "output_type": "stream",
     "text": [
      "{'r', 'c', 'd', 'b', 'a'}\n",
      "{'p', 'c', 'l', 'd', 'e', 's', 'a'}\n",
      "\n",
      "------------------\n",
      "\n",
      "{'b', 'r'}\n",
      "{'p', 'r', 'c', 'l', 'd', 'b', 'e', 'a', 's'}\n",
      "{'d', 'a', 'c'}\n",
      "{'p', 'b', 'r', 'e', 's', 'l'}\n"
     ]
    }
   ],
   "source": [
    "a = set(\"abracadabra\")    \n",
    "print(a)                   # unique letters in a\n",
    "\n",
    "b = set(\"lacasadepapel\")\n",
    "print(b)                   # unique letters in b\n",
    "\n",
    "print(\"\\n------------------\\n\")\n",
    "\n",
    "print(a - b)               # letters in a but not in b\n",
    "\n",
    "print(a | b)               # letters in a or b or both\n",
    "\n",
    "print(a & b)               # letters in both a and b\n",
    "\n",
    "print(a ^ b)               # letters in a or b but not both"
   ]
  },
  {
   "cell_type": "code",
   "execution_count": 24,
   "id": "amino-moscow",
   "metadata": {},
   "outputs": [
    {
     "name": "stdout",
     "output_type": "stream",
     "text": [
      "{1, 2, 3, 4, 23}\n"
     ]
    }
   ],
   "source": [
    "k = set([1,2,3,4,23,1,2,3,2])\n",
    "print(k)"
   ]
  },
  {
   "cell_type": "markdown",
   "id": "liberal-arizona",
   "metadata": {},
   "source": [
    "- Similarly to list comprehensions, set comprehensions are also supported:"
   ]
  },
  {
   "cell_type": "code",
   "execution_count": 23,
   "id": "floral-dialogue",
   "metadata": {},
   "outputs": [
    {
     "name": "stdout",
     "output_type": "stream",
     "text": [
      "{'d', 'r'}\n"
     ]
    }
   ],
   "source": [
    "a = {x for x in \"abracadabra\" if x not in \"abc\"}\n",
    "print(a)"
   ]
  },
  {
   "cell_type": "markdown",
   "id": "crude-secretary",
   "metadata": {},
   "source": [
    "## **4. DICTIONARIES**"
   ]
  },
  {
   "cell_type": "markdown",
   "id": "comprehensive-sweet",
   "metadata": {},
   "source": [
    "- Another useful data type built into Python is the dictionary (see Mapping Types — dict). \n",
    "- Unlike sequences, which are indexed by a range of numbers, ***dictionaries are indexed by keys, which can be any immutable type; strings and numbers can always be keys.***\n",
    "- Tuples can be used as keys if they contain only strings, numbers, or tuples; ***if a tuple contains any mutable object either directly or indirectly, it cannot be used as a key.***\n",
    "- ***You can’t use lists as keys,*** since lists can be modified in place using index assignments, slice assignments, or methods like append() and extend()."
   ]
  },
  {
   "cell_type": "code",
   "execution_count": 47,
   "id": "veterinary-egypt",
   "metadata": {},
   "outputs": [
    {
     "name": "stdout",
     "output_type": "stream",
     "text": [
      "{'jack': 535, 'sape': 987}\n",
      "535\n",
      "{'jack': 535, 'sape': 987, 'irv': 123}\n",
      "{'jack': 535, 'sape': 987}\n",
      "['jack', 'sape']\n"
     ]
    }
   ],
   "source": [
    "phone = {\"jack\" : 535, \"sape\" : 987}\n",
    "print(phone)\n",
    "print(phone[\"jack\"])    # jack as a index\n",
    "\n",
    "phone[\"irv\"] = 123      # add new element\n",
    "print(phone)\n",
    "\n",
    "del phone[\"irv\"]        # del element\n",
    "print(phone)\n",
    "\n",
    "l = list(phone)         # convert list \n",
    "print(l)"
   ]
  },
  {
   "cell_type": "code",
   "execution_count": 54,
   "id": "august-bouquet",
   "metadata": {},
   "outputs": [
    {
     "data": {
      "text/plain": [
       "True"
      ]
     },
     "execution_count": 54,
     "metadata": {},
     "output_type": "execute_result"
    }
   ],
   "source": [
    "\"SapE\".lower() in phone"
   ]
  },
  {
   "cell_type": "code",
   "execution_count": 51,
   "id": "efficient-lecture",
   "metadata": {},
   "outputs": [
    {
     "data": {
      "text/plain": [
       "False"
      ]
     },
     "execution_count": 51,
     "metadata": {},
     "output_type": "execute_result"
    }
   ],
   "source": [
    "\"irv\" in phone"
   ]
  },
  {
   "cell_type": "markdown",
   "id": "naked-adams",
   "metadata": {},
   "source": [
    "- It is best to think of a dictionary as a set of key: value pairs, with the requirement that the keys are unique (within one dictionary). \n",
    "- ***A pair of braces creates an empty dictionary: {}.***\n",
    "- Placing a comma-separated list of key:value pairs within the braces adds initial key:value pairs to the dictionary; this is also the way dictionaries are written on output."
   ]
  },
  {
   "cell_type": "code",
   "execution_count": 46,
   "id": "secret-revolution",
   "metadata": {},
   "outputs": [
    {
     "name": "stdout",
     "output_type": "stream",
     "text": [
      "{'sape': 4139, 'guido': 4127, 'jack': 4098}\n"
     ]
    }
   ],
   "source": [
    "d = dict([('sape', 4139), ('guido', 4127), ('jack', 4098)])\n",
    "print(d)"
   ]
  },
  {
   "cell_type": "markdown",
   "id": "increased-publication",
   "metadata": {},
   "source": [
    "- In addition, ***dict comprehensions can be used*** to create dictionaries from arbitrary key and value expressions:"
   ]
  },
  {
   "cell_type": "code",
   "execution_count": 58,
   "id": "frozen-remainder",
   "metadata": {},
   "outputs": [
    {
     "name": "stdout",
     "output_type": "stream",
     "text": [
      "{2: 4, 4: 16, 6: 36}\n"
     ]
    }
   ],
   "source": [
    "d = {x : x**2 for x in (2,4,6)}\n",
    "print(d)"
   ]
  },
  {
   "cell_type": "markdown",
   "id": "dirty-ordinance",
   "metadata": {},
   "source": [
    "- When the keys are simple strings, it is sometimes easier to specify pairs using keyword arguments:"
   ]
  },
  {
   "cell_type": "code",
   "execution_count": 62,
   "id": "urban-mobile",
   "metadata": {},
   "outputs": [
    {
     "name": "stdout",
     "output_type": "stream",
     "text": [
      "{'jack': 12, 'kevin': 11}\n"
     ]
    }
   ],
   "source": [
    "d = dict(jack = 12, kevin = 11)\n",
    "print(d)"
   ]
  },
  {
   "cell_type": "markdown",
   "id": "continent-purchase",
   "metadata": {},
   "source": [
    "### ***LOOPING TECHNIQUES***"
   ]
  },
  {
   "cell_type": "markdown",
   "id": "genuine-argentina",
   "metadata": {},
   "source": [
    "- When looping through ***dictionaries, the key and corresponding value can be retrieved at the same time using the items() method.***"
   ]
  },
  {
   "cell_type": "code",
   "execution_count": 66,
   "id": "norman-pharmacy",
   "metadata": {},
   "outputs": [
    {
     "name": "stdout",
     "output_type": "stream",
     "text": [
      "jack 535\n",
      "sape 987\n"
     ]
    }
   ],
   "source": [
    "d = {\"jack\" : 535, \"sape\" : 987}\n",
    "\n",
    "for k,v in d.items():\n",
    "    print(k,v)"
   ]
  },
  {
   "cell_type": "markdown",
   "id": "heard-pearl",
   "metadata": {},
   "source": [
    "- When looping through ***a sequence, the position index and corresponding value can be retrieved at the same time using the enumerate() function.***"
   ]
  },
  {
   "cell_type": "code",
   "execution_count": 67,
   "id": "artificial-exercise",
   "metadata": {},
   "outputs": [
    {
     "name": "stdout",
     "output_type": "stream",
     "text": [
      "0 tic\n",
      "1 tac\n",
      "2 toe\n"
     ]
    }
   ],
   "source": [
    "l = ['tic','tac','toe']\n",
    "\n",
    "for i,v in enumerate(l):\n",
    "    print(i,v)"
   ]
  },
  {
   "cell_type": "markdown",
   "id": "educational-interaction",
   "metadata": {},
   "source": [
    "- ***To loop over two or more sequences at the same time, the entries can be paired with the zip() function.***"
   ]
  },
  {
   "cell_type": "code",
   "execution_count": 72,
   "id": "textile-malpractice",
   "metadata": {},
   "outputs": [
    {
     "name": "stdout",
     "output_type": "stream",
     "text": [
      "what is your name ? --->  It is lancelot\n",
      "what is your quest ? --->  It is the holy grail\n",
      "what is your favorite color ? --->  It is blue\n"
     ]
    }
   ],
   "source": [
    "questions = ['name', 'quest', 'favorite color']\n",
    "answers = ['lancelot', 'the holy grail', 'blue']\n",
    "\n",
    "for q,a in zip(questions,answers):\n",
    "    print(f\"what is your {q} ? --->  It is {a}\")\n",
    "    "
   ]
  },
  {
   "cell_type": "markdown",
   "id": "sonic-communist",
   "metadata": {},
   "source": [
    "- To loop over ***a sequence in reverse, first specify the sequence in a forward direction and then call the reversed() function.***"
   ]
  },
  {
   "cell_type": "code",
   "execution_count": 75,
   "id": "logical-spyware",
   "metadata": {},
   "outputs": [
    {
     "name": "stdout",
     "output_type": "stream",
     "text": [
      "9\n",
      "7\n",
      "5\n",
      "3\n",
      "1\n"
     ]
    }
   ],
   "source": [
    "for i in reversed(range(1,10,2)):\n",
    "    print(i)"
   ]
  },
  {
   "cell_type": "markdown",
   "id": "surrounded-essence",
   "metadata": {},
   "source": [
    "- To loop over ***a sequence in sorted order, use the sorted() function which returns a new sorted list while leaving the source unaltered.***"
   ]
  },
  {
   "cell_type": "code",
   "execution_count": 77,
   "id": "important-europe",
   "metadata": {},
   "outputs": [
    {
     "name": "stdout",
     "output_type": "stream",
     "text": [
      "apple\n",
      "apple\n",
      "banana\n",
      "orange\n",
      "orange\n",
      "pear\n"
     ]
    }
   ],
   "source": [
    "basket = ['apple', 'orange', 'apple', 'pear', 'orange', 'banana']\n",
    "\n",
    "for i in sorted(basket):\n",
    "    print(i)"
   ]
  },
  {
   "cell_type": "markdown",
   "id": "informational-diving",
   "metadata": {},
   "source": [
    "- Using set() on a sequence eliminates duplicate elements. The use of sorted() in combination with set() over a sequence is an idiomatic way to loop over unique elements of the sequence in sorted order."
   ]
  },
  {
   "cell_type": "code",
   "execution_count": 80,
   "id": "competent-gardening",
   "metadata": {},
   "outputs": [
    {
     "name": "stdout",
     "output_type": "stream",
     "text": [
      "apple\n",
      "banana\n",
      "orange\n",
      "pear\n"
     ]
    }
   ],
   "source": [
    "basket = ['apple', 'orange', 'apple', 'pear', 'orange', 'banana']\n",
    "\n",
    "for i in sorted(set(basket)):\n",
    "    print(i)"
   ]
  },
  {
   "cell_type": "markdown",
   "id": "different-xerox",
   "metadata": {},
   "source": [
    "- It is sometimes tempting to change a list while you are looping over it; however, it is often simpler and safer to create a new list instead."
   ]
  },
  {
   "cell_type": "code",
   "execution_count": 83,
   "id": "innovative-despite",
   "metadata": {},
   "outputs": [
    {
     "name": "stdout",
     "output_type": "stream",
     "text": [
      "[56.2, 51.7, 55.3, 52.5, 47.8]\n"
     ]
    }
   ],
   "source": [
    "import math\n",
    "raw_data = [56.2, float('NaN'), 51.7, 55.3, 52.5, float('NaN'), 47.8]\n",
    "filtered_data = []\n",
    "\n",
    "for value in raw_data:\n",
    "    if not math.isnan(value):\n",
    "        filtered_data.append(value)\n",
    "\n",
    "print(filtered_data)"
   ]
  },
  {
   "cell_type": "markdown",
   "id": "confident-remark",
   "metadata": {},
   "source": [
    "### ***MORE ON CONDITIONS***"
   ]
  },
  {
   "cell_type": "code",
   "execution_count": 2,
   "id": "convertible-showcase",
   "metadata": {},
   "outputs": [
    {
     "name": "stdout",
     "output_type": "stream",
     "text": [
      "True\n",
      "True\n",
      "True\n",
      "True\n",
      "True\n",
      "True\n",
      "True\n"
     ]
    }
   ],
   "source": [
    "print((1, 2, 3) < (1, 2, 4))\n",
    "\n",
    "print([1, 2, 3] < [1, 2, 4])\n",
    "\n",
    "print('ABC' < 'C' < 'Pascal' < 'Python')\n",
    "      \n",
    "print((1, 2, 3, 4) < (1, 2, 4))\n",
    "      \n",
    "print((1, 2) < (1, 2, -1))\n",
    "      \n",
    "print((1, 2, 3) == (1.0, 2.0, 3.0))\n",
    "      \n",
    "print((1, 2, ('aa', 'ab')) < (1, 2, ('abc', 'a'), 4))"
   ]
  },
  {
   "cell_type": "markdown",
   "id": "wrong-peripheral",
   "metadata": {},
   "source": [
    "### ***SCOPES - NAMESPACES***"
   ]
  },
  {
   "cell_type": "code",
   "execution_count": 1,
   "id": "inside-morgan",
   "metadata": {},
   "outputs": [
    {
     "name": "stdout",
     "output_type": "stream",
     "text": [
      "After local assignment: test spam\n",
      "After nonlocal assignment: nonlocal spam\n",
      "After global assignment: nonlocal spam\n",
      "In global scope: global spam\n"
     ]
    }
   ],
   "source": [
    "def scope_test():\n",
    "    def do_local():\n",
    "        spam = \"local spam\"\n",
    "\n",
    "    def do_nonlocal():\n",
    "        nonlocal spam\n",
    "        spam = \"nonlocal spam\"\n",
    "\n",
    "    def do_global():\n",
    "        global spam\n",
    "        spam = \"global spam\"\n",
    "\n",
    "    spam = \"test spam\"\n",
    "    do_local()\n",
    "    print(\"After local assignment:\", spam)\n",
    "    do_nonlocal()\n",
    "    print(\"After nonlocal assignment:\", spam)\n",
    "    do_global()\n",
    "    print(\"After global assignment:\", spam)\n",
    "\n",
    "scope_test()\n",
    "print(\"In global scope:\", spam)"
   ]
  },
  {
   "cell_type": "markdown",
   "id": "smoking-aberdeen",
   "metadata": {},
   "source": []
  },
  {
   "cell_type": "code",
   "execution_count": null,
   "id": "derived-treasurer",
   "metadata": {},
   "outputs": [],
   "source": []
  },
  {
   "cell_type": "code",
   "execution_count": null,
   "id": "pregnant-failing",
   "metadata": {},
   "outputs": [],
   "source": []
  }
 ],
 "metadata": {
  "kernelspec": {
   "display_name": "Python 3.8.5 64-bit ('base': conda)",
   "language": "python",
   "name": "python38564bitbasecondaa36d23ca368c4a06b017f2cbb1bc53a3"
  },
  "language_info": {
   "codemirror_mode": {
    "name": "ipython",
    "version": 3
   },
   "file_extension": ".py",
   "mimetype": "text/x-python",
   "name": "python",
   "nbconvert_exporter": "python",
   "pygments_lexer": "ipython3",
   "version": "3.8.5"
  }
 },
 "nbformat": 4,
 "nbformat_minor": 5
}
