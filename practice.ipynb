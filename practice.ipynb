{
 "cells": [
  {
   "cell_type": "markdown",
   "metadata": {},
   "source": [
    "### **Practice - Operators**"
   ]
  },
  {
   "cell_type": "markdown",
   "metadata": {},
   "source": [
    "#### ***EXAMPLE :*** \n",
    "* **Sublist using with operators**"
   ]
  },
  {
   "cell_type": "code",
   "execution_count": 3,
   "metadata": {},
   "outputs": [
    {
     "name": "stdout",
     "output_type": "stream",
     "text": [
      "1 [5, 7, 10] 6\n",
      "216\n"
     ]
    }
   ],
   "source": [
    "x, y, z = 2, 5, 10\n",
    "\n",
    "numbers = 1, 5, 7, 10, 6\n",
    "\n",
    "# According to x, *y, z = numbers equalation what is z ^ 3 \n",
    "x, *y, z = numbers\n",
    "print( x, y, z )\n",
    "res = z ** 3 \n",
    "print( res )\n"
   ]
  },
  {
   "cell_type": "code",
   "execution_count": null,
   "metadata": {},
   "outputs": [],
   "source": [
    "# According to x, *y, z = numbers equalation what is sum y values \n",
    "x, *y, z = numbers\n",
    "print( x, y, z )\n",
    "\n",
    "sum = y[ 0 ] + y[ 1 ] + y[ 2 ]\n",
    "print( sum )\n",
    "\n",
    "s = 0\n",
    "for e in y:\n",
    "    s += e \n",
    "    \n",
    "print( s )"
   ]
  },
  {
   "cell_type": "markdown",
   "metadata": {},
   "source": [
    "### **Practice - Objects & Data Types**"
   ]
  },
  {
   "cell_type": "markdown",
   "metadata": {},
   "source": [
    "#### ***EXAMPLE :*** \n",
    "**Create a list like that and write it**\n",
    "    * student_a = cgr 2010, (70,60,70)\n",
    "    * student_b = sena 1999, (80,80,70)\n",
    "    * student_c = ahmet 1998, (80,70,90)"
   ]
  },
  {
   "cell_type": "code",
   "execution_count": 1,
   "metadata": {},
   "outputs": [
    {
     "name": "stdout",
     "output_type": "stream",
     "text": [
      "['cgr', 1994, [70, 60, 70], 'sena', 1999, [80, 80, 70], 'ahmet', 1998, [80, 70, 90]]\n",
      "cgr is 26 years old and note avr = 66.67\n"
     ]
    }
   ],
   "source": [
    "stu_a = [ \"cgr\", 1994, [ 70,60,70 ] ]\n",
    "stu_b = [ \"sena\", 1999, [ 80,80,70 ] ]\n",
    "stu_c = [ \"ahmet\", 1998, [ 80,70,90 ] ]\n",
    "\n",
    "s = stu_a + stu_b + stu_c\n",
    "print( s )    \n",
    "\n",
    "res = stu_a[ 0 ]\n",
    "res = stu_c[ 2 ][ 2 ]\n",
    "\n",
    "avr = ( stu_a[ 2 ][ 0 ] + stu_a[ 2 ][ 1 ] + stu_a[ 2 ][ 2 ] ) / 3 \n",
    "res = ( f\"{ stu_a[ 0 ] } is { 2020 - stu_a[ 1 ] } years old and note avr = {avr:.2f}\" ) \n",
    "# res = ( \"{} is {} years old and note avr {:.2f}\".format( stu_a[ 0 ], ( 2020 - stu_a[ 1 ] ), avr ))\n",
    "print( res )"
   ]
  },
  {
   "cell_type": "markdown",
   "metadata": {},
   "source": [
    "#### ***EXAMPLE :*** \n",
    "* **Put in a list that  the three value entered by user**"
   ]
  },
  {
   "cell_type": "code",
   "execution_count": 3,
   "metadata": {},
   "outputs": [
    {
     "name": "stdout",
     "output_type": "stream",
     "text": [
      "enter car: OPEL\n",
      "enter car: MAZDA\n",
      "enter car: RENAULT\n",
      "['OPEL', 'MAZDA', 'RENAULT']\n"
     ]
    }
   ],
   "source": [
    "# Put in a list that  the three value entered by user\n",
    "cars = []\n",
    "for i in range ( 0,3 ):\n",
    "    car = input( \"enter car: \")\n",
    "    cars.append( car )\n",
    "\n",
    "print( cars ) "
   ]
  },
  {
   "cell_type": "markdown",
   "metadata": {},
   "source": [
    "#### ***EXAMPLE :*** \n",
    "* **Replace \"world\" with \"there\" in the \"hello world\" string**\n",
    "* **Print contents in 50 * char**"
   ]
  },
  {
   "cell_type": "code",
   "execution_count": 3,
   "metadata": {},
   "outputs": [
    {
     "name": "stdout",
     "output_type": "stream",
     "text": [
      "hello there\n",
      "*********************contents*********************\n",
      "******************************************contests\n",
      "contests''''''''''''''''''''''''''''''''''''''''''\n"
     ]
    }
   ],
   "source": [
    "# replace \"world\" with \"there\" in the \"hello world\" string\n",
    "s = \"hello world\".replace( \"world\",\"there\" ) \n",
    "print( s )\n",
    "\n",
    "# print \" *********contents *********** \" in 50 char\n",
    "s = \"contents\". center( 50, '*') \n",
    "print( s )\n",
    "s = \"contests\".rjust( 50, \"*\")\n",
    "print( s )\n",
    "s = \"contests\".ljust( 50, \"'\")\n",
    "print( s )"
   ]
  },
  {
   "cell_type": "markdown",
   "metadata": {},
   "source": [
    "#### ***EXAMPLE :*** \n",
    "* **Enter two number and replace with each other.**"
   ]
  },
  {
   "cell_type": "code",
   "execution_count": 4,
   "metadata": {},
   "outputs": [
    {
     "name": "stdout",
     "output_type": "stream",
     "text": [
      "a : 3\n",
      "b : 4\n",
      "normal situation a:3 b:4\n",
      "\n",
      "replace each other a:4 b:3\n"
     ]
    }
   ],
   "source": [
    "\n",
    "a = int(input( \"a : \" ))\n",
    "b = int(input( \"b : \" ))\n",
    "print( f\"normal situation a:{ a } b:{ b }\\n\" )\n",
    "\n",
    "a,b = b,a \n",
    "print( f\"replace each other a:{ a } b:{ b }\" )"
   ]
  },
  {
   "cell_type": "markdown",
   "metadata": {},
   "source": [
    "#### ***EXAMPLE :*** \n",
    "* **Take the two perpendicular sides (a, b) of a right triangle from the user and try to find the hypotenuse length.** \n",
    "* **Formula : a^2 + b^2 = c^2**"
   ]
  },
  {
   "cell_type": "code",
   "execution_count": 1,
   "metadata": {},
   "outputs": [
    {
     "name": "stdout",
     "output_type": "stream",
     "text": [
      "4\n",
      "3\n",
      "hipo  5.0\n"
     ]
    }
   ],
   "source": [
    "a = int(input())\n",
    "b = int(input())\n",
    "\n",
    "c = ( a ** 2 + b ** 2 ) ** 0.5  \n",
    "\n",
    "print( \"hipo \",c )\n",
    "\n",
    "\n",
    "#print( f\"if the sides of right triangle is a:{ a } b:{ b }, hypotenuse is c:{ c }\" )  "
   ]
  },
  {
   "cell_type": "markdown",
   "metadata": {},
   "source": [
    "#### ***EXAMPLE :*** \n",
    "**Create a student information list and write it**"
   ]
  },
  {
   "cell_type": "code",
   "execution_count": 7,
   "metadata": {},
   "outputs": [
    {
     "name": "stdout",
     "output_type": "stream",
     "text": [
      "enter total student number: 2\n",
      "enter no:100\n",
      "enter name:cagri\n",
      "enter phone: 456\n",
      "enter no:200\n",
      "enter name:ezgi\n",
      "enter phone: 566\n",
      "\n",
      "\n",
      "0. order student no = 100 - student name = cagri - student phone = 456\n",
      "1. order student no = 200 - student name = ezgi - student phone = 566\n",
      "\n",
      "\n",
      "enter student ord :0\n",
      "0. student no = 100 - student name = cagri\n",
      "\n",
      "\n"
     ]
    }
   ],
   "source": [
    "\n",
    "# students = {}\n",
    "students = dict()\n",
    "size = int(input(\"enter total student number: \" ))\n",
    "\n",
    "for order in range( 0, size ):\n",
    "    number = int(input( \"enter no:\" ))\n",
    "    name = input( \"enter name:\" )\n",
    "    phone = input( \"enter phone: \" )\n",
    "    students[ order ] =  {\n",
    "          'number': number,\n",
    "          'name'  : name,\n",
    "          'phone' : phone\n",
    "    }\n",
    "\n",
    "print( \"\\n\" )\n",
    "\n",
    "for order in students: \n",
    "    student = students[ order ]\n",
    "    print( f\"{order}. order student no = {student['number']} - student name = {student['name']} - student phone = {student['phone']}\")\n",
    "\n",
    "print( \"\\n\" )\n",
    "\n",
    "order = int(input(\"enter student ord :\"))\n",
    "std = students[ order ]\n",
    "print( f\"{order}. student no = { std['number'] } - student name = {std['name']}\")\n",
    "\n",
    "print( \"\\n\" )"
   ]
  }
 ],
 "metadata": {
  "kernelspec": {
   "display_name": "Python 3",
   "language": "python",
   "name": "python3"
  },
  "language_info": {
   "codemirror_mode": {
    "name": "ipython",
    "version": 3
   },
   "file_extension": ".py",
   "mimetype": "text/x-python",
   "name": "python",
   "nbconvert_exporter": "python",
   "pygments_lexer": "ipython3",
   "version": "3.8.3"
  }
 },
 "nbformat": 4,
 "nbformat_minor": 4
}
