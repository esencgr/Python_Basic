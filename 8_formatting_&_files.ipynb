{
 "cells": [
  {
   "cell_type": "markdown",
   "metadata": {},
   "source": [
    "## FORMATTING \n"
   ]
  },
  {
   "cell_type": "markdown",
   "metadata": {},
   "source": [
    "\n",
    "### *Output Formatting*  "
   ]
  },
  {
   "cell_type": "code",
   "execution_count": 2,
   "metadata": {},
   "outputs": [
    {
     "name": "stdout",
     "output_type": "stream",
     "text": [
      "Results of the 2020 Referendum..\n"
     ]
    }
   ],
   "source": [
    "year = 2020\n",
    "event = \"Referendum\"\n",
    "\n",
    "print(f'Results of the {year} {event}..')"
   ]
  },
  {
   "cell_type": "code",
   "execution_count": 6,
   "metadata": {},
   "outputs": [
    {
     "name": "stdout",
     "output_type": "stream",
     "text": [
      "number of yes : 42572654 \n",
      "percentage of yes : 49.42%\n",
      "number of no :  43572980 percentage of no : 50.58%\n"
     ]
    }
   ],
   "source": [
    "yes = 42_572_654\n",
    "no = 43_572_980\n",
    "percent = yes / (yes + no)\n",
    "\n",
    "print(f'number of yes : {yes} \\npercentage of yes : {percent:2.2}')\n",
    "print('number of no :{:-10} percentage of no : {:2.2%}'.format(no, no / (yes + no)))\n"
   ]
  },
  {
   "cell_type": "markdown",
   "metadata": {},
   "source": [
    "* When you don’t need fancy output but just want a quick display of some variables for debugging purposes, you can convert any value to a string with the **repr()** or **str()** functions."
   ]
  },
  {
   "cell_type": "code",
   "execution_count": 12,
   "metadata": {},
   "outputs": [
    {
     "name": "stdout",
     "output_type": "stream",
     "text": [
      "'Hello world'\n",
      "'0.14285714285714285'\n",
      "the val of x is 32.5 and y is 40000\n",
      "'hello\\n'\n"
     ]
    }
   ],
   "source": [
    "s = 'Hello world'\n",
    "print(repr(s))\n",
    "\n",
    "d = str(1/7)\n",
    "print(repr(d))\n",
    "\n",
    "x = 10 * 3.25\n",
    "y = 200 * 200\n",
    "s = \"the val of x is \" + repr(x) + \" and y is \" + repr(y)\n",
    "print(s)\n",
    "\n",
    "# The repr() of a string adds string quotes and backslashes:\n",
    "hello = 'hello\\n'\n",
    "hello = repr(hello)\n",
    "print(hello)\n",
    "\n",
    "# if you need some help about repr --> print(help(repr))"
   ]
  },
  {
   "cell_type": "markdown",
   "metadata": {},
   "source": [
    "###  *Formatted String*"
   ]
  },
  {
   "cell_type": "markdown",
   "metadata": {},
   "source": [
    "* Formatted string literals (also called f-strings for short) let you include the value of Python expressions inside a string by prefixing the string with **f** or **F** and writing expressions as **{expression}**.\n",
    "\n"
   ]
  },
  {
   "cell_type": "markdown",
   "metadata": {},
   "source": [
    "* The following example rounds pi to three places after the decimal and 4 places before int integer :"
   ]
  },
  {
   "cell_type": "code",
   "execution_count": 7,
   "metadata": {},
   "outputs": [
    {
     "name": "stdout",
     "output_type": "stream",
     "text": [
      "The value of pi is approximately 3.142\n"
     ]
    }
   ],
   "source": [
    "import math\n",
    "print(f'The value of pi is approximately {math.pi:4.3f}')"
   ]
  },
  {
   "cell_type": "markdown",
   "metadata": {},
   "source": [
    "* Passing an integer after the **':'** will cause that field to be a minimum number of characters wide. This is useful for making **columns line up.**\n"
   ]
  },
  {
   "cell_type": "code",
   "execution_count": 20,
   "metadata": {},
   "outputs": [
    {
     "name": "stdout",
     "output_type": "stream",
     "text": [
      "john       -->      21384\n",
      "jack       -->      43583\n",
      "dcab       -->      23287\n"
     ]
    }
   ],
   "source": [
    "table = {\"john\": 21384, \"jack\": 43583, \"dcab\":23287 }\n",
    "for name, phone in table.items():\n",
    "    print(f'{name:10} --> {phone:10}')"
   ]
  },
  {
   "cell_type": "markdown",
   "metadata": {},
   "source": [
    "* Other modifiers can be used to convert the value before it is formatted. **'!a'** applies **ascii()**, **'!s'** applies **str()**, and **'!r'** applies **repr()**:"
   ]
  },
  {
   "cell_type": "code",
   "execution_count": 11,
   "metadata": {},
   "outputs": [
    {
     "name": "stdout",
     "output_type": "stream",
     "text": [
      "My hovercraft is full of a.\n",
      "My hovercraft is full of 'a'.\n"
     ]
    }
   ],
   "source": [
    "animals = 'a'\n",
    "print(f'My hovercraft is full of {animals}.')\n",
    "print(f'My hovercraft is full of {animals!r}.')"
   ]
  },
  {
   "cell_type": "markdown",
   "metadata": {},
   "source": [
    "### *The String format() Method*"
   ]
  },
  {
   "cell_type": "code",
   "execution_count": 13,
   "metadata": {},
   "outputs": [
    {
     "name": "stdout",
     "output_type": "stream",
     "text": [
      "we are the champions who say \"we are learner!!\"\n"
     ]
    }
   ],
   "source": [
    "print('we are the {} who say \"{}!\"'.format('champions','we are learner'))"
   ]
  },
  {
   "cell_type": "code",
   "execution_count": 21,
   "metadata": {},
   "outputs": [
    {
     "name": "stdout",
     "output_type": "stream",
     "text": [
      "spam and eggs\n",
      "eggs and spam\n",
      "spam and eggs\n",
      "the story of birds, dogs and other animals.\n",
      "the story of birds, dogs and ['snakes', 'cats']\n"
     ]
    }
   ],
   "source": [
    "print('{0} and {1}'.format('spam','eggs'))\n",
    "print('{1} and {0}'.format('spam','eggs'))\n",
    "\n",
    "s = 'spam'\n",
    "e = 'eggs'\n",
    "print(f'{s} and {e}')\n",
    "\n",
    "print('the story of {0}, {1} and {other}'.format('birds','dogs',other = 'other animals.'))\n",
    "\n",
    "lst = ['snakes','cats']\n",
    "print('the story of {0}, {1} and {other}'.format('birds','dogs',other = lst))"
   ]
  },
  {
   "cell_type": "markdown",
   "metadata": {},
   "source": [
    "* If you have a really long format string that you don’t want to split up, it would be nice if you could reference the variables to be formatted by name instead of by position. This can be done by simply passing the dict and using square brackets **'[]'** to access the keys.\n"
   ]
  },
  {
   "cell_type": "code",
   "execution_count": 36,
   "metadata": {},
   "outputs": [
    {
     "name": "stdout",
     "output_type": "stream",
     "text": [
      "Jack: 4098 -- Sjoerd: 4127 -- Dcab: 8637678\n",
      "Jack: 4098 -- Sjoerd: 4127 -- Dcab: 8637678\n",
      "Jack: 4098 -- Sjoerd: 4127 -- Dcab: 8637678\n"
     ]
    }
   ],
   "source": [
    "table = {'Sjoerd': 4127, 'Jack': 4098, 'Dcab': 8637678}\n",
    "\n",
    "print('Jack: {0[Jack]:d} -- Sjoerd: {0[Sjoerd]:d} -- Dcab: {0[Dcab]:d}'.format(table))\n",
    "print('Jack: {Jack:d} -- Sjoerd: {Sjoerd:d} -- Dcab: {Dcab:d}'.format(**table))\n",
    "print(f\"Jack: {table['Jack']} -- Sjoerd: {table['Sjoerd']} -- Dcab: {table['Dcab']}\")\n"
   ]
  },
  {
   "cell_type": "markdown",
   "metadata": {},
   "source": [
    "* As an example, the following lines produce a tidily-aligned set of columns giving **integers and their squares and cubes**:\n"
   ]
  },
  {
   "cell_type": "code",
   "execution_count": 61,
   "metadata": {},
   "outputs": [
    {
     "name": "stdout",
     "output_type": "stream",
     "text": [
      " 1   1    1\n",
      " 2   4    8\n",
      " 3   9   27\n",
      " 4  16   64\n",
      " 5  25  125\n",
      " 6  36  216\n",
      " 7  49  343\n",
      " 8  64  512\n",
      " 9  81  729\n",
      "\n",
      " 1   1    1\n",
      " 2   4    8\n",
      " 3   9   27\n",
      " 4  16   64\n",
      " 5  25  125\n",
      " 6  36  216\n",
      " 7  49  343\n",
      " 8  64  512\n",
      " 9  81  729\n"
     ]
    }
   ],
   "source": [
    "for x in range(1,10):\n",
    "    print('{0:2d} {1:3d} {2:4d}'.format(x, x*x, x*x*x))\n",
    "\n",
    "print()\n",
    "\n",
    "for x in range(1,10):\n",
    "    print(f'{x:2d} {x*x:3d} {x*x*x:4d}')\n",
    "    "
   ]
  },
  {
   "cell_type": "markdown",
   "metadata": {},
   "source": [
    "### *Manuel String Formatting*"
   ]
  },
  {
   "cell_type": "code",
   "execution_count": 67,
   "metadata": {},
   "outputs": [
    {
     "name": "stdout",
     "output_type": "stream",
     "text": [
      " 1   1    1\n",
      " 2   4    8\n",
      " 3   9   27\n",
      " 4  16   64\n",
      " 5  25  125\n",
      " 6  36  216\n",
      " 7  49  343\n",
      " 8  64  512\n",
      " 9  81  729\n",
      "10 100 1000\n"
     ]
    }
   ],
   "source": [
    "for x in range(1, 11):\n",
    "    print(repr(x).rjust(2), repr(x*x).rjust(3), end=' ')\n",
    "    # Note use of 'end' on previous line\n",
    "    print(repr(x*x*x).rjust(4))\n"
   ]
  },
  {
   "cell_type": "code",
   "execution_count": 70,
   "metadata": {},
   "outputs": [
    {
     "name": "stdout",
     "output_type": "stream",
     "text": [
      "00012\n",
      "0003.14\n"
     ]
    }
   ],
   "source": [
    "print('12'.zfill(5))\n",
    "print('3.14'.zfill(7))"
   ]
  },
  {
   "cell_type": "markdown",
   "metadata": {},
   "source": [
    "### *Old String Formatting*"
   ]
  },
  {
   "cell_type": "markdown",
   "metadata": {},
   "source": [
    "* The **%** operator (modulo) can also be used for string formatting. Given **'string' % values** instances of % in string are replaced with zero or more elements of values. This operation is commonly known as **string interpolation**. \n",
    "* For example:"
   ]
  },
  {
   "cell_type": "code",
   "execution_count": 38,
   "metadata": {},
   "outputs": [
    {
     "name": "stdout",
     "output_type": "stream",
     "text": [
      "The value of pi is approximately 3.142.\n"
     ]
    }
   ],
   "source": [
    "import math\n",
    "print('The value of pi is approximately %5.3f.' % math.pi)"
   ]
  },
  {
   "cell_type": "markdown",
   "metadata": {},
   "source": [
    "##  FILES\n",
    "\n",
    "\n",
    "### *Reading & Writing & Methods*"
   ]
  },
  {
   "cell_type": "markdown",
   "metadata": {},
   "source": [
    "* **open()** returns a file object\n",
    "* This function is most commonly used with two arguments: **open(filename, mode)**.\n",
    "* The first argument is a string containing the filename. \n",
    "* The second argument is another string containing a few characters describing the way in which the file will be used. \n",
    "* ***'r'*** when the file will only be read, \n",
    "* ***'w'*** for only writing (an existing file with the same name will be erased), and \n",
    "* ***'a'*** opens the file for appending; any data written to the file is automatically added to the end.\n",
    "* ***'r+'*** opens the file for both reading and writing. \n",
    "* The mode argument is optional; ***'r'*** will be assumed if it’s omitt."
   ]
  },
  {
   "cell_type": "code",
   "execution_count": 25,
   "metadata": {},
   "outputs": [],
   "source": [
    "# WRITE TO FILE\n",
    "\n",
    "f = open(\"workfile.txt\", \"w\") # 'w' --> write command overwrites to file - del / write\n",
    "\n",
    "f.write(\"adding line - 1\\n\")\n",
    "\n",
    "f.close()"
   ]
  },
  {
   "cell_type": "code",
   "execution_count": 26,
   "metadata": {},
   "outputs": [],
   "source": [
    "# APPEND TO FILE\n",
    "\n",
    "f = open(\"workfile.txt\", \"a\") # 'a' --> append command adds new text on current text - not delete / write\n",
    "\n",
    "f.write(\"adding line - 2\\n\")\n",
    "\n",
    "f.close()"
   ]
  },
  {
   "cell_type": "code",
   "execution_count": 27,
   "metadata": {},
   "outputs": [
    {
     "name": "stdout",
     "output_type": "stream",
     "text": [
      "adding line - 1\n",
      "adding line - 2\n",
      "\n"
     ]
    }
   ],
   "source": [
    "# READ TO FILE\n",
    "\n",
    "f = open(\"workfile.txt\", \"r\") # 'r' --> read command reads text and assign a new variable\n",
    "\n",
    "read_file = f.read()  \n",
    "print(read_file)\n",
    "\n",
    "f.close()"
   ]
  },
  {
   "cell_type": "code",
   "execution_count": 31,
   "metadata": {},
   "outputs": [
    {
     "name": "stdout",
     "output_type": "stream",
     "text": [
      "ing line - 2\n",
      "\n"
     ]
    }
   ],
   "source": [
    "# READ WRITE TO FILE\n",
    "\n",
    "f = open(\"workfile.txt\", \"r+\") # 'r+' --> read write command\n",
    "\n",
    "f.write(\"adding line - 3\\n---\")   # cursor is start of the first line and overwrite line 1 --> addding line 3--\n",
    "\n",
    "read_file = f.read()           # and now the cursor is end of the ---.start read from here to end ing..\n",
    "print(read_file)\n",
    "\n",
    "f.close()"
   ]
  },
  {
   "cell_type": "code",
   "execution_count": 32,
   "metadata": {},
   "outputs": [
    {
     "name": "stdout",
     "output_type": "stream",
     "text": [
      "adding line - 3\n",
      "\n",
      "['---ing line - 2\\n']\n"
     ]
    }
   ],
   "source": [
    "# READLINE TO FILE\n",
    "\n",
    "f = open(\"workfile.txt\", \"r\") # 'r' --> read command reads line by line\n",
    "\n",
    "read_line1 = f.readline()     # cursor is end of the first line and new read process starts this place\n",
    "print(read_line1)\n",
    "\n",
    "# read_line2 = f.readline()  \n",
    "# print(read_line2)\n",
    "\n",
    "# read_line3 = f.readline()\n",
    "# print(read_line3)\n",
    "\n",
    "read_line_list = f.readlines()\n",
    "print(read_line_list)\n",
    "f.close()"
   ]
  },
  {
   "cell_type": "code",
   "execution_count": 33,
   "metadata": {},
   "outputs": [
    {
     "data": {
      "text/plain": [
       "True"
      ]
     },
     "execution_count": 33,
     "metadata": {},
     "output_type": "execute_result"
    }
   ],
   "source": [
    "f.closed  # in this line for check the file is closed or not"
   ]
  },
  {
   "cell_type": "markdown",
   "metadata": {},
   "source": [
    "#### *EXAMPLE:*"
   ]
  },
  {
   "cell_type": "code",
   "execution_count": 10,
   "metadata": {},
   "outputs": [
    {
     "name": "stdout",
     "output_type": "stream",
     "text": [
      "--writing file on terminal --\n",
      "abc\n",
      "def\n",
      "asd\n",
      "\n",
      "--reading file on terminal --\n",
      "abc\n",
      "def\n",
      "asd\n",
      "\n"
     ]
    },
    {
     "data": {
      "text/plain": [
       "True"
      ]
     },
     "execution_count": 10,
     "metadata": {},
     "output_type": "execute_result"
    }
   ],
   "source": [
    "# CREATE TO FILE\n",
    "\n",
    "f = open(\"example.txt\", \"w\") # 'w' file opens to writing over \n",
    "print(\"--writing file on terminal --\")\n",
    "\n",
    "for i in range(0, 3):\n",
    "    s = input()\n",
    "    f.write(s + '\\n')\n",
    "    \n",
    "f.close()\n",
    "\n",
    "f = open(\"example.txt\", \"r\") # 'r' file opens to reading\n",
    "print(\"\\n--reading file on terminal --\")\n",
    "\n",
    "res = f.read()\n",
    "print(res)\n",
    "\n",
    "f.close()\n",
    "f.closed"
   ]
  },
  {
   "cell_type": "markdown",
   "metadata": {},
   "source": [
    "#### *EXAMPLE:*"
   ]
  },
  {
   "cell_type": "code",
   "execution_count": 13,
   "metadata": {},
   "outputs": [
    {
     "name": "stdout",
     "output_type": "stream",
     "text": [
      "--writing file on terminal --(q for qu)\n",
      "asd\n",
      "fds\n",
      "q\n",
      "\n",
      "--reading file on terminal --\n",
      "asd\n",
      "fds\n",
      "\n"
     ]
    },
    {
     "data": {
      "text/plain": [
       "True"
      ]
     },
     "execution_count": 13,
     "metadata": {},
     "output_type": "execute_result"
    }
   ],
   "source": [
    "# CREATE TO FILE\n",
    "\n",
    "f = open(\"example.txt\", \"w\") # 'w' file opens to writing over \n",
    "print(\"--writing file on terminal --(q for qu)\")\n",
    "\n",
    "while(True):\n",
    "    s = input()\n",
    "    if(s == 'q'):\n",
    "        break\n",
    "    f.write(s + '\\n')\n",
    "\n",
    "f.close()\n",
    "f.closed\n",
    "\n",
    "f = open(\"example.txt\", \"r\") # 'r' file opens to reading\n",
    "print(\"\\n--reading file on terminal --\")\n",
    "\n",
    "# for lines in f:\n",
    "#     print(lines, end = \"\")\n",
    "        \n",
    "res = f.read()\n",
    "print(res)\n",
    "\n",
    "f.close()\n",
    "f.closed"
   ]
  },
  {
   "cell_type": "markdown",
   "metadata": {},
   "source": [
    "#### *EXAMPLE - with open( ):*"
   ]
  },
  {
   "cell_type": "code",
   "execution_count": 8,
   "metadata": {},
   "outputs": [
    {
     "name": "stdout",
     "output_type": "stream",
     "text": [
      "abs\n",
      "def\n",
      "cursor is in the:  8\n",
      "cursor is in the:  0\n",
      "['abs\\n', 'def\\n']\n"
     ]
    },
    {
     "data": {
      "text/plain": [
       "True"
      ]
     },
     "execution_count": 8,
     "metadata": {},
     "output_type": "execute_result"
    }
   ],
   "source": [
    "with open('example.txt','r') as file:        # when the finished process close file automaticaly\n",
    "\n",
    "    for lines in file:\n",
    "        print(lines, end = \"\")\n",
    "        \n",
    "    print(\"cursor is in the: \", file.tell())  #cursor is end of the line\n",
    "        \n",
    "    file.seek(0)                              # move cursor start\n",
    "    \n",
    "    print(\"cursor is in the: \", file.tell())  #cursor is start of the line\n",
    "    lst = file.readlines()\n",
    "    print(lst)\n",
    "    \n",
    "file.closed"
   ]
  },
  {
   "cell_type": "markdown",
   "metadata": {},
   "source": [
    "#### *EXAMPLE:*"
   ]
  },
  {
   "cell_type": "code",
   "execution_count": 25,
   "metadata": {},
   "outputs": [
    {
     "name": "stdout",
     "output_type": "stream",
     "text": [
      "abc\n",
      "def\n",
      "ghj\n",
      "\n",
      "abc\n",
      "cursor is in the:  3\n",
      "\n",
      "ghj\n",
      "\n"
     ]
    },
    {
     "data": {
      "text/plain": [
       "True"
      ]
     },
     "execution_count": 25,
     "metadata": {},
     "output_type": "execute_result"
    }
   ],
   "source": [
    "with open('example.txt','r') as file:        # when the finished process close automaticaly\n",
    "   \n",
    "    res = file.read()\n",
    "    print(res)\n",
    "    \n",
    "    file.seek(0)                              # cursor is in the start char\n",
    "    print(file.read(3))                       # read three char \n",
    "    print(\"cursor is in the: \", file.tell())  # cursor is in the third char \n",
    "    print()\n",
    "    \n",
    "    file.seek(8)                              # cursor is in the eighth char\n",
    "    read = file.read()                        # read from  eighth char to the end of file\n",
    "    print(read)\n",
    "    \n",
    "file.closed"
   ]
  },
  {
   "cell_type": "markdown",
   "metadata": {},
   "source": [
    "#### *EXAMPLE:*"
   ]
  },
  {
   "cell_type": "code",
   "execution_count": 4,
   "metadata": {},
   "outputs": [
    {
     "name": "stdout",
     "output_type": "stream",
     "text": [
      "python c++ c \n",
      "git github linux\n",
      "\n"
     ]
    },
    {
     "data": {
      "text/plain": [
       "True"
      ]
     },
     "execution_count": 4,
     "metadata": {},
     "output_type": "execute_result"
    }
   ],
   "source": [
    "with open('work.txt','w+') as file:        # when the finished process close automaticaly\n",
    "    \n",
    "    file.seek(0)   #  write start to end\n",
    "    file.write(\"python c++ c \\ngit github linux\\n\")\n",
    "    \n",
    "    file.seek(0)   # read start to end \n",
    "    res = file.read()\n",
    "    print(res)\n",
    "\n",
    "file.closed"
   ]
  },
  {
   "cell_type": "markdown",
   "metadata": {},
   "source": [
    "#### *EXAMPLE:*"
   ]
  },
  {
   "cell_type": "code",
   "execution_count": 5,
   "metadata": {},
   "outputs": [
    {
     "name": "stdout",
     "output_type": "stream",
     "text": [
      "SKILLS\n",
      "python c++ c \n",
      "git github linux\n",
      "\n"
     ]
    }
   ],
   "source": [
    "# ADD TO START\n",
    "with open('work.txt','r+') as file:        # when the finished process close automaticaly\n",
    "    \n",
    "    file.seek(0)\n",
    "    add_to_first = \"SKILLS\\n\" + file.read()  # add title to start\n",
    "    \n",
    "    file.seek(0)\n",
    "    file.write(add_to_first)                 # update\n",
    "    \n",
    "    file.seek(0)\n",
    "    res = file.read()\n",
    "    print(res)"
   ]
  },
  {
   "cell_type": "code",
   "execution_count": 6,
   "metadata": {},
   "outputs": [
    {
     "name": "stdout",
     "output_type": "stream",
     "text": [
      "['SKILLS\\n', 'python c++ c \\n', 'git github linux\\n']\n",
      "SKILLS\n",
      "python c++ c \n",
      "git github linux\n",
      "\n",
      "['SKILLS\\n', 'python c++ c \\n', 'git github linux\\n', 'algorithm\\n']\n",
      "SKILLS\n",
      "python c++ c \n",
      "git github linux\n",
      "algorithm\n",
      "\n"
     ]
    }
   ],
   "source": [
    "# ADD TO ANY LINES \n",
    "with open('work.txt','r+') as file:\n",
    "    \n",
    "    file.seek(0)\n",
    "    lst = file.readlines()\n",
    "    print(lst)\n",
    "    \n",
    "    file.seek(0)\n",
    "    res = file.read()\n",
    "    print(res)\n",
    "    \n",
    "    lst.insert(3,'algorithm\\n')\n",
    "    \n",
    "    file.seek(0)\n",
    "    file.writelines(lst)\n",
    "    \n",
    "    file.seek(0)\n",
    "    lst = file.readlines()\n",
    "    print(lst)\n",
    "    \n",
    "    file.seek(0)\n",
    "    res = file.read()\n",
    "    print(res)"
   ]
  },
  {
   "cell_type": "code",
   "execution_count": 20,
   "metadata": {},
   "outputs": [],
   "source": [
    "file = open(\"file.txt\", \"w\")\n",
    "file.write(\"aaaaaaaa\\nbbbbbbbb\")\n",
    "file.close()"
   ]
  },
  {
   "cell_type": "code",
   "execution_count": 21,
   "metadata": {},
   "outputs": [
    {
     "name": "stdout",
     "output_type": "stream",
     "text": [
      "aaaaaaaa\n",
      "\n",
      "bbbbbbbb\n"
     ]
    }
   ],
   "source": [
    "file = open(\"file.txt\", \"r\")\n",
    "for line in file:\n",
    "    print(line)\n",
    "file.close()"
   ]
  },
  {
   "cell_type": "code",
   "execution_count": 27,
   "metadata": {},
   "outputs": [
    {
     "name": "stdout",
     "output_type": "stream",
     "text": [
      "aaaaaaaa\n",
      "\n"
     ]
    }
   ],
   "source": [
    "file = open(\"file.txt\", \"r\")\n",
    "print(file.readline())"
   ]
  },
  {
   "cell_type": "code",
   "execution_count": 28,
   "metadata": {},
   "outputs": [
    {
     "name": "stdout",
     "output_type": "stream",
     "text": [
      "bbbbbbbb\n"
     ]
    }
   ],
   "source": [
    "print(file.readline())\n"
   ]
  },
  {
   "cell_type": "code",
   "execution_count": 31,
   "metadata": {},
   "outputs": [
    {
     "name": "stdout",
     "output_type": "stream",
     "text": [
      "['aaaaaaaa\\n', 'bbbbbbbb']\n"
     ]
    }
   ],
   "source": [
    "file = open(\"file.txt\", \"r\")\n",
    "print(file.readlines())"
   ]
  },
  {
   "cell_type": "code",
   "execution_count": 33,
   "metadata": {},
   "outputs": [],
   "source": [
    "file.close()"
   ]
  },
  {
   "cell_type": "code",
   "execution_count": 34,
   "metadata": {},
   "outputs": [
    {
     "data": {
      "text/plain": [
       "True"
      ]
     },
     "execution_count": 34,
     "metadata": {},
     "output_type": "execute_result"
    }
   ],
   "source": [
    "file.closed"
   ]
  },
  {
   "cell_type": "code",
   "execution_count": 38,
   "metadata": {},
   "outputs": [
    {
     "name": "stdout",
     "output_type": "stream",
     "text": [
      "['C - CPP - PYTHON\\n', 'DATA SCIENCE ML AI\\n']\n",
      "['C - CPP - PYTHON\\n', 'DATA SCIENCE ML AI\\n', 'PROGRAMMING :\\n', 'INTERESTS :\\n', 'C - CPP - PYTHON\\n', 'DATA SCIENCE ML AI\\n']\n"
     ]
    }
   ],
   "source": [
    "with open(\"cv.txt\", \"w+\") as cv:\n",
    "    cv.writelines(\"C - CPP - PYTHON\\nDATA SCIENCE ML AI\\n\")\n",
    "    \n",
    "    cv.seek(0)\n",
    "    l = cv.readlines()\n",
    "    print(l)\n",
    "    \n",
    "    l.insert(0, \"PROGRAMMING :\\n\")\n",
    "    l.insert(1, \"INTERESTS :\\n\") \n",
    "    \n",
    "    cv.seek(0)\n",
    "    cv.writelines(l)\n",
    "    \n",
    "    cv.seek(0)\n",
    "    l = cv.readlines()\n",
    "    print(l)"
   ]
  },
  {
   "cell_type": "code",
   "execution_count": null,
   "metadata": {},
   "outputs": [],
   "source": []
  },
  {
   "cell_type": "code",
   "execution_count": null,
   "metadata": {},
   "outputs": [],
   "source": []
  }
 ],
 "metadata": {
  "kernelspec": {
   "display_name": "Python 3.8.5 64-bit ('base': conda)",
   "language": "python",
   "name": "python38564bitbasecondaa36d23ca368c4a06b017f2cbb1bc53a3"
  },
  "language_info": {
   "codemirror_mode": {
    "name": "ipython",
    "version": 3
   },
   "file_extension": ".py",
   "mimetype": "text/x-python",
   "name": "python",
   "nbconvert_exporter": "python",
   "pygments_lexer": "ipython3",
   "version": "3.8.5"
  }
 },
 "nbformat": 4,
 "nbformat_minor": 4
}
