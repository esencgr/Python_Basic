{
 "cells": [
  {
   "cell_type": "markdown",
   "metadata": {},
   "source": [
    "## USER I/O\n",
    "\n",
    "### *Print Function*  "
   ]
  },
  {
   "cell_type": "code",
   "execution_count": 1,
   "metadata": {},
   "outputs": [
    {
     "name": "stdout",
     "output_type": "stream",
     "text": [
      "hello\n",
      "3\n",
      "cgr hello.\n"
     ]
    }
   ],
   "source": [
    "print(\"hello\")\n",
    "print( 3 )\n",
    "\n",
    "s = \"cgr\"\n",
    "k = \" hello\"\n",
    "print( s + k + \".\" )"
   ]
  },
  {
   "cell_type": "code",
   "execution_count": 2,
   "metadata": {},
   "outputs": [
    {
     "name": "stdout",
     "output_type": "stream",
     "text": [
      "JAN\tFEB\tMAR \n",
      "APR\tMAY\tJUN \n"
     ]
    }
   ],
   "source": [
    "print(\"JAN\\tFEB\\tMAR \" + \"\\n\" + \"APR\\tMAY\\tJUN \")"
   ]
  },
  {
   "cell_type": "markdown",
   "metadata": {},
   "source": [
    "#### **Sep Parameters**"
   ]
  },
  {
   "cell_type": "code",
   "execution_count": 24,
   "metadata": {},
   "outputs": [
    {
     "name": "stdout",
     "output_type": "stream",
     "text": [
      "1 2 3 4 5 6\n",
      "1-2-3-4-5-6\n",
      "12/09/2020\n",
      "cagri\n",
      "esen\n"
     ]
    }
   ],
   "source": [
    "print( 1, 2, 3, 4, 5, 6 )\n",
    "print( 1, 2, 3, 4, 5, 6, sep = \"-\")\n",
    "print( \"12\", \"09\", \"2020\", sep = \"/\")\n",
    "print( \"cagri\", \"esen\", sep = \"\\n\")"
   ]
  },
  {
   "cell_type": "markdown",
   "metadata": {},
   "source": [
    "#### * Star Parameters\n",
    "\n",
    "This parameter separate the given string. And each character of string converts to the another string."
   ]
  },
  {
   "cell_type": "code",
   "execution_count": 31,
   "metadata": {},
   "outputs": [
    {
     "name": "stdout",
     "output_type": "stream",
     "text": [
      "P Y T H O N\n",
      "h\n",
      "e\n",
      "l\n",
      "l\n",
      "o\n",
      "TBMM\n",
      "T.B.M.M\n"
     ]
    }
   ],
   "source": [
    "print( *\"PYTHON\" )\n",
    "print( *\"hello\" , sep = \"\\n\" )\n",
    "print( \"TBMM\", sep = \".\" )\n",
    "print( *\"TBMM\", sep = \".\" )"
   ]
  },
  {
   "cell_type": "markdown",
   "metadata": {},
   "source": [
    "### *Formatting*"
   ]
  },
  {
   "cell_type": "code",
   "execution_count": 18,
   "metadata": {},
   "outputs": [
    {
     "name": "stdout",
     "output_type": "stream",
     "text": [
      "sum of 3 and 4 is 7\n",
      "the result is 0.2857\n",
      "the result is     0.2857\n"
     ]
    }
   ],
   "source": [
    "\"{} {} {}\". format( 3.1234, 5, 0 )\n",
    "\n",
    "a = 3\n",
    "b = 4 \n",
    "print( \"sum of {} and {} is {}\".format( a, b, a+b ) )\n",
    "res = 200/700\n",
    "print( \"the result is {r:.4}\". format( r = res ))\n",
    "print( \"the result is {r:10.4}\". format( r = res ))"
   ]
  },
  {
   "cell_type": "code",
   "execution_count": 19,
   "metadata": {
    "scrolled": true
   },
   "outputs": [
    {
     "name": "stdout",
     "output_type": "stream",
     "text": [
      "enter name and age :\n",
      "cgr\n",
      "23\n",
      "cgr is 23 years old.\n",
      "My name is cgr and I'm 23 years old. \n"
     ]
    }
   ],
   "source": [
    "print( \"enter name and age :\" )\n",
    "name = input()\n",
    "age = int(input())\n",
    "print( \"{} is {} years old.\".format( name, age ))\n",
    "print( f\"My name is {name} and I'm {age} years old. \")"
   ]
  },
  {
   "cell_type": "code",
   "execution_count": 17,
   "metadata": {},
   "outputs": [
    {
     "name": "stdout",
     "output_type": "stream",
     "text": [
      "python is cool\n",
      "cagri esen 26\n",
      "3.14 3.144 3.14365\n"
     ]
    }
   ],
   "source": [
    "print( \"{1} {2} {0}\".format( \"cool\", \"python\", \"is\" ) )\n",
    "print( \"{n} {s} {a}\".format( n = \"cagri\", s =\"esen\",a = \"26\" ) )\n",
    "print( \"{:.2f} {:.3f} {:.6}\".format( 3.14365465, 3.14365465, 3.14365465 ))"
   ]
  },
  {
   "cell_type": "markdown",
   "metadata": {},
   "source": [
    "### *Input Function*"
   ]
  },
  {
   "cell_type": "code",
   "execution_count": 2,
   "metadata": {},
   "outputs": [
    {
     "name": "stdout",
     "output_type": "stream",
     "text": [
      "1\n",
      "1\n"
     ]
    }
   ],
   "source": [
    "a = input()\n",
    "print( a )"
   ]
  },
  {
   "cell_type": "code",
   "execution_count": 59,
   "metadata": {},
   "outputs": [
    {
     "name": "stdout",
     "output_type": "stream",
     "text": [
      "your name : cgr\n",
      "hello cgr\n",
      "the age is 26\n"
     ]
    }
   ],
   "source": [
    "name = input( \"your name : \" )\n",
    "print( \"hello \" + name )\n",
    "age = 26 \n",
    "print( \"the age is\", age )"
   ]
  },
  {
   "cell_type": "code",
   "execution_count": 56,
   "metadata": {},
   "outputs": [
    {
     "name": "stdout",
     "output_type": "stream",
     "text": [
      "your age : 26\n",
      "age : 26\n",
      "<class 'str'>\n"
     ]
    }
   ],
   "source": [
    "age = input(\"your age : \" )  # all input values in str type\n",
    "print( \"age : \" + age  )   \n",
    "print( type(age) )"
   ]
  },
  {
   "cell_type": "markdown",
   "metadata": {},
   "source": [
    "##  MATH OPERATORS & VARIABLES \n"
   ]
  },
  {
   "cell_type": "code",
   "execution_count": 24,
   "metadata": {},
   "outputs": [
    {
     "name": "stdout",
     "output_type": "stream",
     "text": [
      "a = 4\n",
      "b = 3\n",
      "7\n",
      "21\n",
      "1\n",
      "3.5\n",
      "1\n",
      "64\n",
      "2.0\n",
      "3.9999999999999996\n",
      "34234.2347\n",
      "1.9910714285714288\n",
      "1.0\n",
      "7\n"
     ]
    }
   ],
   "source": [
    "#---------------------------- MATH OPERATORS ----------------------------- \n",
    "a = 4 \n",
    "b = 3\n",
    "print( \"a = \" + str(a) )\n",
    "print( \"b = \" + str(b) )\n",
    "c = a + b \n",
    "print( c )\n",
    "print( c * 3 )\n",
    "print( c - 6 )\n",
    "print( c / 2 )\n",
    "print( c % 2 )\n",
    "\n",
    "# base \n",
    "print( 4 ** 3 )             # 4*4*4\n",
    "\n",
    "# sqrt\n",
    "print( 4 ** 0.5 )           # sqrt(4) \n",
    "print( 64 ** (1/3) )\n",
    "print( round( 34234.23467, 4)) \n",
    "# integer division\n",
    "print( 22.3 / 11.2 )        # 1 \n",
    "print( 22.3 // 11.2 )       # 1 \n",
    "\n",
    "c = -c \n",
    "print( abs(c) )"
   ]
  },
  {
   "cell_type": "code",
   "execution_count": 60,
   "metadata": {},
   "outputs": [
    {
     "name": "stdout",
     "output_type": "stream",
     "text": [
      "a =  9\n",
      "b = 5\n",
      "1 2 cagri True\n"
     ]
    }
   ],
   "source": [
    "#----------------------------- VARIABLES ----------------------------------\n",
    "# this code changes a variable with b value and b variable with a value\n",
    "a = 5\n",
    "b = 9\n",
    "a,b = b,a \n",
    "print( \"a = \" + str(a) )\n",
    "print( \"b = \" + str(b) )\n",
    "\n",
    "x, y, name, is_student = ( 1, 2, \"cagri\", True ) \n",
    "print(x, y, name, is_student )"
   ]
  },
  {
   "cell_type": "markdown",
   "metadata": {},
   "source": [
    "***EXAMPLE :***"
   ]
  },
  {
   "cell_type": "code",
   "execution_count": 20,
   "metadata": {},
   "outputs": [
    {
     "name": "stdout",
     "output_type": "stream",
     "text": [
      "2658.44\n",
      "2658.4\n"
     ]
    }
   ],
   "source": [
    "salary = 3242\n",
    "cut = 18/(100)\n",
    "gross = salary * cut \n",
    "salary -= gross\n",
    "print( salary )\n",
    "print( round(salary, 1) \n"
   ]
  },
  {
   "cell_type": "markdown",
   "metadata": {},
   "source": [
    "## TYPE CONVERSATION"
   ]
  },
  {
   "cell_type": "code",
   "execution_count": 66,
   "metadata": {},
   "outputs": [
    {
     "name": "stdout",
     "output_type": "stream",
     "text": [
      "enter num1 : 23\n",
      "enter num2 : 34\n",
      "sum :  2334\n",
      "enter num1 : 23\n",
      "enter num2 : 34\n",
      "sum :  57\n",
      "<class 'int'>\n"
     ]
    }
   ],
   "source": [
    "#----------------------------TYPE CONVERSATION----------------------------------\n",
    "\n",
    "num1 = input( \"enter num1 : \" )  # 7 \n",
    "num2 = input( \"enter num2 : \" )  # 8\n",
    "sum = num1 + num2 \n",
    "print( \"sum : \", sum )     # in string types output : 78 \n",
    "#print( \"sum : \" + str(sum) ) \n",
    "\n",
    "num1 = int( input( \"enter num1 : \" )) # 7 \n",
    "num2 = int( input( \"enter num2 : \" )) # 8\n",
    "sum = num1 + num2           # in int type output : 15 \n",
    "print( \"sum : \", sum ) \n",
    "#print( \"sum : \" + str(sum) ) \n",
    "\n",
    "sum *= 3\n",
    "print ( type(sum) ) "
   ]
  },
  {
   "cell_type": "code",
   "execution_count": 11,
   "metadata": {},
   "outputs": [
    {
     "name": "stdout",
     "output_type": "stream",
     "text": [
      "23454\n",
      "3.1413\n"
     ]
    }
   ],
   "source": [
    "s = \"23454\"\n",
    "i = int( s )\n",
    "print( i )\n",
    "\n",
    "s = \"3.1413\"\n",
    "f = float( s ) \n",
    "print( f )"
   ]
  },
  {
   "cell_type": "markdown",
   "metadata": {},
   "source": [
    "## DATA TYPES "
   ]
  },
  {
   "cell_type": "code",
   "execution_count": null,
   "metadata": {},
   "outputs": [],
   "source": [
    "a = \"Merhaba!\"                              #str\n",
    "b = 57                                      #int\n",
    "c = 57.5                                    #float\n",
    "d = 57j                                     #complex\n",
    "e = [\"Erkan\", \"Gürhan\", \"Fatma\"]            #list\n",
    "f = (\"Erkan\", \"Gürhan\", \"Fatma\")            #tuple\n",
    "g = range(57)                               #range\n",
    "h = {\"adı\" : \"Ramazan\", \"yaşı\" : 65}        #dict\n",
    "i = {\"Erkan\", \"Gürhan\", \"Fatma\"}            #set\n",
    "j = frozenset({\"Erkan\", \"Gürhan\", \"Fatma\"}) #frozenset\n",
    "k = True                                    #bool\n",
    "l = b\"Merhaba\"                              #bytes\n",
    "m = bytearray(2)                            #bytearray\n",
    "n = memoryview(bytes(2))                    #memoryview"
   ]
  },
  {
   "cell_type": "markdown",
   "metadata": {},
   "source": [
    "## *Integer - Float - Bool*"
   ]
  },
  {
   "cell_type": "code",
   "execution_count": 13,
   "metadata": {},
   "outputs": [
    {
     "name": "stdout",
     "output_type": "stream",
     "text": [
      "False\n",
      "False\n",
      "num1 : 1\n",
      "num2 : 1\n",
      "result : 1\n",
      "False\n"
     ]
    }
   ],
   "source": [
    "i = 3                # int\n",
    "f = 6.7              # float\n",
    "b = i > f            # bool \n",
    "print( b )           # false \n",
    "\n",
    "b = (i*3) == f        # bool \n",
    "print( b )            # false\n",
    "\n",
    "a = int( input( \"num1 : \" ))    # 3\n",
    "b = int( input( \"num2 : \" ))    # 5 \n",
    "c = int( input( \"result : \" ))\n",
    "print( c == a + b  )  # true or false \n"
   ]
  },
  {
   "cell_type": "markdown",
   "metadata": {},
   "source": [
    "## *String*"
   ]
  },
  {
   "cell_type": "code",
   "execution_count": 34,
   "metadata": {},
   "outputs": [
    {
     "name": "stdout",
     "output_type": "stream",
     "text": [
      "Python is easy\n",
      "Python is easy\n",
      "Python is easy\n",
      "Python's rules\n",
      "Python's rules\n"
     ]
    }
   ],
   "source": [
    "print('Python is easy')\n",
    "print(\"Python is easy\")\n",
    "print(\"\"\"Python is easy\"\"\")\n",
    "\n",
    "print(\"Python's rules\")\n",
    "print('Python\\'s rules')"
   ]
  },
  {
   "cell_type": "code",
   "execution_count": 35,
   "metadata": {},
   "outputs": [
    {
     "name": "stdout",
     "output_type": "stream",
     "text": [
      "Python is easy and cool\n"
     ]
    }
   ],
   "source": [
    "s = \"cool\"\n",
    "print(\"Python is easy and \" + s )"
   ]
  },
  {
   "cell_type": "code",
   "execution_count": 36,
   "metadata": {},
   "outputs": [
    {
     "name": "stdout",
     "output_type": "stream",
     "text": [
      "pythonpython\n"
     ]
    },
    {
     "data": {
      "text/plain": [
       "'pythonpythonpythonpythonpythonpython'"
      ]
     },
     "execution_count": 36,
     "metadata": {},
     "output_type": "execute_result"
    }
   ],
   "source": [
    "s = \"python\"\n",
    "print( s * 2 )\n",
    "s * 6"
   ]
  },
  {
   "cell_type": "code",
   "execution_count": 37,
   "metadata": {},
   "outputs": [
    {
     "name": "stdout",
     "output_type": "stream",
     "text": [
      "<class 'str'>\n",
      "5\n"
     ]
    }
   ],
   "source": [
    "s = \"hello\"\n",
    "print( type(s) )\n",
    "print( len(s) )"
   ]
  },
  {
   "cell_type": "code",
   "execution_count": 68,
   "metadata": {},
   "outputs": [
    {
     "name": "stdout",
     "output_type": "stream",
     "text": [
      "C:\\some\n",
      "ame\n",
      "C:\\some\\name\n"
     ]
    }
   ],
   "source": [
    "print('C:\\some\\name')  # here \\n means newline\n",
    "print(r'C:\\some\\name')  # note the r before the quote"
   ]
  },
  {
   "cell_type": "code",
   "execution_count": 69,
   "metadata": {},
   "outputs": [
    {
     "name": "stdout",
     "output_type": "stream",
     "text": [
      "Usage: thingy [OPTIONS]\n",
      "     -h                        Display this usage message\n",
      "     -H hostname               Hostname to connect to\n",
      "\n"
     ]
    }
   ],
   "source": [
    "print(\"\"\"\\\n",
    "Usage: thingy [OPTIONS]\n",
    "     -h                        Display this usage message\n",
    "     -H hostname               Hostname to connect to\n",
    "\"\"\")"
   ]
  },
  {
   "cell_type": "code",
   "execution_count": 72,
   "metadata": {},
   "outputs": [
    {
     "data": {
      "text/plain": [
       "'python'"
      ]
     },
     "execution_count": 72,
     "metadata": {},
     "output_type": "execute_result"
    }
   ],
   "source": [
    "prefix = 'py' \n",
    "prefix + 'thon'"
   ]
  },
  {
   "cell_type": "code",
   "execution_count": 78,
   "metadata": {},
   "outputs": [
    {
     "name": "stdout",
     "output_type": "stream",
     "text": [
      " is'nt they said \n",
      " is'nt they said \n",
      " \"yes\" they said \n",
      " 'no' they said \n"
     ]
    }
   ],
   "source": [
    "print( ' is\\'nt they said ' )\n",
    "print( \" is'nt they said \" )\n",
    "print( ' \"yes\" they said ' )\n",
    "print( \" 'no' they said \")"
   ]
  },
  {
   "cell_type": "markdown",
   "metadata": {},
   "source": [
    "#### **String Indexing**"
   ]
  },
  {
   "cell_type": "code",
   "execution_count": 8,
   "metadata": {},
   "outputs": [
    {
     "name": "stdout",
     "output_type": "stream",
     "text": [
      "j\n",
      "e\n",
      "r\n",
      "t\n"
     ]
    }
   ],
   "source": [
    "k = \"jupyter\"\n",
    "\n",
    "# index from start\n",
    "print( k[ 0 ] )    # first\n",
    "print( k[ 5 ] )\n",
    "\n",
    "# index from end\n",
    "print( k[ -1 ] )   # last\n",
    "print( k[ -3 ] )"
   ]
  },
  {
   "cell_type": "markdown",
   "metadata": {},
   "source": [
    "#### **String Parcing**"
   ]
  },
  {
   "cell_type": "code",
   "execution_count": 1,
   "metadata": {},
   "outputs": [
    {
     "name": "stdout",
     "output_type": "stream",
     "text": [
      "ju\n",
      "jupyte\n",
      "ter notebook\n",
      "jupyter notebook\n",
      "jupyter noteboo\n",
      "teboo\n",
      "jptrntbo\n",
      "trn\n",
      "koobeton retypuj\n"
     ]
    }
   ],
   "source": [
    "# [ start index : end index : step value ]\n",
    "s = \"jupyter notebook\"\n",
    "print( s[ 0:2 ] )\n",
    "print( s[ :6 ] )\n",
    "print( s[ 4: ] )\n",
    "print( s[ : ] )\n",
    "print( s[ :-1 ] )\n",
    "print( s[ -6:-1 ] )\n",
    "print( s[ ::2 ] )\n",
    "print( s[ 4:9:2 ] )\n",
    "\n",
    "# str reverse order \n",
    "print( s[ ::-1 ] )"
   ]
  },
  {
   "cell_type": "markdown",
   "metadata": {},
   "source": [
    "#### **String Methods**"
   ]
  },
  {
   "cell_type": "code",
   "execution_count": 7,
   "metadata": {},
   "outputs": [
    {
     "name": "stdout",
     "output_type": "stream",
     "text": [
      "HEY THERE\n",
      "hey there\n",
      "Hey There\n",
      "Hey there\n"
     ]
    }
   ],
   "source": [
    "message = \"Hey There\"\n",
    "\n",
    "# Upper Method \n",
    "message = message.upper()\n",
    "print( message )\n",
    "\n",
    "# Lower Method\n",
    "message = message.lower()\n",
    "print( message )\n",
    "\n",
    "# Title Method \n",
    "message = message.title()\n",
    "print( message )\n",
    "\n",
    "# Capitalize Method \n",
    "message = message.capitalize()\n",
    "print( message )\n"
   ]
  },
  {
   "cell_type": "code",
   "execution_count": 23,
   "metadata": {
    "scrolled": false
   },
   "outputs": [
    {
     "name": "stdout",
     "output_type": "stream",
     "text": [
      "Hello There\n",
      "['Hello', 'There.', 'My', 'name', 'is', 'Cgr']\n",
      "Hello\n",
      "['Hello There', ' My name is Cgr']\n",
      "['Hello', 'There', 'My', 'name', 'is', 'Cgr']\n",
      "Hello There My name is Cgr\n"
     ]
    }
   ],
   "source": [
    "# Strip Method \n",
    "message = \"  Hello There\"\n",
    "message = message.strip()\n",
    "print( message )\n",
    "\n",
    "# Split Method \n",
    "message = \"Hello There. My name is Cgr\"\n",
    "message = message.split()\n",
    "print( message )\n",
    "print( message[ 0 ] )\n",
    "\n",
    "message = \"Hello There. My name is Cgr\"\n",
    "message = message.split(\".\")\n",
    "print( message )\n",
    "\n",
    "# Join Method \n",
    "message = \"Hello There My name is Cgr\"\n",
    "message = message.split()\n",
    "print( message )\n",
    "\n",
    "message = \" \".join( message )\n",
    "print( message )\n",
    "#message = \"*\".join( message )\n",
    "#print( message )"
   ]
  },
  {
   "cell_type": "code",
   "execution_count": 30,
   "metadata": {},
   "outputs": [
    {
     "name": "stdout",
     "output_type": "stream",
     "text": [
      "23\n",
      "True\n",
      "False\n"
     ]
    }
   ],
   "source": [
    "# Find Index Method \n",
    "message = \"Hello There My name is Cgr\"\n",
    "index = message.find( \"Cgr\" )\n",
    "print( index )\n",
    "\n",
    "# Startwith Method \n",
    "is_found = message.startswith( \"H\" )\n",
    "print( is_found )\n",
    "\n",
    "# Endswith Method \n",
    "is_found = message.endswith( \"H\" )\n",
    "print( is_found )\n"
   ]
  },
  {
   "cell_type": "code",
   "execution_count": 46,
   "metadata": {},
   "outputs": [
    {
     "name": "stdout",
     "output_type": "stream",
     "text": [
      "Hello-There-My-name-is-Cagri\n",
      "                                    Hello-There-My-name-is-Cagri                                    \n",
      "                                    Hello-There-My-name-is-Cagri                                    \n"
     ]
    }
   ],
   "source": [
    "# Replace Method \n",
    "message = \"Hello There My name is Cgr\"\n",
    "message = message.replace( \"Cgr\",\"Cagri\" )\n",
    "message = message.replace( \"ç\",\"c\" ).replace( \"ö\",\"o\" ).replace(\" \",\"-\")\n",
    "print( message )\n",
    "\n",
    "# Center Method\n",
    "message = message.center( 100 ) \n",
    "print( message )\n"
   ]
  },
  {
   "cell_type": "markdown",
   "metadata": {},
   "source": [
    "### ***Warning :***\n",
    "\n",
    "* Strings object does not support item assignment \n"
   ]
  },
  {
   "cell_type": "code",
   "execution_count": 38,
   "metadata": {},
   "outputs": [
    {
     "ename": "TypeError",
     "evalue": "'str' object does not support item assignment",
     "output_type": "error",
     "traceback": [
      "\u001b[0;31m---------------------------------------------------------------------------\u001b[0m",
      "\u001b[0;31mTypeError\u001b[0m                                 Traceback (most recent call last)",
      "\u001b[0;32m<ipython-input-38-95a4dd70f6aa>\u001b[0m in \u001b[0;36m<module>\u001b[0;34m\u001b[0m\n\u001b[1;32m      1\u001b[0m \u001b[0ms\u001b[0m \u001b[0;34m=\u001b[0m \u001b[0;34m\"hello\"\u001b[0m\u001b[0;34m\u001b[0m\u001b[0;34m\u001b[0m\u001b[0m\n\u001b[0;32m----> 2\u001b[0;31m \u001b[0ms\u001b[0m\u001b[0;34m[\u001b[0m \u001b[0;36m3\u001b[0m \u001b[0;34m]\u001b[0m \u001b[0;34m=\u001b[0m \u001b[0;34m'k'\u001b[0m\u001b[0;34m\u001b[0m\u001b[0;34m\u001b[0m\u001b[0m\n\u001b[0m",
      "\u001b[0;31mTypeError\u001b[0m: 'str' object does not support item assignment"
     ]
    }
   ],
   "source": [
    "s = \"hello\"\n",
    "s[ 3 ] = 'k'"
   ]
  },
  {
   "cell_type": "markdown",
   "metadata": {},
   "source": [
    "But there is a situation like that:"
   ]
  },
  {
   "cell_type": "code",
   "execution_count": 41,
   "metadata": {},
   "outputs": [
    {
     "name": "stdout",
     "output_type": "stream",
     "text": [
      "hello world\n"
     ]
    }
   ],
   "source": [
    "a = \"hello \"\n",
    "a = a + \"world\"    # this a variable is different  from the above a \n",
    "print( a ) "
   ]
  },
  {
   "cell_type": "markdown",
   "metadata": {},
   "source": [
    "## *Array* "
   ]
  },
  {
   "cell_type": "code",
   "execution_count": 61,
   "metadata": {},
   "outputs": [
    {
     "name": "stdout",
     "output_type": "stream",
     "text": [
      "Enter array element :\n",
      "1\n",
      "2\n",
      "3\n",
      "initial list :  [1, 2, 3]\n",
      "update list :  [2, 4, 6]\n"
     ]
    }
   ],
   "source": [
    "print(\"Enter array element :\")\n",
    "number = []\n",
    "def init( number ):\n",
    "    for i in range ( 0, 3 ):\n",
    "       a = int(input()) \n",
    "       number.append( a )  \n",
    "       \n",
    "init( number )\n",
    "print( \"initial list : \", number )\n",
    "\n",
    "\n",
    "def arr( number ):\n",
    "    for i in range ( 0, 3 ):\n",
    "        number[ i ] *= 2   #number[ i ] * 2;\n",
    "    \n",
    "    return number\n",
    "\n",
    "res = arr( number )\n",
    "print( \"update list : \",res )"
   ]
  },
  {
   "cell_type": "markdown",
   "metadata": {},
   "source": [
    "## *List*"
   ]
  },
  {
   "cell_type": "markdown",
   "metadata": {},
   "source": [
    "* Lists are changeable, reassignable each elemnts."
   ]
  },
  {
   "cell_type": "code",
   "execution_count": 2,
   "metadata": {},
   "outputs": [
    {
     "name": "stdout",
     "output_type": "stream",
     "text": [
      "['one', 2, 3.2, True]\n"
     ]
    }
   ],
   "source": [
    "my_list = [\"one\", 2 , 3.2, True ]\n",
    "print( my_list )"
   ]
  },
  {
   "cell_type": "code",
   "execution_count": 11,
   "metadata": {},
   "outputs": [
    {
     "name": "stdout",
     "output_type": "stream",
     "text": [
      "['ahmet', 'enes', 'mahmut', 'kerem', 'ali', '1']\n",
      "['cansel', 'ezgi', 'kenan', 'kerem', 'ali', '1']\n",
      "['ezgi', 'kenan']\n",
      "['cansel', 'ezgi']\n",
      "['kenan', 'kerem', 'ali', '1']\n",
      "['ezgi', 'kerem', '1']\n"
     ]
    }
   ],
   "source": [
    "# [ start index : end index : step value ]\n",
    "\n",
    "ls = [ \"ahmet\", \"enes\", \"mahmut\", \"kerem\", \"ali\", str(1) ]\n",
    "print( ls )\n",
    "ls[ :3 ] = [ \"cansel\",\"ezgi\", \"kenan\" ]\n",
    "print( ls )\n",
    "print( ls[ 1:3 ] )\n",
    "print( ls[ :2 ] )\n",
    "print( ls[ 2: ] )\n",
    "print( ls[ 1::2 ] )"
   ]
  },
  {
   "cell_type": "markdown",
   "metadata": {},
   "source": [
    "#### **List Methods**"
   ]
  },
  {
   "cell_type": "code",
   "execution_count": 31,
   "metadata": {},
   "outputs": [
    {
     "name": "stdout",
     "output_type": "stream",
     "text": [
      "['cansel', 'ezgi', 'kenan', 'kerem', 'ali', '1']\n",
      "['cansel', 'ezgi', 'kenan', 'kerem', 'ali', '1', 'abc']\n",
      "['cansel', 'kenan', 'kerem', 'ali', '1', 'abc']\n",
      "['cansel', 'kerem', 'ali', '1', 'abc']\n",
      "['abc', '1', 'ali', 'kerem', 'cansel']\n"
     ]
    }
   ],
   "source": [
    "ls = ['cansel', 'ezgi', 'kenan', 'kerem', 'ali', '1']\n",
    "print( ls )\n",
    "\n",
    "ls.append( \"abc\" )        # add büşra\n",
    "print( ls )\n",
    "\n",
    "ls.remove( \"ezgi\" )       # remove ezgi \n",
    "print( ls )\n",
    "\n",
    "del( ls[ 1 ]  )           # del enes \n",
    "print( ls )\n",
    "\n",
    "ls.reverse()              # reverse order\n",
    "print( ls )\n"
   ]
  },
  {
   "cell_type": "code",
   "execution_count": 33,
   "metadata": {},
   "outputs": [
    {
     "name": "stdout",
     "output_type": "stream",
     "text": [
      "['cansel', 'ali', 'xxx', 'abc']\n",
      "['abc', 'ali', 'cansel', 'xxx']\n",
      "['xxx', 'cansel', 'ali', 'abc']\n",
      "['xxx', 'cansel', 'ali', 'xxx', 'abc']\n",
      "['cansel', 'ali']\n",
      "0\n",
      "0\n"
     ]
    }
   ],
   "source": [
    "print( ls )\n",
    "\n",
    "ls.sort()                 # sort by alphabetic  \n",
    "print( ls )\n",
    "\n",
    "ls.sort( reverse = True ) # reverse sort by alphabetic\n",
    "print( ls )\n",
    "\n",
    "ls.insert( 3, \"xxx\")\n",
    "print( ls )\n",
    "\n",
    "ls.pop()                  # =ls.pop( -1 ) delete last element of list\n",
    "ls.pop( 0 )               # delete 0. element\n",
    "print( ls ) \n",
    "\n",
    "print( ls.count(\"ahmet\") )\n",
    "print( ls.count(\"kerem\") )"
   ]
  },
  {
   "cell_type": "code",
   "execution_count": 12,
   "metadata": {},
   "outputs": [
    {
     "name": "stdout",
     "output_type": "stream",
     "text": [
      "h\n",
      "['hello', 'python']\n",
      "hello\n",
      "e\n"
     ]
    }
   ],
   "source": [
    "message = \"hello python\"\n",
    "print( message[ 0 ] )\n",
    "\n",
    "message = message.split()\n",
    "print( message )\n",
    "print( message[ 0 ] )\n",
    "\n",
    "s = message[ 0 ][ 1 ]\n",
    "print( s )"
   ]
  },
  {
   "cell_type": "code",
   "execution_count": 5,
   "metadata": {},
   "outputs": [
    {
     "name": "stdout",
     "output_type": "stream",
     "text": [
      "['ahmet', 'enes', 'mahmut', 'kerem', 'ali', 'new1', 'new2', 'new3']\n"
     ]
    }
   ],
   "source": [
    "ls = [ \"ahmet\", \"enes\", \"mahmut\", \"kerem\", \"ali\", ]\n",
    "add =[ \"new1\", \"new2\" ]\n",
    "ls = ls + addb\n",
    "ls = ls + [\"new3\"]\n",
    "print( ls )"
   ]
  },
  {
   "cell_type": "code",
   "execution_count": 14,
   "metadata": {},
   "outputs": [
    {
     "name": "stdout",
     "output_type": "stream",
     "text": [
      "16 1\n",
      "y a\n"
     ]
    }
   ],
   "source": [
    "numbers = [ 1, 10, 5, 16, 4, 9, 10 ]\n",
    "letters = [ 'a', 'g', 's', 'b', 'y', 'a', 's' ]\n",
    "\n",
    "mx = max( numbers )\n",
    "mn = min( numbers )\n",
    "print( mx, mn )\n",
    "\n",
    "l_mx = max( letters )\n",
    "l_mn = min( letters )\n",
    "print( l_mx, l_mn )"
   ]
  },
  {
   "cell_type": "markdown",
   "metadata": {},
   "source": [
    "#### **Nested List**\n",
    "It is possible to nested lists (create lists containing other lists), for example:"
   ]
  },
  {
   "cell_type": "code",
   "execution_count": 36,
   "metadata": {
    "scrolled": true
   },
   "outputs": [
    {
     "name": "stdout",
     "output_type": "stream",
     "text": [
      "[['a', 'b', 'c'], [1, 2, 3]]\n",
      "['a', 'b', 'c']\n",
      "[1, 2, 3]\n",
      "3\n"
     ]
    }
   ],
   "source": [
    "letters = [ \"a\", \"b\", \"c\" ]\n",
    "n = [ 1, 2, 3 ]\n",
    "x = [ letters, n ]\n",
    "print( x ) \n",
    "print( x[0] )\n",
    "print( x[1] )\n",
    "print( x[1][2] )"
   ]
  },
  {
   "cell_type": "markdown",
   "metadata": {},
   "source": [
    "#### ***EXAMPLE 1 :***"
   ]
  },
  {
   "cell_type": "markdown",
   "metadata": {},
   "source": [
    "#### Find the students that below avarage.      "
   ]
  },
  {
   "cell_type": "code",
   "execution_count": 62,
   "metadata": {},
   "outputs": [
    {
     "name": "stdout",
     "output_type": "stream",
     "text": [
      "avarage :  65.2\n",
      "enes\n",
      "ayça\n"
     ]
    }
   ],
   "source": [
    "students = [ \"begüm\", \"enes\", \"ayça\", \"kerem\", \"aslı\" ]\n",
    "notes   = [ 75, 25, 48, 78, 100 ]\n",
    "#print( student + notes )\n",
    "\n",
    "def avr( notes ):\n",
    "     tot = 0\n",
    "     size = len(notes)\n",
    "     for i in range( 0, size ):\n",
    "        tot += notes[ i ] \n",
    "     \n",
    "     return tot/size\n",
    "   \n",
    "av = avr( notes )\n",
    "\n",
    "def check( students, notes, avr):\n",
    "     size = len(notes)\n",
    "     for i in range( 0, size ):\n",
    "         if( notes[ i ] <= av ):\n",
    "             print( students[ i ] )\n",
    "\n",
    "print(\"avarage : \", av )\n",
    "check( students, notes, av )"
   ]
  },
  {
   "cell_type": "markdown",
   "metadata": {},
   "source": [
    "#### ***EXAMPLE 2:***"
   ]
  },
  {
   "cell_type": "markdown",
   "metadata": {},
   "source": [
    "#### Fibonacci Series"
   ]
  },
  {
   "cell_type": "code",
   "execution_count": 54,
   "metadata": {},
   "outputs": [
    {
     "name": "stdout",
     "output_type": "stream",
     "text": [
      "[0, 1, 1, 2, 3, 5, 8, 13, 21, 34, 55, 89]\n"
     ]
    }
   ],
   "source": [
    "a, b = 0, 1\n",
    "# ls = []\n",
    "while a < 100:\n",
    "    ls.append( a )\n",
    "    a, b = b, a+b \n",
    "    \n",
    "print( ls )\n",
    "ls.clear()"
   ]
  },
  {
   "cell_type": "markdown",
   "metadata": {},
   "source": [
    "## *Tuple* "
   ]
  },
  {
   "cell_type": "markdown",
   "metadata": {},
   "source": [
    "### ***Warning :***\n",
    "\n",
    "* Tuple includes constant variable, add and delete invalid. \n",
    "* Strings object does not support item assignment. \n",
    "* when we will not changed anything in our data we can use tuple"
   ]
  },
  {
   "cell_type": "code",
   "execution_count": 57,
   "metadata": {},
   "outputs": [
    {
     "ename": "TypeError",
     "evalue": "'tuple' object does not support item assignment",
     "output_type": "error",
     "traceback": [
      "\u001b[0;31m---------------------------------------------------------------------------\u001b[0m",
      "\u001b[0;31mTypeError\u001b[0m                                 Traceback (most recent call last)",
      "\u001b[0;32m<ipython-input-57-2e14ab33eb1c>\u001b[0m in \u001b[0;36m<module>\u001b[0;34m\u001b[0m\n\u001b[1;32m      1\u001b[0m \u001b[0mt\u001b[0m \u001b[0;34m=\u001b[0m \u001b[0;34m(\u001b[0m \u001b[0;36m1\u001b[0m\u001b[0;34m,\u001b[0m\u001b[0;36m2\u001b[0m\u001b[0;34m,\u001b[0m\u001b[0;36m3\u001b[0m \u001b[0;34m)\u001b[0m\u001b[0;34m\u001b[0m\u001b[0;34m\u001b[0m\u001b[0m\n\u001b[0;32m----> 2\u001b[0;31m \u001b[0mt\u001b[0m\u001b[0;34m[\u001b[0m \u001b[0;36m1\u001b[0m \u001b[0;34m]\u001b[0m \u001b[0;34m=\u001b[0m \u001b[0;36m4\u001b[0m\u001b[0;34m\u001b[0m\u001b[0;34m\u001b[0m\u001b[0m\n\u001b[0m",
      "\u001b[0;31mTypeError\u001b[0m: 'tuple' object does not support item assignment"
     ]
    }
   ],
   "source": [
    "t = ( 1,2,3 )\n",
    "t[ 1 ] = 4 "
   ]
  },
  {
   "cell_type": "code",
   "execution_count": 56,
   "metadata": {},
   "outputs": [
    {
     "name": "stdout",
     "output_type": "stream",
     "text": [
      "<class 'tuple'>\n",
      "3\n",
      "(1, 2, 3)\n",
      "5\n",
      "(1, 2, 3, 4)\n",
      "(5, 4, 3, 2, 1)\n"
     ]
    }
   ],
   "source": [
    "tp = ( 1,2,3,4,5 )\n",
    "print( type(tp) )\n",
    "print( tp[2] )\n",
    "print( tp[:3] )\n",
    "print( tp[-1] )\n",
    "print( tp[:-1] )\n",
    "print( tp[::-1] )"
   ]
  },
  {
   "cell_type": "code",
   "execution_count": 3,
   "metadata": {},
   "outputs": [
    {
     "name": "stdout",
     "output_type": "stream",
     "text": [
      "('enes', 'tuzlu')\n"
     ]
    }
   ],
   "source": [
    "a = ( \"enes\", \"tuzlu\" )     # tuple with paranthesis( dif list)\n",
    "print( a )\n",
    "a = list( a )                 #tuple is converted a list"
   ]
  },
  {
   "cell_type": "markdown",
   "metadata": {},
   "source": [
    "#### **Tuple Methods**"
   ]
  },
  {
   "cell_type": "code",
   "execution_count": 55,
   "metadata": {},
   "outputs": [
    {
     "name": "stdout",
     "output_type": "stream",
     "text": [
      "0\n",
      "5\n",
      "3\n",
      "1\n"
     ]
    }
   ],
   "source": [
    "tp = ( 1, 2, 3, 4, 5, \"Mustafa\", 2, 2 )\n",
    "print( tp.index( 1 ) )\n",
    "print( tp.index(\"Mustafa\") ) # Return the index of selected elements in paranthesis\n",
    "\n",
    "print( tp.count( 2 ) ) # return how many times the value occurs in the tuple with the count method.\n",
    "print( tp.count(\"Mustafa\") )"
   ]
  },
  {
   "cell_type": "markdown",
   "metadata": {},
   "source": [
    "## *Set*"
   ]
  },
  {
   "cell_type": "markdown",
   "metadata": {},
   "source": [
    "* Sets dont uses index and cant including same element."
   ]
  },
  {
   "cell_type": "code",
   "execution_count": 14,
   "metadata": {},
   "outputs": [
    {
     "name": "stdout",
     "output_type": "stream",
     "text": [
      "{1, 2, 3}\n"
     ]
    }
   ],
   "source": [
    "sets = { 1, 1, 2, 3, 2 }     \n",
    "print( sets )                # { 1, 2, 3 }"
   ]
  },
  {
   "cell_type": "code",
   "execution_count": 13,
   "metadata": {},
   "outputs": [
    {
     "name": "stdout",
     "output_type": "stream",
     "text": [
      "{'apple', 'orange'}\n",
      "set()\n"
     ]
    }
   ],
   "source": [
    "fruit = { \"apple\", \"banana\"}\n",
    "fruit.add( \"orange\" )       \n",
    "fruit.add( \"apple\" )         # dont cahnge anythng\n",
    "fruit.remove( \"banana\" )\n",
    "print( fruit )\n",
    "fruit.clear()\n",
    "print( fruit )"
   ]
  },
  {
   "cell_type": "markdown",
   "metadata": {},
   "source": [
    "## *Dictionary*"
   ]
  },
  {
   "cell_type": "markdown",
   "metadata": {},
   "source": [
    " * Dictionary = keys : value  "
   ]
  },
  {
   "cell_type": "code",
   "execution_count": 16,
   "metadata": {},
   "outputs": [
    {
     "name": "stdout",
     "output_type": "stream",
     "text": [
      "{'enes': 75, 'kerem': 89, 'hasan': 10}\n",
      "75\n",
      "{'enes': 75, 'kerem': 89, 'hasan': 10, 'ezgi': 100}\n"
     ]
    }
   ],
   "source": [
    "\n",
    "notes = { \"enes\" : 75, \"kerem\" : 89, \"hasan\" : 10 }\n",
    "print( notes )\n",
    "print( notes[\"enes\"] )    # print ennes notes \n",
    "\n",
    "notes[\"ezgi\"] = 100       # add ezgi\n",
    "notes_copy = notes.copy()\n",
    "notes.clear()\n",
    "print( notes_copy ) "
   ]
  },
  {
   "cell_type": "code",
   "execution_count": null,
   "metadata": {},
   "outputs": [],
   "source": []
  }
 ],
 "metadata": {
  "kernelspec": {
   "display_name": "Python 3",
   "language": "python",
   "name": "python3"
  },
  "language_info": {
   "codemirror_mode": {
    "name": "ipython",
    "version": 3
   },
   "file_extension": ".py",
   "mimetype": "text/x-python",
   "name": "python",
   "nbconvert_exporter": "python",
   "pygments_lexer": "ipython3",
   "version": "3.8.3"
  }
 },
 "nbformat": 4,
 "nbformat_minor": 4
}
