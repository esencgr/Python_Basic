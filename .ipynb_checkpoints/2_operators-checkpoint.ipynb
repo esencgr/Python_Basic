{
 "cells": [
  {
   "cell_type": "markdown",
   "metadata": {},
   "source": [
    "## **OPERATORS**\n",
    "\n",
    "### *Comparison Operators*"
   ]
  },
  {
   "cell_type": "code",
   "execution_count": 7,
   "metadata": {},
   "outputs": [
    {
     "name": "stdout",
     "output_type": "stream",
     "text": [
      "enter username : esen\n",
      "enter password : 1234\n",
      "False\n",
      "True\n",
      "False\n"
     ]
    }
   ],
   "source": [
    "# username - password --> database\n",
    "# cgresen  - 1234     --> database\n",
    "\n",
    "username = input( \"enter username : \" )\n",
    "pwd = int(input( \"enter password : \" ))\n",
    "\n",
    "result = ( username == \"cgresen\" )\n",
    "print( result )\n",
    "\n",
    "result = ( pwd == 1234 )\n",
    "print( result )\n",
    "\n",
    "result = ( username == \"cgresen\" ) and ( pwd == 1234 )\n",
    "print( result )"
   ]
  },
  {
   "cell_type": "code",
   "execution_count": 10,
   "metadata": {},
   "outputs": [
    {
     "name": "stdout",
     "output_type": "stream",
     "text": [
      "False\n",
      "False\n"
     ]
    }
   ],
   "source": [
    "a, b, c, d = 5, 5, 10, 4 \n",
    "\n",
    "res = ( a != b )\n",
    "print( res )\n",
    "\n",
    "res = ( a >= c )  \n",
    "print( res )"
   ]
  },
  {
   "cell_type": "markdown",
   "metadata": {},
   "source": [
    "### ***Example:***\n",
    "* Get two number and print which one is big."
   ]
  },
  {
   "cell_type": "code",
   "execution_count": 16,
   "metadata": {},
   "outputs": [
    {
     "name": "stdout",
     "output_type": "stream",
     "text": [
      "a : 5\n",
      "b : 6\n",
      "Is a : 5 bigger than b : 6 --> False\n"
     ]
    }
   ],
   "source": [
    "a = int(input( \"a : \" ))\n",
    "b = int(input( \"b : \" ))\n",
    "\n",
    "res = ( a > b )\n",
    "\n",
    "print( f\"Is a : { a } bigger than b : { b } --> { res }\" )"
   ]
  },
  {
   "cell_type": "markdown",
   "metadata": {},
   "source": [
    "### ***Example:***\n",
    "* Get visa note %40 and final note %60 and calculate avarage \n",
    "* If avarage > 50 print passed else not passed "
   ]
  },
  {
   "cell_type": "code",
   "execution_count": 31,
   "metadata": {},
   "outputs": [
    {
     "name": "stdout",
     "output_type": "stream",
     "text": [
      "visa : 30\n",
      "final : 100\n",
      "avarage = 72.00 and passing status = True\n"
     ]
    }
   ],
   "source": [
    "visa = int(input( \"visa : \" ))\n",
    "final = int(input( \"final : \" ))\n",
    "\n",
    "avr = (visa * 40 / 100) + (final * 60 / 100)\n",
    "res = ( avr >= 50)\n",
    "print( f\"avarage = {avr:.2f} and passing status = { res }\" )"
   ]
  },
  {
   "cell_type": "markdown",
   "metadata": {},
   "source": [
    "### ***Example:***\n",
    "* Get a number and check odd-even / negative-positive situation"
   ]
  },
  {
   "cell_type": "code",
   "execution_count": 35,
   "metadata": {},
   "outputs": [
    {
     "name": "stdout",
     "output_type": "stream",
     "text": [
      "a : -3\n",
      "If -3 number is odd = False\n",
      "If -3 number is negative = True\n"
     ]
    }
   ],
   "source": [
    "a = int(input( \"a : \" ))\n",
    "\n",
    "odd = ( a % 2 == 0 )\n",
    "print( f\"If { a } number is odd = { odd }\" )\n",
    "\n",
    "neg = ( a < 0 )\n",
    "print( f\"If { a } number is negative = { neg }\" )\n"
   ]
  },
  {
   "cell_type": "markdown",
   "metadata": {},
   "source": [
    "### ***Example:***\n",
    "* Get email and parola and check they are true or false. Case insensitive."
   ]
  },
  {
   "cell_type": "code",
   "execution_count": 44,
   "metadata": {},
   "outputs": [
    {
     "name": "stdout",
     "output_type": "stream",
     "text": [
      "mail : EsenCGR\n",
      "password : 123ege\n",
      "email is correct ? : True\n",
      "password is correct : False \n"
     ]
    }
   ],
   "source": [
    "email = \"esencgr\"\n",
    "pwd = \"ege123\"\n",
    "\n",
    "e = input( \"mail : \" )\n",
    "p = input( \"password : \" )\n",
    "\n",
    "e_res = ( email == e.lower().strip() ) \n",
    "p_res = ( pwd == p.lower().strip() ) \n",
    "\n",
    "print( f\"email is correct ? : { e_res }\\npassword is correct : { p_res } \" )\n"
   ]
  },
  {
   "cell_type": "markdown",
   "metadata": {},
   "source": [
    "### *Logical Operators*"
   ]
  },
  {
   "cell_type": "code",
   "execution_count": 45,
   "metadata": {},
   "outputs": [
    {
     "name": "stdout",
     "output_type": "stream",
     "text": [
      "True\n"
     ]
    }
   ],
   "source": [
    "x = 10\n",
    "res = 5 < x < 15\n",
    "print( res )"
   ]
  },
  {
   "cell_type": "markdown",
   "metadata": {},
   "source": [
    "#### **And Operator**"
   ]
  },
  {
   "cell_type": "code",
   "execution_count": 61,
   "metadata": {},
   "outputs": [
    {
     "name": "stdout",
     "output_type": "stream",
     "text": [
      "True\n",
      "Game is continue --> True \n"
     ]
    }
   ],
   "source": [
    "# true and true  --> true \n",
    "# true and false --> false \n",
    "a = 6 \n",
    "res = ( a > 5 ) and ( a < 10 ) \n",
    "print( res )\n",
    "\n",
    "chance, choise = 2, \"yes\" \n",
    "game_continue = ( chance > 0 ) and ( choise == \"yes\" )\n",
    "print ( f\"Game is continue --> {game_continue} \")"
   ]
  },
  {
   "cell_type": "markdown",
   "metadata": {},
   "source": [
    "#### **Or Operator**"
   ]
  },
  {
   "cell_type": "code",
   "execution_count": 65,
   "metadata": {},
   "outputs": [
    {
     "name": "stdout",
     "output_type": "stream",
     "text": [
      "False\n"
     ]
    }
   ],
   "source": [
    "# false and false  --> true \n",
    "# true and false --> true \n",
    "\n",
    "a = -1\n",
    "res = ( a > 0 ) or ( a % 2 == 0 )  \n",
    "print( res )"
   ]
  },
  {
   "cell_type": "markdown",
   "metadata": {},
   "source": [
    "#### **Not Operator**"
   ]
  },
  {
   "cell_type": "code",
   "execution_count": 67,
   "metadata": {},
   "outputs": [
    {
     "name": "stdout",
     "output_type": "stream",
     "text": [
      "False\n"
     ]
    }
   ],
   "source": [
    "x = 9\n",
    "res = not( x > 0 )\n",
    "print( res )"
   ]
  },
  {
   "cell_type": "markdown",
   "metadata": {},
   "source": [
    "#### ***NOTE:*** \n",
    "**Comparing two string with alphabetichal order**"
   ]
  },
  {
   "cell_type": "code",
   "execution_count": 3,
   "metadata": {},
   "outputs": [
    {
     "data": {
      "text/plain": [
       "True"
      ]
     },
     "execution_count": 3,
     "metadata": {},
     "output_type": "execute_result"
    }
   ],
   "source": [
    "\"can\" < \"oğuz\""
   ]
  },
  {
   "cell_type": "markdown",
   "metadata": {},
   "source": [
    "### ***Example:***\n",
    "* Get a number x\n",
    "* Is x between 5 and 10 and an even number ?"
   ]
  },
  {
   "cell_type": "code",
   "execution_count": 69,
   "metadata": {},
   "outputs": [
    {
     "name": "stdout",
     "output_type": "stream",
     "text": [
      "enter x : 4\n",
      "False\n"
     ]
    }
   ],
   "source": [
    "x = int(input( \"enter x : \" ))\n",
    "check = ( 5 < x < 10 ) and ( x % 2 == 0 )\n",
    "print( check )"
   ]
  },
  {
   "cell_type": "markdown",
   "metadata": {},
   "source": [
    "### ***Example:***\n",
    "* Get a number x\n",
    "* Is x greater than 5 or less than 10 and an even number ?"
   ]
  },
  {
   "cell_type": "code",
   "execution_count": 1,
   "metadata": {},
   "outputs": [
    {
     "name": "stdout",
     "output_type": "stream",
     "text": [
      "enter x : 7\n",
      "False\n"
     ]
    }
   ],
   "source": [
    "x = int(input( \"enter x : \" ))\n",
    "check = (( 5 < x ) or ( x < 10 )) and ( x % 2 == 0 )\n",
    "print( check )"
   ]
  },
  {
   "cell_type": "markdown",
   "metadata": {},
   "source": [
    "### *Identity ( is ) Operators*"
   ]
  },
  {
   "cell_type": "code",
   "execution_count": 7,
   "metadata": {},
   "outputs": [
    {
     "name": "stdout",
     "output_type": "stream",
     "text": [
      "True\n",
      "True\n",
      "False\n",
      "True\n",
      "----------\n",
      "True\n",
      "False\n",
      "False\n",
      "True\n",
      "----------\n",
      "x :  139703149476608\n",
      "y :  139703149476608\n",
      "z :  139703158125888\n"
     ]
    }
   ],
   "source": [
    "x = y = [ 1, 2, 3 ]    # include same value & adres \n",
    "z = [ 1, 2, 3 ]        # include same value but diff adrees from x and y \n",
    "t = [ 1, 2, 9 ]\n",
    "\n",
    "# '==' operators compares value\n",
    "print( x == y )        \n",
    "print( x == z )        \n",
    "print( x == t )\n",
    "print( z != t )\n",
    "\n",
    "print( \"-\"* 10 )\n",
    "\n",
    "# 'is' operators compares adress\n",
    "print( x is y )\n",
    "print( x is z ) \n",
    "print( y is z )\n",
    "print( y is not z )\n",
    "\n",
    "print( \"-\"* 10 )\n",
    "\n",
    "print( \"x : \", id(x) )\n",
    "print( \"y : \", id(y) )\n",
    "print( \"z : \", id(z) )"
   ]
  },
  {
   "cell_type": "markdown",
   "metadata": {},
   "source": [
    "### *Membership ( in ) Operators* "
   ]
  },
  {
   "cell_type": "code",
   "execution_count": 13,
   "metadata": {},
   "outputs": [
    {
     "name": "stdout",
     "output_type": "stream",
     "text": [
      "True\n",
      "False\n",
      "True\n"
     ]
    }
   ],
   "source": [
    "x = [ \"a\", \"b\" ]\n",
    "print( \"a\" in x )\n",
    "print( \"a\" not in x )\n",
    "\n",
    "name = \"Çınar\"\n",
    "print( 'a' in name )"
   ]
  },
  {
   "cell_type": "code",
   "execution_count": null,
   "metadata": {},
   "outputs": [],
   "source": []
  }
 ],
 "metadata": {
  "kernelspec": {
   "display_name": "Python 3",
   "language": "python",
   "name": "python3"
  },
  "language_info": {
   "codemirror_mode": {
    "name": "ipython",
    "version": 3
   },
   "file_extension": ".py",
   "mimetype": "text/x-python",
   "name": "python",
   "nbconvert_exporter": "python",
   "pygments_lexer": "ipython3",
   "version": "3.8.3"
  }
 },
 "nbformat": 4,
 "nbformat_minor": 4
}
