{
 "cells": [
  {
   "cell_type": "code",
   "execution_count": 3,
   "metadata": {},
   "outputs": [
    {
     "name": "stdout",
     "output_type": "stream",
     "text": [
      "enter number = 4\n",
      "16.0\n",
      "enter number = 4\n",
      "16.0\n",
      "enter number = 4\n",
      "16.0\n",
      "enter number = w\n",
      "you shouldnt enter a string !\n",
      "enter number = 0\n",
      "0.0\n",
      "end of the program.. \n"
     ]
    }
   ],
   "source": [
    "# -*- coding: utf-8 -*-\n",
    "\n",
    "while True:\n",
    "    num = input( \"enter number = \" )\n",
    "    \n",
    "    try:\n",
    "        print( float( num ) ** 2  )\n",
    "\n",
    "    except ValueError: \n",
    "        print( \"you shouldnt enter a string !\")\n",
    "        \n",
    "    if( num == \"0\"):\n",
    "        print( \"end of the program.. \" )\n",
    "        break\n",
    "    "
   ]
  }
 ],
 "metadata": {
  "kernelspec": {
   "display_name": "Python 3",
   "language": "python",
   "name": "python3"
  },
  "language_info": {
   "codemirror_mode": {
    "name": "ipython",
    "version": 3
   },
   "file_extension": ".py",
   "mimetype": "text/x-python",
   "name": "python",
   "nbconvert_exporter": "python",
   "pygments_lexer": "ipython3",
   "version": "3.8.3"
  }
 },
 "nbformat": 4,
 "nbformat_minor": 4
}
