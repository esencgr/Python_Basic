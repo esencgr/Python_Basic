{
 "cells": [
  {
   "cell_type": "markdown",
   "metadata": {},
   "source": [
    "## **FUNCTIONS**"
   ]
  },
  {
   "cell_type": "markdown",
   "metadata": {},
   "source": [
    "### ***Function Usage***"
   ]
  },
  {
   "cell_type": "code",
   "execution_count": 10,
   "metadata": {},
   "outputs": [
    {
     "name": "stdout",
     "output_type": "stream",
     "text": [
      "hello cgr\n",
      "hi user\n"
     ]
    }
   ],
   "source": [
    "def say_hello( name ):\n",
    "    print( \"hello\", name )\n",
    "say_hello(\"cgr\")\n",
    "\n",
    "def say_hi( name = 'user' ):\n",
    "    print( \"hi\", name )\n",
    "say_hi()"
   ]
  },
  {
   "cell_type": "code",
   "execution_count": 4,
   "metadata": {},
   "outputs": [
    {
     "name": "stdout",
     "output_type": "stream",
     "text": [
      "hello, cgr\n"
     ]
    }
   ],
   "source": [
    "def say_hello( name ):\n",
    "    return \"hello, \" + name\n",
    "s = say_hello(\"cgr\") \n",
    "print( s ))"
   ]
  },
  {
   "cell_type": "code",
   "execution_count": 23,
   "metadata": {},
   "outputs": [
    {
     "name": "stdout",
     "output_type": "stream",
     "text": [
      "8\n"
     ]
    }
   ],
   "source": [
    "def total( num1, num2 ):\n",
    "    return num1+num2\n",
    "print( total( 3, 5 ) )"
   ]
  },
  {
   "cell_type": "code",
   "execution_count": 22,
   "metadata": {},
   "outputs": [
    {
     "name": "stdout",
     "output_type": "stream",
     "text": [
      "enter your name : cgr\n",
      "enter birth year : 1994\n",
      "remaining year = 39\n",
      "Help on function retirement in module __main__:\n",
      "\n",
      "retirement(name, birth)\n",
      "    DOCSTRING : Calculate the remaining year.\n",
      "    INPUT : Name, Birth Year\n",
      "    OUTPUT : Remaining Year\n",
      "\n",
      "None\n"
     ]
    }
   ],
   "source": [
    "def age( birth ):\n",
    "   return ( 2020 - birth )\n",
    "\n",
    "def retirement( name, birth ):\n",
    "    '''\n",
    "       DOCSTRING : Calculate the remaining year.\n",
    "       INPUT : Name, Birth Year\n",
    "       OUTPUT : Remaining Year \n",
    "       \n",
    "    '''\n",
    "    ag = age( birth )\n",
    "    year = 65 - ag \n",
    "    if( year > 0 ):\n",
    "        print( f\"remaining year = { year }\" )\n",
    "    else:\n",
    "        print( \"you deserve retirement \")\n",
    "        \n",
    "name = input( \"enter your name : \" )    \n",
    "brth = int(input( \"enter birth year : \" ))\n",
    "retirement( name, brth )\n",
    "\n",
    "print( help( retirement ) )"
   ]
  },
  {
   "cell_type": "markdown",
   "metadata": {},
   "source": [
    "#### ***Note : Help Function*** "
   ]
  },
  {
   "cell_type": "code",
   "execution_count": 24,
   "metadata": {},
   "outputs": [
    {
     "name": "stdout",
     "output_type": "stream",
     "text": [
      "Help on built-in function append:\n",
      "\n",
      "append(object, /) method of builtins.list instance\n",
      "    Append object to the end of the list.\n",
      "\n",
      "None\n"
     ]
    }
   ],
   "source": [
    "lst = [ 1,2,3 ]\n",
    "print( help(lst.append ) ) "
   ]
  },
  {
   "cell_type": "markdown",
   "metadata": {},
   "source": [
    "### ***Function Parameters***"
   ]
  },
  {
   "cell_type": "markdown",
   "metadata": {},
   "source": [
    "####  **Value Type Parameters**"
   ]
  },
  {
   "cell_type": "code",
   "execution_count": 9,
   "metadata": {},
   "outputs": [
    {
     "name": "stdout",
     "output_type": "stream",
     "text": [
      "cgr\n"
     ]
    }
   ],
   "source": [
    "# n is a string and strings are value type \n",
    "# function doesnt use name string's adress  \n",
    "# variable copy\n",
    "\n",
    "def change_name( *n ):\n",
    "    n = \"ada\"\n",
    "    \n",
    "name = \"cgr\" \n",
    "change_name( *name )\n",
    "print( name )"
   ]
  },
  {
   "cell_type": "markdown",
   "metadata": {},
   "source": [
    "#### **Reference Type Parameters**"
   ]
  },
  {
   "cell_type": "markdown",
   "metadata": {},
   "source": [
    "#### ***Functions with List***"
   ]
  },
  {
   "cell_type": "code",
   "execution_count": 10,
   "metadata": {},
   "outputs": [
    {
     "name": "stdout",
     "output_type": "stream",
     "text": [
      "['istanbul', 'ankara']\n"
     ]
    }
   ],
   "source": [
    "# n is a list and list are reference  type \n",
    "# function uses lst list's adress \n",
    "# adress copy\n",
    "\n",
    "def change( n ):\n",
    "    n[ 0 ] = \"istanbul\"\n",
    "\n",
    "cities = [ \"izmir\", \"ankara\" ] \n",
    "change( cities )\n",
    "print( cities )"
   ]
  },
  {
   "cell_type": "code",
   "execution_count": 2,
   "metadata": {},
   "outputs": [
    {
     "name": "stdout",
     "output_type": "stream",
     "text": [
      "['ist', 'ankara']\n"
     ]
    }
   ],
   "source": [
    "cities = [ \"izmir\", \"ankara\" ] \n",
    "n = cities       # adress copy\n",
    "n[ 0 ] = \"ist\" \n",
    "print( cities )  # cities and n list are in the same adres "
   ]
  },
  {
   "cell_type": "code",
   "execution_count": 14,
   "metadata": {},
   "outputs": [
    {
     "name": "stdout",
     "output_type": "stream",
     "text": [
      "['izmir', 'ankara']\n"
     ]
    }
   ],
   "source": [
    "cities = [ \"izmir\", \"ankara\" ] \n",
    "n = cities[ : ]   # value copy : slicing : like as value type assigning\n",
    "n[ 0 ] = \"ist\"\n",
    "print( cities )  \n"
   ]
  },
  {
   "cell_type": "markdown",
   "metadata": {},
   "source": [
    "#### ***Sum Function***"
   ]
  },
  {
   "cell_type": "code",
   "execution_count": 10,
   "metadata": {},
   "outputs": [
    {
     "name": "stdout",
     "output_type": "stream",
     "text": [
      "8\n"
     ]
    }
   ],
   "source": [
    "def add( a, b ):\n",
    "    return sum( (a, b) )\n",
    "\n",
    "print( add(  3,5 ) )"
   ]
  },
  {
   "cell_type": "markdown",
   "metadata": {},
   "source": [
    "#### ***Functions with Tuple***"
   ]
  },
  {
   "cell_type": "code",
   "execution_count": 5,
   "metadata": {},
   "outputs": [
    {
     "name": "stdout",
     "output_type": "stream",
     "text": [
      "(8, 9, 10, 20, 30, 90)\n",
      "8\n",
      "<class 'tuple'>\n",
      "167\n"
     ]
    }
   ],
   "source": [
    "def add( *params ):\n",
    "    print( params ) \n",
    "    print( params[ 0 ] )\n",
    "    print( type(params) ) \n",
    "    return sum( params )\n",
    "\n",
    "# print( add(8, 9, 10) )  # if how many parameter do you want you can enter \n",
    "print( add(8, 9, 10, 20, 30, 90 ) )  \n"
   ]
  },
  {
   "cell_type": "code",
   "execution_count": 4,
   "metadata": {
    "scrolled": false
   },
   "outputs": [
    {
     "name": "stdout",
     "output_type": "stream",
     "text": [
      "167\n"
     ]
    }
   ],
   "source": [
    "# another way to sum \n",
    "def add( *params ):\n",
    "    tot = 0 \n",
    "    for pr in params:\n",
    "        tot += pr \n",
    "    return tot\n",
    "\n",
    "# print( add(8, 9, 10) )  # if how many parameter do you want you can enter \n",
    "print( add(8, 9, 10, 20, 30, 90 ) )  \n"
   ]
  },
  {
   "cell_type": "markdown",
   "metadata": {},
   "source": [
    "#### ***Functions with Dictionary***"
   ]
  },
  {
   "cell_type": "code",
   "execution_count": 25,
   "metadata": {},
   "outputs": [
    {
     "name": "stdout",
     "output_type": "stream",
     "text": [
      "('name', 'cgr')\n",
      "('age', 12)\n",
      "('phone', 1234)\n",
      "name cgr\n",
      "age 12\n",
      "phone 1234\n",
      "<class 'dict'>\n"
     ]
    }
   ],
   "source": [
    "def display( **args ):   # doesnt matter name args or another **param **hi     \n",
    "    for arg in args.items():\n",
    "        print( arg )\n",
    "\n",
    "dic = { \"name\":\"cgr\", \"age\":12, \"phone\": 1234 }\n",
    "display( **dic )\n",
    "\n",
    "\n",
    "# access key and value \n",
    "def display( **args ):   # doesnt matter name args or another **param **hi     \n",
    "    for key,val in args.items():\n",
    "        print( key,val )\n",
    "\n",
    "dic = { \"name\":\"cgr\", \"age\":12, \"phone\": 1234 }\n",
    "display( **dic )\n",
    "print( type (dic) )"
   ]
  },
  {
   "cell_type": "code",
   "execution_count": 1,
   "metadata": {},
   "outputs": [
    {
     "name": "stdout",
     "output_type": "stream",
     "text": [
      "{'key1': 'value1', 'key2': 'value2'}\n",
      "key1 key2\n"
     ]
    },
    {
     "ename": "ValueError",
     "evalue": "too many values to unpack (expected 2)",
     "output_type": "error",
     "traceback": [
      "\u001b[0;31m---------------------------------------------------------------------------\u001b[0m",
      "\u001b[0;31mValueError\u001b[0m                                Traceback (most recent call last)",
      "\u001b[0;32m<ipython-input-1-b420d9b976b6>\u001b[0m in \u001b[0;36m<module>\u001b[0;34m\u001b[0m\n\u001b[1;32m      9\u001b[0m     \u001b[0;32mfor\u001b[0m \u001b[0mkey\u001b[0m\u001b[0;34m,\u001b[0m \u001b[0mval\u001b[0m \u001b[0;32min\u001b[0m \u001b[0mkwargs\u001b[0m\u001b[0;34m:\u001b[0m\u001b[0;34m\u001b[0m\u001b[0;34m\u001b[0m\u001b[0m\n\u001b[1;32m     10\u001b[0m         \u001b[0mprint\u001b[0m\u001b[0;34m(\u001b[0m \u001b[0mkey\u001b[0m \u001b[0;34m)\u001b[0m\u001b[0;34m\u001b[0m\u001b[0;34m\u001b[0m\u001b[0m\n\u001b[0;32m---> 11\u001b[0;31m \u001b[0mfun\u001b[0m\u001b[0;34m(\u001b[0m \u001b[0;34m**\u001b[0m\u001b[0mdic\u001b[0m \u001b[0;34m)\u001b[0m\u001b[0;34m\u001b[0m\u001b[0;34m\u001b[0m\u001b[0m\n\u001b[0m",
      "\u001b[0;32m<ipython-input-1-b420d9b976b6>\u001b[0m in \u001b[0;36mfun\u001b[0;34m(**kwargs)\u001b[0m\n\u001b[1;32m      7\u001b[0m \u001b[0mdic\u001b[0m \u001b[0;34m=\u001b[0m \u001b[0;34m{\u001b[0m \u001b[0;34m\"name\"\u001b[0m\u001b[0;34m:\u001b[0m\u001b[0;34m\"cgr\"\u001b[0m\u001b[0;34m,\u001b[0m \u001b[0;34m\"age\"\u001b[0m\u001b[0;34m:\u001b[0m\u001b[0;36m12\u001b[0m\u001b[0;34m,\u001b[0m \u001b[0;34m\"phone\"\u001b[0m\u001b[0;34m:\u001b[0m \u001b[0;36m1234\u001b[0m \u001b[0;34m}\u001b[0m\u001b[0;34m\u001b[0m\u001b[0;34m\u001b[0m\u001b[0m\n\u001b[1;32m      8\u001b[0m \u001b[0;32mdef\u001b[0m \u001b[0mfun\u001b[0m\u001b[0;34m(\u001b[0m \u001b[0;34m**\u001b[0m\u001b[0mkwargs\u001b[0m \u001b[0;34m)\u001b[0m\u001b[0;34m:\u001b[0m\u001b[0;34m\u001b[0m\u001b[0;34m\u001b[0m\u001b[0m\n\u001b[0;32m----> 9\u001b[0;31m     \u001b[0;32mfor\u001b[0m \u001b[0mkey\u001b[0m\u001b[0;34m,\u001b[0m \u001b[0mval\u001b[0m \u001b[0;32min\u001b[0m \u001b[0mkwargs\u001b[0m\u001b[0;34m:\u001b[0m\u001b[0;34m\u001b[0m\u001b[0;34m\u001b[0m\u001b[0m\n\u001b[0m\u001b[1;32m     10\u001b[0m         \u001b[0mprint\u001b[0m\u001b[0;34m(\u001b[0m \u001b[0mkey\u001b[0m \u001b[0;34m)\u001b[0m\u001b[0;34m\u001b[0m\u001b[0;34m\u001b[0m\u001b[0m\n\u001b[1;32m     11\u001b[0m \u001b[0mfun\u001b[0m\u001b[0;34m(\u001b[0m \u001b[0;34m**\u001b[0m\u001b[0mdic\u001b[0m \u001b[0;34m)\u001b[0m\u001b[0;34m\u001b[0m\u001b[0;34m\u001b[0m\u001b[0m\n",
      "\u001b[0;31mValueError\u001b[0m: too many values to unpack (expected 2)"
     ]
    }
   ],
   "source": [
    "def display( **kwargs ):\n",
    "    print( kwargs )\n",
    "    print( *kwargs )\n",
    "    \n",
    "display( key1 = \"value1\", key2 = \"value2\"  )\n",
    "\n",
    "dic = { \"name\":\"cgr\", \"age\":12, \"phone\": 1234 }\n",
    "def fun( **kwargs ):\n",
    "    for key, val in kwargs:\n",
    "        print( key )\n",
    "fun( **dic )"
   ]
  },
  {
   "cell_type": "code",
   "execution_count": 47,
   "metadata": {},
   "outputs": [
    {
     "name": "stdout",
     "output_type": "stream",
     "text": [
      "3 4 5 (10, 20, 30) {'key1': 'value1', 'key2': 'value2'}\n"
     ]
    }
   ],
   "source": [
    "def display( a, b, c, *args, **kwargs ):\n",
    "    print( a, b, c, args, kwargs )\n",
    "    \n",
    "display( 3, 4, 5, 10, 20, 30, key1 = \"value1\", key2 = \"value2\"  )"
   ]
  },
  {
   "cell_type": "code",
   "execution_count": null,
   "metadata": {},
   "outputs": [],
   "source": [
    "\n",
    "\n",
    "\n",
    "\n",
    "\n",
    "\n",
    "\n",
    "\n",
    "\n",
    "\n",
    "\n",
    "\n",
    "\n",
    "\n",
    "\n"
   ]
  }
 ],
 "metadata": {
  "kernelspec": {
   "display_name": "Python 3",
   "language": "python",
   "name": "python3"
  },
  "language_info": {
   "codemirror_mode": {
    "name": "ipython",
    "version": 3
   },
   "file_extension": ".py",
   "mimetype": "text/x-python",
   "name": "python",
   "nbconvert_exporter": "python",
   "pygments_lexer": "ipython3",
   "version": "3.8.3"
  }
 },
 "nbformat": 4,
 "nbformat_minor": 4
}
