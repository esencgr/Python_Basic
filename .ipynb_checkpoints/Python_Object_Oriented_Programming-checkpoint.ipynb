{
 "cells": [
  {
   "cell_type": "markdown",
   "metadata": {},
   "source": [
    "# OBJECT ORIENTED PROGRAMMING"
   ]
  },
  {
   "cell_type": "markdown",
   "metadata": {},
   "source": [
    "## Class - Instance(object)"
   ]
  },
  {
   "cell_type": "markdown",
   "metadata": {},
   "source": [
    "* For ex: Lists defined as a class. \n",
    "* And we can use a list in this class called as an instance or object. \n",
    "* We can use a lot of defined methods in this class .\n",
    "        "
   ]
  },
  {
   "cell_type": "code",
   "execution_count": 1,
   "metadata": {},
   "outputs": [
    {
     "name": "stdout",
     "output_type": "stream",
     "text": [
      "<class 'list'>\n",
      "<class 'list'>\n",
      "append\n",
      "clear\n",
      "copy\n",
      "count\n",
      "extend\n",
      "index\n",
      "insert\n",
      "pop\n",
      "remove\n",
      "reverse\n",
      "sort\n"
     ]
    }
   ],
   "source": [
    "lst1 = [1,2,3,4]\n",
    "lst2 = [1,2,3]\n",
    "\n",
    "#instances - objects \n",
    "print(type(lst1))   \n",
    "print(type(lst2))\n",
    "\n",
    "# methods\n",
    "for m in dir(list):\n",
    "    if \"_\" not in m:\n",
    "        print(m)\n"
   ]
  },
  {
   "cell_type": "markdown",
   "metadata": {},
   "source": [
    "### *Example:*"
   ]
  },
  {
   "cell_type": "code",
   "execution_count": 2,
   "metadata": {},
   "outputs": [
    {
     "name": "stdout",
     "output_type": "stream",
     "text": [
      "bmw\n"
     ]
    }
   ],
   "source": [
    "class Car:\n",
    "    model = \"bmw\"\n",
    "    color = \"blue\"\n",
    "    fuel = 100\n",
    "car1 = Car()\n",
    "print(car1.model)"
   ]
  },
  {
   "cell_type": "markdown",
   "metadata": {},
   "source": [
    "### *Example:*"
   ]
  },
  {
   "cell_type": "code",
   "execution_count": 3,
   "metadata": {},
   "outputs": [
    {
     "name": "stdout",
     "output_type": "stream",
     "text": [
      "bmw\n",
      "pego\n",
      "50\n"
     ]
    }
   ],
   "source": [
    "class Car: \n",
    "    \n",
    "    def __init__(self, model, color, fuel):\n",
    "        self.model = model\n",
    "        self.color = color\n",
    "        self.fuel = fuel\n",
    "        \n",
    "car1 = Car(\"bmw\", \"blue\", 100)\n",
    "car2 = Car(\"pego\", \"white\", 90)\n",
    "\n",
    "print(car1.model)\n",
    "print(car2.model)\n",
    "\n",
    "car2.fuel = 50\n",
    "print(car2.fuel)"
   ]
  },
  {
   "cell_type": "markdown",
   "metadata": {},
   "source": [
    "### *Example:*"
   ]
  },
  {
   "cell_type": "code",
   "execution_count": 4,
   "metadata": {},
   "outputs": [
    {
     "name": "stdout",
     "output_type": "stream",
     "text": [
      "megane\n",
      "blue\n",
      "100\n"
     ]
    }
   ],
   "source": [
    "class Car:\n",
    "    \n",
    "    def __init__(self, model = \"renault\", color = \"red\", fuel = 0):\n",
    "        self.model = model\n",
    "        self.color = color\n",
    "        self.fuel = fuel\n",
    "        \n",
    "car3 = Car(model = \"megane\",color = \"blue\", fuel = 100)\n",
    "print(car3.model)\n",
    "print(car3.color)\n",
    "print(car3.fuel)"
   ]
  },
  {
   "cell_type": "markdown",
   "metadata": {},
   "source": [
    "### *Example:*"
   ]
  },
  {
   "cell_type": "code",
   "execution_count": 5,
   "metadata": {},
   "outputs": [
    {
     "name": "stdout",
     "output_type": "stream",
     "text": [
      "['defense', 'ofense']\n",
      "[]\n",
      "['scoped']\n",
      "['machine gun']\n"
     ]
    }
   ],
   "source": [
    "class Army:\n",
    "    capabilities = [\"defense\",\"ofense\"]          ## this attribute is defined by all class \n",
    "    \n",
    "    def __init__(self, capabilities = list()):   ## and this one is defined by only own objects \n",
    "        self.capabilities = capabilities\n",
    "        \n",
    "print(Army.capabilities)\n",
    "\n",
    "soldier_1 = Army()\n",
    "print(soldier_1.capabilities)\n",
    "\n",
    "soldier_2 = Army(capabilities = [\"scoped\"])\n",
    "print(soldier_2.capabilities)\n",
    "\n",
    "soldier_1.capabilities.append(\"machine gun\")\n",
    "print(soldier_1.capabilities)"
   ]
  },
  {
   "cell_type": "markdown",
   "metadata": {},
   "source": [
    "## Methods:\n"
   ]
  },
  {
   "cell_type": "markdown",
   "metadata": {},
   "source": [
    "### *Example:*"
   ]
  },
  {
   "cell_type": "markdown",
   "metadata": {},
   "source": [
    "* class --> person (name, bithday) method (age())\n",
    "* instance --> let p1 (sena, 1999)\n",
    "* instance --> let p2 (mert, 1990)"
   ]
  },
  {
   "cell_type": "code",
   "execution_count": 6,
   "metadata": {},
   "outputs": [
    {
     "name": "stdout",
     "output_type": "stream",
     "text": [
      "hello there. I am ahmet\n",
      "hello there. I am veli\n",
      "first person name : ahmet and age : 30\n",
      "second person name : veli and age: 22\n"
     ]
    }
   ],
   "source": [
    "# class \n",
    "class Person:\n",
    "    \n",
    "    # class attributes\n",
    "    adress = \"no information\"\n",
    "    \n",
    "    # constructor (yapıcı metodlar)\n",
    "    def __init__(self, name, year):  # self -> p1 or self -> p2 \n",
    "        # object attributes\n",
    "        self.name = name \n",
    "        self.year = year\n",
    "        \n",
    "    # instance methods\n",
    "    def intro(self):\n",
    "        print(\"hello there. I am \" + self.name )\n",
    "    \n",
    "    def age(self):\n",
    "        return 2020 - self.year\n",
    "    \n",
    "# object definition\n",
    "p1 = Person(name = 'ali', year = 1990)\n",
    "p2 = Person(name = 'veli', year = 1998)\n",
    "\n",
    "# updating \n",
    "p1.name = \"ahmet\"\n",
    "# p1.adress = \"\"\n",
    "\n",
    "p1.intro()\n",
    "p2.intro()\n",
    "\n",
    "# accesing object atttibutes\n",
    "print(f'first person name : {p1.name} and age : {p1.age()}')\n",
    "print(f'second person name : {p2.name} and age: {p2.age()}')\n",
    "\n",
    "\n",
    "# p1 and p2 are in different adress\n",
    "# print(p1)      \n",
    "# print(p2)\n",
    "\n",
    "# print(type(p1))\n",
    "# print(p1 == p2)  # different obj"
   ]
  },
  {
   "cell_type": "markdown",
   "metadata": {},
   "source": [
    "### *Example:*"
   ]
  },
  {
   "cell_type": "markdown",
   "metadata": {},
   "source": [
    "* class --> circle(radius) - method(calculate_env(), calculate_area())\n",
    "* instance --> let circle1(r)\n",
    "* instance --> let circle2(r)"
   ]
  },
  {
   "cell_type": "code",
   "execution_count": 7,
   "metadata": {},
   "outputs": [
    {
     "name": "stdout",
     "output_type": "stream",
     "text": [
      "env of circle one : 6.28\n",
      "area of circle one : 3.14\n",
      "\n",
      "\n",
      "env of circle two : 25.12\n",
      "area of circle two : 50.24\n"
     ]
    }
   ],
   "source": [
    "class Circle:\n",
    "    \n",
    "    # class attributes\n",
    "    pi = 3.14\n",
    "\n",
    "    # constructor (yapıcı metodlar)\n",
    "    def __init__(self, r = 1):\n",
    "        self.r = r\n",
    "    \n",
    "    # instance methods\n",
    "    def env(self):\n",
    "        return 2 * self.pi * self.r\n",
    "    \n",
    "    def area(self):\n",
    "        return self.pi * (self.r ** 2)  \n",
    "    \n",
    "# object definition\n",
    "# rad = float(input(\"enter radius : \")) \n",
    "# c1 = circle(rad)\n",
    "c1 = Circle()\n",
    "c2 = Circle(4)\n",
    "\n",
    "# accesing object atttibutes\n",
    "print(f\"env of circle one : {c1.env()}\")\n",
    "print(f\"area of circle one : {c1.area()}\")\n",
    "\n",
    "print(\"\\n\")\n",
    "\n",
    "print(f\"env of circle two : {c2.env()}\")\n",
    "print(f\"area of circle two : {c2.area()}\")"
   ]
  },
  {
   "cell_type": "markdown",
   "metadata": {},
   "source": [
    "### *Example:*"
   ]
  },
  {
   "cell_type": "markdown",
   "metadata": {},
   "source": [
    "* class --> workers(name, surname, salary, languages) methods(add_salary(), add_langage()) \n",
    "* instance --> let staff1()\n"
   ]
  },
  {
   "cell_type": "code",
   "execution_count": 8,
   "metadata": {},
   "outputs": [
    {
     "name": "stdout",
     "output_type": "stream",
     "text": [
      "\n",
      "              STAFF INFORMATION \n",
      "              \n",
      "              name = cgr\n",
      "              salary = 1000\n",
      "              languages = ['C', 'PYTHON', 'C++']\n",
      "              \n",
      "              \n",
      "\n",
      "              STAFF INFORMATION \n",
      "              \n",
      "              name = cgr\n",
      "              salary = 1010\n",
      "              languages = ['C', 'PYTHON', 'C++', 'R']\n",
      "              \n",
      "              \n",
      "perform of staff = 15\n"
     ]
    }
   ],
   "source": [
    "class Workers:\n",
    "    \n",
    "    # constructors\n",
    "    def __init__(self, name, salary, languages):\n",
    "        self.name = name\n",
    "        self.salary = salary\n",
    "        self.languages = languages\n",
    "    \n",
    "    # instance methods \n",
    "    def show_info(self):\n",
    "        print(f\"\"\"\n",
    "              STAFF INFORMATION \n",
    "              \n",
    "              name = {self.name}\n",
    "              salary = {self.salary}\n",
    "              languages = {self.languages}\n",
    "              \n",
    "              \"\"\")\n",
    "    \n",
    "    def add_salary(self, val):\n",
    "        self.salary += val\n",
    "    \n",
    "    def add_language(self, lan):\n",
    "        self.languages.append(lan)\n",
    "        \n",
    "staff = Workers(\"cgr\", 1000, [\"C\", \"PYTHON\", \"C++\"])\n",
    "staff.show_info()\n",
    "\n",
    "staff.add_salary(10)\n",
    "staff.add_language(\"R\")\n",
    "staff.show_info()\n",
    "\n",
    "# Create new atrributes \n",
    "staff.perform = 15\n",
    "print(\"perform of staff =\", staff.perform)"
   ]
  },
  {
   "cell_type": "markdown",
   "metadata": {},
   "source": [
    "## Inheritance"
   ]
  },
  {
   "cell_type": "markdown",
   "metadata": {},
   "source": [
    "- Inheritance : miras alma \n",
    "- Person -> name, lastname, age , eat() run()\n",
    "- Student(Person), Teacher(Person)\n",
    "- All attributes of Person class allows the Student class.\n",
    "- Main class - Sub class "
   ]
  },
  {
   "cell_type": "code",
   "execution_count": 9,
   "metadata": {},
   "outputs": [
    {
     "name": "stdout",
     "output_type": "stream",
     "text": [
      "person created\n",
      "person created\n",
      "student created\n"
     ]
    }
   ],
   "source": [
    "class Person:\n",
    "    def __init__(self):\n",
    "        print(\"person created\")\n",
    "        \n",
    "class Student(Person):\n",
    "    def __init__(self):\n",
    "        Person.__init__(self)\n",
    "        print(\"student created\")\n",
    "    \n",
    "p = Person()\n",
    "s = Student()"
   ]
  },
  {
   "cell_type": "markdown",
   "metadata": {},
   "source": [
    "### *Example:*"
   ]
  },
  {
   "cell_type": "markdown",
   "metadata": {},
   "source": [
    "- class workers --> name salary department\n",
    "- class workers(class manager, class engineer, class intern)"
   ]
  },
  {
   "cell_type": "code",
   "execution_count": 10,
   "metadata": {},
   "outputs": [
    {
     "name": "stdout",
     "output_type": "stream",
     "text": [
      "workers init function\n",
      "name : CAGRI\n",
      "salary : 1000\n",
      "department : management\n",
      "\n",
      "name : CAGRI\n",
      "salary : 1000\n",
      "department : human resorces\n",
      "\n",
      "name : CAGRI\n",
      "salary : 1100\n",
      "department : human resorces\n"
     ]
    }
   ],
   "source": [
    "class Workers:\n",
    "    def __init__(self, name, salary, department):\n",
    "        print(\"workers init function\")\n",
    "        self.name = name \n",
    "        self.salary = salary\n",
    "        self.department = department\n",
    "    \n",
    "    def show(self):\n",
    "        print(f\"name : {self.name}\\nsalary : {self.salary}\\ndepartment : {self.department}\")\n",
    "        \n",
    "    def change_department(self, new_department):\n",
    "        self.department = new_department\n",
    "\n",
    "        \n",
    "class Manager(Workers):\n",
    "    def add_salary(self, value):\n",
    "        self.salary += value \n",
    "\n",
    "    \n",
    "m = Manager(\"CAGRI\", 1000, \"management\")\n",
    "m.show()\n",
    "print()\n",
    "\n",
    "m.change_department(\"human resorces\")\n",
    "m.show()\n",
    "print()\n",
    "\n",
    "m.add_salary(100)\n",
    "m.show()"
   ]
  },
  {
   "cell_type": "markdown",
   "metadata": {},
   "source": [
    "## Overriding\n"
   ]
  },
  {
   "cell_type": "code",
   "execution_count": 11,
   "metadata": {},
   "outputs": [
    {
     "name": "stdout",
     "output_type": "stream",
     "text": [
      "manager class init function\n",
      "workers class init function\n",
      "name : CAGRI\n",
      "salary : 1000\n",
      "department : management\n",
      "total person : 1000\n"
     ]
    }
   ],
   "source": [
    "class Workers:\n",
    "    def __init__(self, name, salary, department):\n",
    "        print(\"workers class init function\")\n",
    "        self.name = name \n",
    "        self.salary = salary\n",
    "        self.department = department\n",
    "    \n",
    "    def show(self):\n",
    "        print(f\"name : {self.name}\\nsalary : {self.salary}\\ndepartment : {self.department}\")\n",
    "        \n",
    "    def change_department(self, new_department):\n",
    "        self.department = new_department\n",
    "\n",
    "        \n",
    "class Manager(Workers):\n",
    "    # override init function - super\n",
    "    def __init__(self, name, salary, department, total_person):\n",
    "        print(\"manager class init function\")\n",
    "        #self.name = name \n",
    "        #self.salary = salary\n",
    "        #self.department = department\n",
    "        super().__init__(name, salary, department)\n",
    "        self.total_person = total_person\n",
    "    \n",
    "    # override show function\n",
    "    def show(self):\n",
    "        print(f\"name : {self.name}\\nsalary : {self.salary}\\ndepartment : {self.department}\\ntotal person : {self.total_person}\")\n",
    "        \n",
    "    def add_salary(self, value):\n",
    "        self.salary += value \n",
    "        \n",
    "m = Manager(\"CAGRI\", 1000, \"management\", 1000) # if we add this value parameter : total person override init\n",
    "m.show()                                       # we use overriding show function "
   ]
  },
  {
   "cell_type": "code",
   "execution_count": 12,
   "metadata": {},
   "outputs": [
    {
     "name": "stdout",
     "output_type": "stream",
     "text": [
      "Person created\n",
      "Person created\n",
      "Student created\n",
      "Person created\n",
      "Teacher created\n",
      "\n",
      "I am a PERSON\n",
      "cgr  26\n",
      "I am a STUDENT\n",
      "My number is 1111\n",
      "I am a TEACHER\n",
      "I am a math teacher\n",
      "\n",
      "I am eating\n",
      "I am eating\n"
     ]
    }
   ],
   "source": [
    "class Person:\n",
    "    def __init__(self, name, age):\n",
    "        self.name = name \n",
    "        self.age = age\n",
    "        print(\"Person created\")\n",
    "    \n",
    "    def who_am_i(self):\n",
    "        print(\"I am a PERSON\")\n",
    "        print(f\"{self.name}  {self.age}\")\n",
    "    \n",
    "    def eat(self):\n",
    "        print(\"I am eating\")\n",
    "        \n",
    "        \n",
    "        \n",
    "class Student(Person):\n",
    "    # override init function\n",
    "    def __init__(self, name, age, number):\n",
    "        Person.__init__(self, name, age)\n",
    "        self.number = number \n",
    "        print(\"Student created\")\n",
    "    \n",
    "    # override who_am_i func. \n",
    "    def who_am_i(self):                  # This function override the other who_am_i function \n",
    "        print(\"I am a STUDENT\")\n",
    "        print(f\"My number is {self.number}\")\n",
    "\n",
    "        \n",
    "    \n",
    "class Teacher(Person):    \n",
    "    # override init function - super\n",
    "    def __init__(self, name, age, branch):\n",
    "        super().__init__(name, age)           # if you define super function you dont use self parameter \n",
    "        self.branch = branch\n",
    "        print(\"Teacher created\")\n",
    "        \n",
    "    # overiide who_am_i func.\n",
    "    def who_am_i(self):\n",
    "        print(\"I am a TEACHER\")\n",
    "        print(f\"I am a {self.branch} teacher\")\n",
    "    \n",
    "    \n",
    "p = Person(name = \"cgr\", age = 26)\n",
    "s = Student(name = \"esen\", age = 20, number = 1111)\n",
    "t = Teacher(name = \"erkan\", age = 35, branch = \"math\")\n",
    "\n",
    "print()\n",
    "p.who_am_i()\n",
    "s.who_am_i()\n",
    "t.who_am_i()\n",
    "\n",
    "\n",
    "print()\n",
    "p.eat()\n",
    "s.eat()"
   ]
  },
  {
   "cell_type": "markdown",
   "metadata": {},
   "source": [
    "## Special Methods"
   ]
  },
  {
   "cell_type": "code",
   "execution_count": 13,
   "metadata": {},
   "outputs": [
    {
     "name": "stdout",
     "output_type": "stream",
     "text": [
      "3\n",
      "<class 'list'>\n"
     ]
    }
   ],
   "source": [
    "# len\n",
    "l = [1,2,3]\n",
    "print(len(l))\n",
    "\n",
    "# type \n",
    "print(type(l))"
   ]
  },
  {
   "cell_type": "code",
   "execution_count": 14,
   "metadata": {},
   "outputs": [
    {
     "name": "stdout",
     "output_type": "stream",
     "text": [
      "<class '__main__.Manager'>\n"
     ]
    }
   ],
   "source": [
    "class Movie:\n",
    "    pass \n",
    "\n",
    "# type \n",
    "print(type(m))        #type method defines for class\n",
    "\n",
    "#len                  #len method dont defines for class\n",
    "m = Movie()\n",
    "# print(len(m))"
   ]
  },
  {
   "cell_type": "code",
   "execution_count": 15,
   "metadata": {},
   "outputs": [
    {
     "name": "stdout",
     "output_type": "stream",
     "text": [
      "<__main__.Movie object at 0x7f5c885f3400>\n"
     ]
    }
   ],
   "source": [
    "class Movie:\n",
    "    def __init__(self, title, director, duration):\n",
    "        self.title = title\n",
    "        self.director = director\n",
    "        self.duration = duration\n",
    "        \n",
    "m = Movie(\"x\", \"y\", \"120dk\")\n",
    "print(m)                      "
   ]
  },
  {
   "cell_type": "code",
   "execution_count": 16,
   "metadata": {},
   "outputs": [
    {
     "name": "stdout",
     "output_type": "stream",
     "text": [
      "movie object created.\n",
      "movie name : x  --  director : y\n",
      "120\n"
     ]
    }
   ],
   "source": [
    "class Movie:\n",
    "    def __init__(self, title, director, duration):\n",
    "        print(\"movie object created.\")\n",
    "        self.title = title\n",
    "        self.director = director\n",
    "        self.duration = duration\n",
    "    \n",
    "    def __str__(self):\n",
    "        \n",
    "        return (f\"movie name : {self.title}  --  director : {self.director}\")\n",
    "\n",
    "    def __len__(self):\n",
    "        return (self.duration)\n",
    "    \n",
    "    def __del__(self):\n",
    "        print(\"movie object deleted\")\n",
    "    \n",
    "m = Movie(\"x\", \"y\", 120)\n",
    "print(m)\n",
    "print(len(m))"
   ]
  },
  {
   "cell_type": "code",
   "execution_count": 17,
   "metadata": {},
   "outputs": [
    {
     "name": "stdout",
     "output_type": "stream",
     "text": [
      "movie object deleted\n"
     ]
    }
   ],
   "source": [
    "del m"
   ]
  },
  {
   "cell_type": "code",
   "execution_count": 18,
   "metadata": {},
   "outputs": [
    {
     "ename": "NameError",
     "evalue": "name 'm' is not defined",
     "output_type": "error",
     "traceback": [
      "\u001b[0;31m---------------------------------------------------------------------------\u001b[0m",
      "\u001b[0;31mNameError\u001b[0m                                 Traceback (most recent call last)",
      "\u001b[0;32m<ipython-input-18-9a40b379906c>\u001b[0m in \u001b[0;36m<module>\u001b[0;34m\u001b[0m\n\u001b[0;32m----> 1\u001b[0;31m \u001b[0mm\u001b[0m\u001b[0;34m\u001b[0m\u001b[0;34m\u001b[0m\u001b[0m\n\u001b[0m",
      "\u001b[0;31mNameError\u001b[0m: name 'm' is not defined"
     ]
    }
   ],
   "source": [
    "m"
   ]
  },
  {
   "cell_type": "markdown",
   "metadata": {},
   "source": [
    "## Encapsulation"
   ]
  },
  {
   "cell_type": "markdown",
   "metadata": {},
   "source": [
    "- Encapsulation : erişimi engelleme \n",
    "- for example : in a company only management personel can access workers salary and changed it.\n",
    "- For this reason some methods and attributes is acceseble by spesific class "
   ]
  },
  {
   "cell_type": "markdown",
   "metadata": {},
   "source": [
    "- ***avoiding access attributes***"
   ]
  },
  {
   "cell_type": "code",
   "execution_count": null,
   "metadata": {},
   "outputs": [],
   "source": [
    "class Teacher():    \n",
    "    def __init__(self, name, salary, branch):\n",
    "        self.name = name             # general variables \n",
    "        self.__salary = salary       # special variable        \n",
    "        self.branch = branch         # general variables \n",
    "        print(\"Teacher created\")\n",
    "        \n",
    "    def who_am_i(self):\n",
    "        print(f\"{self.name} is a teacher that have {self.age} salary and his branch is {self.branch}\")\n",
    "\n",
    "    def raise_salary(self, percent):\n",
    "        return self.salary * 1.5 "
   ]
  },
  {
   "cell_type": "code",
   "execution_count": null,
   "metadata": {},
   "outputs": [],
   "source": [
    "cgr = Teacher(\"Cgr\", 1000, \"math\")\n",
    "print(cgr.name)\n",
    "print(cgr.__salary)"
   ]
  },
  {
   "cell_type": "markdown",
   "metadata": {},
   "source": [
    "- Maybe we need access this variable.\n",
    "- In this case we can use special method defines by our in this way we can access special var"
   ]
  },
  {
   "cell_type": "code",
   "execution_count": null,
   "metadata": {},
   "outputs": [],
   "source": [
    "class Teacher():    \n",
    "    def __init__(self, name, salary, branch):\n",
    "        self.name = name             # general variables \n",
    "        self.__salary = salary       # special variable        \n",
    "        self.branch = branch         # general variables \n",
    "        print(\"Teacher created\")\n",
    "        \n",
    "    def who_am_i(self):\n",
    "        print(f\"{self.name} is a teacher that have {self.age} salary and his branch is {self.branch}\")\n",
    "\n",
    "    def raise_salary(self, percent):\n",
    "        return self.__salary * percent \n",
    "    \n",
    "    def get_salary(self):\n",
    "        return self.__salary\n",
    "    \n",
    "    def set_salary(self, new_salary):\n",
    "        self.__salary = new_salary"
   ]
  },
  {
   "cell_type": "code",
   "execution_count": null,
   "metadata": {},
   "outputs": [],
   "source": [
    "cgr = Teacher(\"Cgr\", 1000, \"math\")\n",
    "print(cgr.get_salary())\n",
    "\n",
    "cgr.set_salary(cgr.raise_salary(1.5))\n",
    "print(cgr.get_salary())"
   ]
  },
  {
   "cell_type": "markdown",
   "metadata": {},
   "source": [
    "- ***avoiding access methods***"
   ]
  },
  {
   "cell_type": "code",
   "execution_count": null,
   "metadata": {},
   "outputs": [],
   "source": [
    "class Teacher():    \n",
    "    def __init__(self, name, salary, branch):\n",
    "        self.name = name             # general variables \n",
    "        self.__salary = salary       # special variable        \n",
    "        self.branch = branch         # general variables \n",
    "        print(\"Teacher created\")\n",
    "        \n",
    "    def who_am_i(self):\n",
    "        print(f\"{self.name} is a teacher that have {self.age} salary and his branch is {self.branch}\")\n",
    "\n",
    "    def __raise_salary(self, percent):   # special method\n",
    "        return self.__salary * percent \n",
    "    \n",
    "    def get_salary(self):\n",
    "        return self.__salary\n",
    "    \n",
    "    def set_salary(self, new_salary):\n",
    "        self.__salary = new_salary"
   ]
  },
  {
   "cell_type": "code",
   "execution_count": null,
   "metadata": {
    "scrolled": true
   },
   "outputs": [],
   "source": [
    "cgr = Teacher(\"Cgr\", 1000, \"math\")\n",
    "print(cgr.get_salary())\n",
    "\n",
    "print(cgr.__raise_salary(1.5))  # avoiding the raise method"
   ]
  },
  {
   "cell_type": "markdown",
   "metadata": {},
   "source": [
    "## Abstract Class"
   ]
  },
  {
   "cell_type": "markdown",
   "metadata": {},
   "source": [
    "- Abstract Class : Soyut sınıf \n",
    "- They act as templates for subclasses.\n",
    "- There are two important point:"
   ]
  },
  {
   "cell_type": "markdown",
   "metadata": {},
   "source": [
    "- ***can not create an object from abstract class***"
   ]
  },
  {
   "cell_type": "code",
   "execution_count": 24,
   "metadata": {},
   "outputs": [],
   "source": [
    "from abc import ABC,abstractmethod\n",
    "\n",
    "class Animal(ABC):\n",
    "    @abstractmethod \n",
    "    def walk(self):\n",
    "        print(\"animal walking\")\n",
    "        \n",
    "    @abstractmethod \n",
    "    def run(self):\n",
    "        print(\"animal running\")\n"
   ]
  },
  {
   "cell_type": "code",
   "execution_count": 26,
   "metadata": {},
   "outputs": [
    {
     "ename": "TypeError",
     "evalue": "Can't instantiate abstract class Animal with abstract methods run, walk",
     "output_type": "error",
     "traceback": [
      "\u001b[0;31m---------------------------------------------------------------------------\u001b[0m",
      "\u001b[0;31mTypeError\u001b[0m                                 Traceback (most recent call last)",
      "\u001b[0;32m<ipython-input-26-728b981361c4>\u001b[0m in \u001b[0;36m<module>\u001b[0;34m\u001b[0m\n\u001b[0;32m----> 1\u001b[0;31m \u001b[0mking\u001b[0m \u001b[0;34m=\u001b[0m \u001b[0mAnimal\u001b[0m\u001b[0;34m(\u001b[0m\u001b[0;34m)\u001b[0m\u001b[0;34m\u001b[0m\u001b[0;34m\u001b[0m\u001b[0m\n\u001b[0m",
      "\u001b[0;31mTypeError\u001b[0m: Can't instantiate abstract class Animal with abstract methods run, walk"
     ]
    }
   ],
   "source": [
    "king = Animal()"
   ]
  },
  {
   "cell_type": "code",
   "execution_count": 27,
   "metadata": {},
   "outputs": [],
   "source": [
    "from abc import ABC,abstractmethod\n",
    "\n",
    "class Animal(ABC):\n",
    "    @abstractmethod \n",
    "    def walk(self):\n",
    "        print(\"animal walking\")\n",
    "        \n",
    "    @abstractmethod \n",
    "    def run(self):\n",
    "        print(\"animal running\")\n",
    "\n",
    "class King(Animal): \n",
    "    def walk(self):\n",
    "        print(\"king walking\")\n",
    "        \n",
    "    def run(self):\n",
    "        print(\"king running\")"
   ]
  },
  {
   "cell_type": "code",
   "execution_count": null,
   "metadata": {},
   "outputs": [],
   "source": []
  },
  {
   "cell_type": "markdown",
   "metadata": {},
   "source": [
    "- ***if you will use this methods in a subclass you must define again***"
   ]
  },
  {
   "cell_type": "code",
   "execution_count": null,
   "metadata": {},
   "outputs": [],
   "source": []
  }
 ],
 "metadata": {
  "kernelspec": {
   "display_name": "Python 3.8.5 64-bit ('base': conda)",
   "language": "python",
   "name": "python38564bitbasecondaa36d23ca368c4a06b017f2cbb1bc53a3"
  },
  "language_info": {
   "codemirror_mode": {
    "name": "ipython",
    "version": 3
   },
   "file_extension": ".py",
   "mimetype": "text/x-python",
   "name": "python",
   "nbconvert_exporter": "python",
   "pygments_lexer": "ipython3",
   "version": "3.8.5"
  },
  "widgets": {
   "application/vnd.jupyter.widget-state+json": {
    "state": {},
    "version_major": 2,
    "version_minor": 0
   }
  }
 },
 "nbformat": 4,
 "nbformat_minor": 4
}
