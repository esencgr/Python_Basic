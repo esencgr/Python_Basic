{
 "cells": [
  {
   "cell_type": "markdown",
   "metadata": {},
   "source": [
    "## **CONDITION BLOCKS**\n",
    "### ***If - Else Blocks***"
   ]
  },
  {
   "cell_type": "code",
   "execution_count": 11,
   "metadata": {},
   "outputs": [
    {
     "name": "stdout",
     "output_type": "stream",
     "text": [
      "enter name : cr1234\n",
      "enter passwrd : 1233\n",
      "wrong name !\n"
     ]
    }
   ],
   "source": [
    "name, password = \"cgr\", 1234\n",
    "\n",
    "usr = input( \"enter name : \" )\n",
    "psw = int(input( \"enter passwrd : \" ))\n",
    "\n",
    "check_login = ( name == usr ) and ( password == psw )\n",
    "\n",
    "# if check_login:\n",
    "#     print( \"succesfull login.\" )\n",
    "# else:\n",
    "#     print( \"unsuccesfull login.\" )\n",
    "\n",
    "# which one is wrong ?\n",
    "\n",
    "if name == usr:\n",
    "    if password == psw:\n",
    "        print( \"succesfull login..\" )\n",
    "    else:\n",
    "        print( \"wrong password !\" )\n",
    "else: \n",
    "    print( \"wrong name !\" )\n",
    "# which one wrong  ?"
   ]
  },
  {
   "cell_type": "markdown",
   "metadata": {},
   "source": [
    "### ***If - Elif - Else Blocks***"
   ]
  },
  {
   "cell_type": "code",
   "execution_count": 22,
   "metadata": {
    "scrolled": true
   },
   "outputs": [
    {
     "name": "stdout",
     "output_type": "stream",
     "text": [
      "enter name : cgrr\n",
      "enter passwrd : 123444\n",
      "wrong name and password !\n"
     ]
    }
   ],
   "source": [
    "name, password = \"cgr\", 1234\n",
    "\n",
    "usr = input( \"enter name : \" )\n",
    "psw = int(input( \"enter passwrd : \" ))\n",
    "\n",
    "if name == usr and password == psw:\n",
    "    print( \"succesfull login..\" )\n",
    "\n",
    "elif name == usr and password != psw:\n",
    "    print( \"wrong password !\" )\n",
    "    \n",
    "elif name != usr and password == psw:\n",
    "    print( \"wrong name !\" )\n",
    "    \n",
    "else: \n",
    "    print( \"wrong name and password !\" )"
   ]
  },
  {
   "cell_type": "code",
   "execution_count": null,
   "metadata": {},
   "outputs": [],
   "source": []
  }
 ],
 "metadata": {
  "kernelspec": {
   "display_name": "Python 3",
   "language": "python",
   "name": "python3"
  },
  "language_info": {
   "codemirror_mode": {
    "name": "ipython",
    "version": 3
   },
   "file_extension": ".py",
   "mimetype": "text/x-python",
   "name": "python",
   "nbconvert_exporter": "python",
   "pygments_lexer": "ipython3",
   "version": "3.8.3"
  }
 },
 "nbformat": 4,
 "nbformat_minor": 4
}
