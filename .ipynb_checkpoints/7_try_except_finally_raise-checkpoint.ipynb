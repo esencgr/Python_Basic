{
 "cells": [
  {
   "cell_type": "markdown",
   "metadata": {},
   "source": [
    "## TRY & EXCEPT & FINALL & RAISE\n",
    "  "
   ]
  },
  {
   "cell_type": "code",
   "execution_count": 5,
   "metadata": {},
   "outputs": [
    {
     "name": "stdout",
     "output_type": "stream",
     "text": [
      "numerator: 3\n",
      "denumarator: 0\n",
      "denumarator shouldn't be 0 !!\n"
     ]
    }
   ],
   "source": [
    "nm = float(input(\"numerator: \"))\n",
    "denm = float(input( \"denumarator: \"))\n",
    "\n",
    "try:\n",
    "    print(nm / denm)\n",
    "    \n",
    "except ZeroDivisionError:\n",
    "    print(\"denumarator shouldn't be 0 !!\")\n"
   ]
  },
  {
   "cell_type": "code",
   "execution_count": 8,
   "metadata": {},
   "outputs": [
    {
     "name": "stdout",
     "output_type": "stream",
     "text": [
      "numerator: 9\n",
      "denumarator: 0\n",
      "denumarator shouldn't be 0 !!\n",
      "real error:  float division by zero\n"
     ]
    }
   ],
   "source": [
    "nm = float(input(\"numerator: \"))\n",
    "denm = float(input( \"denumarator: \"))\n",
    "\n",
    "try:\n",
    "    print(nm / denm)\n",
    "    \n",
    "except ZeroDivisionError as error:\n",
    "    print(\"denumarator shouldn't be 0 !!\")\n",
    "    print(\"real error: \", error)"
   ]
  },
  {
   "cell_type": "code",
   "execution_count": 15,
   "metadata": {},
   "outputs": [
    {
     "name": "stdout",
     "output_type": "stream",
     "text": [
      "enter number = 1\n",
      "1.0\n",
      "item number: 1\n",
      "enter number = 2\n",
      "4.0\n",
      "item number: 2\n",
      "enter number = 3\n",
      "9.0\n",
      "item number: 3\n",
      "enter number = 0\n",
      "end of the program.. \n"
     ]
    }
   ],
   "source": [
    "item = 0 \n",
    "while True:\n",
    "    num = input(\"enter number = \")\n",
    "    item += 1    \n",
    "    if(num == \"0\"):\n",
    "        print(\"end of the program.. \")\n",
    "        break\n",
    "        \n",
    "    try:\n",
    "        print(float(num)**2) \n",
    "        \n",
    "    except ValueError: \n",
    "        print(\"you shouldnt enter a string !\")\n",
    "    \n",
    "    finally:\n",
    "        print(\"item number:\", item)\n",
    "        "
   ]
  },
  {
   "cell_type": "code",
   "execution_count": 1,
   "metadata": {},
   "outputs": [
    {
     "name": "stdout",
     "output_type": "stream",
     "text": [
      "number: 1\n",
      "1\n",
      "number: 2\n",
      "2\n",
      "number: 3\n",
      "3\n",
      "number: 5\n"
     ]
    },
    {
     "ename": "Exception",
     "evalue": "You shouldnt use 5 number",
     "output_type": "error",
     "traceback": [
      "\u001b[0;31m---------------------------------------------------------------------------\u001b[0m",
      "\u001b[0;31mException\u001b[0m                                 Traceback (most recent call last)",
      "\u001b[0;32m<ipython-input-1-16d02737a043>\u001b[0m in \u001b[0;36m<module>\u001b[0;34m\u001b[0m\n\u001b[1;32m      5\u001b[0m         \u001b[0;32mbreak\u001b[0m\u001b[0;34m\u001b[0m\u001b[0;34m\u001b[0m\u001b[0m\n\u001b[1;32m      6\u001b[0m     \u001b[0;32melif\u001b[0m \u001b[0mnum\u001b[0m \u001b[0;34m==\u001b[0m \u001b[0;36m5\u001b[0m\u001b[0;34m:\u001b[0m\u001b[0;34m\u001b[0m\u001b[0;34m\u001b[0m\u001b[0m\n\u001b[0;32m----> 7\u001b[0;31m         \u001b[0;32mraise\u001b[0m \u001b[0mException\u001b[0m\u001b[0;34m(\u001b[0m\u001b[0;34m\"You shouldnt use 5 number\"\u001b[0m\u001b[0;34m)\u001b[0m\u001b[0;34m\u001b[0m\u001b[0;34m\u001b[0m\u001b[0m\n\u001b[0m\u001b[1;32m      8\u001b[0m     \u001b[0;32melse\u001b[0m\u001b[0;34m:\u001b[0m\u001b[0;34m\u001b[0m\u001b[0;34m\u001b[0m\u001b[0m\n\u001b[1;32m      9\u001b[0m         \u001b[0mprint\u001b[0m\u001b[0;34m(\u001b[0m\u001b[0mnum\u001b[0m\u001b[0;34m)\u001b[0m\u001b[0;34m\u001b[0m\u001b[0;34m\u001b[0m\u001b[0m\n",
      "\u001b[0;31mException\u001b[0m: You shouldnt use 5 number"
     ]
    }
   ],
   "source": [
    "while True:\n",
    "    num = int(input(\"number: \"))\n",
    "    if num == 0:\n",
    "        print(\"end of program\")\n",
    "        break\n",
    "    elif num == 5:\n",
    "        raise Exception(\"You shouldnt use 5 number\")\n",
    "    else:\n",
    "        print(num)"
   ]
  }
 ],
 "metadata": {
  "kernelspec": {
   "display_name": "Python 3",
   "language": "python",
   "name": "python3"
  },
  "language_info": {
   "codemirror_mode": {
    "name": "ipython",
    "version": 3
   },
   "file_extension": ".py",
   "mimetype": "text/x-python",
   "name": "python",
   "nbconvert_exporter": "python",
   "pygments_lexer": "ipython3",
   "version": "3.8.3"
  }
 },
 "nbformat": 4,
 "nbformat_minor": 4
}
