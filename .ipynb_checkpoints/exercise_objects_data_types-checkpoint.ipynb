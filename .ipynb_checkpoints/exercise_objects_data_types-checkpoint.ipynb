{
 "cells": [
  {
   "cell_type": "markdown",
   "metadata": {},
   "source": [
    "## Exercises - Basic Python Objects & Data Types "
   ]
  },
  {
   "cell_type": "code",
   "execution_count": 1,
   "metadata": {},
   "outputs": [
    {
     "name": "stdout",
     "output_type": "stream",
     "text": [
      "['Bmw', 'Mercedes', 'Opel', 'Mazda']\n",
      "4\n"
     ]
    }
   ],
   "source": [
    "# 1- createa list \"Bmw. Mercedes, Opel, Mazda\"\n",
    "cars = [ \"Bmw\", \"Mercedes\", \"Opel\", \"Mazda\" ]\n",
    "print( cars )\n",
    "\n",
    "# 2- list size ?\n",
    "sz = len( cars )\n",
    "print( sz )\n"
   ]
  },
  {
   "cell_type": "code",
   "execution_count": 7,
   "metadata": {},
   "outputs": [
    {
     "name": "stdout",
     "output_type": "stream",
     "text": [
      "Bmw Toyota\n",
      "['Bmw', 'Mercedes', 'Opel', 'Toyota']\n"
     ]
    }
   ],
   "source": [
    "# 3- first and last element of list\n",
    "print( cars[ 0 ], cars[ sz -1 ])\n",
    "\n",
    "# 4- change \"Mazda\" with \"Toyota\"\n",
    "cars[ -1 ] = \"Toyota\"  \n",
    "print( cars )"
   ]
  },
  {
   "cell_type": "code",
   "execution_count": 8,
   "metadata": {},
   "outputs": [
    {
     "name": "stdout",
     "output_type": "stream",
     "text": [
      "1\n",
      "True\n"
     ]
    }
   ],
   "source": [
    "# 5- is \"Mercedes\" a list element\n",
    "res = cars.index( \"Mercedes\" ) \n",
    "print( res )\n",
    "res = \"Mercedes\" in cars \n",
    "print( res )\n",
    "\n",
    "# 6- value of the -2 index of the list\n",
    "res = cars[ -2 ]  \n"
   ]
  },
  {
   "cell_type": "code",
   "execution_count": 9,
   "metadata": {},
   "outputs": [
    {
     "name": "stdout",
     "output_type": "stream",
     "text": [
      "['Bmw', 'Mercedes', 'Opel']\n"
     ]
    }
   ],
   "source": [
    "# 7- first 3 element of list\n",
    "res = cars[ 0:3 ]\n",
    "res = cars[ :3 ]\n",
    "print( res )\n",
    "\n",
    "# 8- change last two elemnt with the \"Toyota\" and \"Renaukt\"\n",
    "cars[ -2: ] = \"Toyota\", \"Renault\"\n",
    "res = cars\n"
   ]
  },
  {
   "cell_type": "code",
   "execution_count": 10,
   "metadata": {},
   "outputs": [
    {
     "name": "stdout",
     "output_type": "stream",
     "text": [
      "['Bmw', 'Mercedes', 'Toyota', 'Renault', 'Audi', 'Nissan']\n",
      "['Bmw', 'Mercedes', 'Toyota', 'Renault', 'Audi']\n"
     ]
    }
   ],
   "source": [
    "# 9- add \"Audi\" \"Nissan\"\n",
    "res = cars + [ \"Audi\", \"Nissan\" ]\n",
    "cars = cars + [ \"Audi\", \"Nissan\" ]\n",
    "print( cars )\n",
    "\n",
    "# 10- delete the last elemnt of list\n",
    "del( cars[ -1 ] )\n",
    "print( cars )"
   ]
  },
  {
   "cell_type": "code",
   "execution_count": 11,
   "metadata": {},
   "outputs": [
    {
     "name": "stdout",
     "output_type": "stream",
     "text": [
      "['Audi', 'Renault', 'Toyota', 'Mercedes', 'Bmw']\n",
      "['Bmw', 'Mercedes', 'Toyota', 'Renault', 'Audi']\n"
     ]
    }
   ],
   "source": [
    "# 11- reverse list\n",
    "cars.reverse()\n",
    "print( cars )\n",
    "\n",
    "res = cars[ : : -1 ]\n",
    "print( res )"
   ]
  },
  {
   "cell_type": "code",
   "execution_count": 13,
   "metadata": {},
   "outputs": [
    {
     "name": "stdout",
     "output_type": "stream",
     "text": [
      "['cgr', 1994, [70, 60, 70], 'sena', 1999, [80, 80, 70], 'ahmet', 1998, [80, 70, 90]]\n",
      "cgr is 26 years old and note avr = 66.67\n"
     ]
    }
   ],
   "source": [
    "# 12- create a list like that \n",
    "   # student_a = cgr 2010, (70,60,70)\n",
    "   # student_b = sena 1999, (80,80,70)\n",
    "   # student_c = ahmet 1998, (80,70,90)\n",
    "\n",
    "# write a list \n",
    "  \n",
    "stu_a = [ \"cgr\", 1994, [ 70,60,70 ] ]\n",
    "stu_b = [ \"sena\", 1999, [ 80,80,70 ] ]\n",
    "stu_c = [ \"ahmet\", 1998, [ 80,70,90 ] ]\n",
    "\n",
    "s = stu_a + stu_b + stu_c\n",
    "print( s )    \n",
    "\n",
    "res = stu_a[ 0 ]\n",
    "res = stu_c[ 2 ][ 2 ]\n",
    "\n",
    "avr = ( stu_a[ 2 ][ 0 ] + stu_a[ 2 ][ 1 ] + stu_a[ 2 ][ 2 ] ) / 3 \n",
    "res = ( f\"{ stu_a[ 0 ] } is { 2020 - stu_a[ 1 ] } years old and note avr = {avr:.2f}\" ) \n",
    "# res = ( \"{} is {} years old and note avr {:.2f}\".format( stu_a[ 0 ], ( 2020 - stu_a[ 1 ] ), avr ))\n",
    "print( res )"
   ]
  },
  {
   "cell_type": "code",
   "execution_count": 14,
   "metadata": {},
   "outputs": [
    {
     "name": "stdout",
     "output_type": "stream",
     "text": [
      "['Ali', 'Yağmur', 'Hakan', 'Deniz', 'Cenk']\n",
      "['la', 'Ali', 'Yağmur', 'Hakan', 'Deniz', 'le', 'Cenk', 'lo']\n"
     ]
    }
   ],
   "source": [
    "names = [ \"Ali\", \"Yağmur\", \"Hakan\", \"Deniz\" ] \n",
    "years = [ 1998, 2000, 1998, 1987 ]\n",
    "\n",
    "#1- add cenk name to the end of names\n",
    "names.append( \"Cenk\" )\n",
    "print( names )\n",
    "\n",
    "#2- add sena name to the start of names  \n",
    "names.insert( 0, \"la\" )\n",
    "names.insert( -1, \"le\" )\n",
    "names.insert( len( names ), \"lo\" )\n",
    "print( names ) \n"
   ]
  },
  {
   "cell_type": "code",
   "execution_count": 21,
   "metadata": {},
   "outputs": [
    {
     "name": "stdout",
     "output_type": "stream",
     "text": [
      "['Ali', 'Yağmur', 'Hakan', 'le']\n",
      "3\n"
     ]
    }
   ],
   "source": [
    "#3- delete deniz name to the names\n",
    "names.remove( \"la\" )\n",
    "names.pop()   # last element del\n",
    "print( names )\n",
    "\n",
    "# 4- what is deniz name 's index value \n",
    "res = names.index( \"le\" )\n",
    "print( res ) "
   ]
  },
  {
   "cell_type": "code",
   "execution_count": 22,
   "metadata": {},
   "outputs": [
    {
     "name": "stdout",
     "output_type": "stream",
     "text": [
      "True\n"
     ]
    }
   ],
   "source": [
    "# 5- is ali a element of names ?\n",
    "res = \"Ali\" in names \n",
    "print( res )"
   ]
  },
  {
   "cell_type": "code",
   "execution_count": 23,
   "metadata": {},
   "outputs": [
    {
     "name": "stdout",
     "output_type": "stream",
     "text": [
      "['Ali', 'Yağmur', 'Hakan', 'le']\n",
      "['le', 'Hakan', 'Yağmur', 'Ali']\n"
     ]
    }
   ],
   "source": [
    "# 6- reverse names \n",
    "print( names )\n",
    "res = names.reverse()\n",
    "print( names ) \n"
   ]
  },
  {
   "cell_type": "code",
   "execution_count": 24,
   "metadata": {},
   "outputs": [
    {
     "name": "stdout",
     "output_type": "stream",
     "text": [
      "['Ali', 'Hakan', 'Yağmur', 'le']\n",
      "[1987, 1998, 1998, 2000]\n"
     ]
    }
   ],
   "source": [
    "# 7- sort names alphabetichal order\n",
    "names.sort()\n",
    "print( names  )\n",
    "\n",
    "# 8- sort years \n",
    "years.sort()\n",
    "print( years )"
   ]
  },
  {
   "cell_type": "code",
   "execution_count": 26,
   "metadata": {},
   "outputs": [
    {
     "name": "stdout",
     "output_type": "stream",
     "text": [
      "['Dacia', ' Chaevrolet']\n"
     ]
    }
   ],
   "source": [
    "# 9- str = \"Dacia, Chaevrolet\" covert to list\n",
    "str = \"Dacia, Chaevrolet\" \n",
    "res = str.split(',') # res = list(str)\n",
    "print( res )\n"
   ]
  },
  {
   "cell_type": "code",
   "execution_count": 27,
   "metadata": {},
   "outputs": [
    {
     "name": "stdout",
     "output_type": "stream",
     "text": [
      "[1987, 1998, 1998, 2000]\n",
      "1987\n",
      "2000\n",
      "2\n",
      "[]\n"
     ]
    }
   ],
   "source": [
    "# 10- years min max \n",
    "print( years )\n",
    "mn = min( years )\n",
    "print( mn )\n",
    "\n",
    "mx = max( years )\n",
    "print( mx )\n",
    "\n",
    "# 11- how many 1998 in years ?\n",
    "c = years.count( 1998 )\n",
    "print( c )\n",
    "\n",
    "# 12- delete all elemnts in years \n",
    "years.clear()\n",
    "print( years )"
   ]
  },
  {
   "cell_type": "code",
   "execution_count": 28,
   "metadata": {},
   "outputs": [
    {
     "name": "stdout",
     "output_type": "stream",
     "text": [
      "enter car: x\n",
      "enter car: y\n",
      "enter car: z\n",
      "['x', 'y', 'z']\n"
     ]
    }
   ],
   "source": [
    "# 13- put in a list that  the three value entered by user\n",
    "cars = []\n",
    "for i in range ( 0,3 ):\n",
    "    car = input( \"enter car: \")\n",
    "    cars.append( car )\n",
    "\n",
    "print( cars ) \n"
   ]
  },
  {
   "cell_type": "markdown",
   "metadata": {},
   "source": [
    "### Problem 1 :\n",
    "* Multiply the 3 numbers you received from the user and print them on the screen. Try to print on screen with the format method.\n"
   ]
  },
  {
   "cell_type": "code",
   "execution_count": 6,
   "metadata": {},
   "outputs": [
    {
     "name": "stdout",
     "output_type": "stream",
     "text": [
      "a = 2\n",
      "b = 3\n",
      "c = 4\n",
      "the product of 2 * 3 * 4 = 24\n"
     ]
    }
   ],
   "source": [
    "a = int(input( \"a = \" ))\n",
    "b = int(input( \"b = \" ))\n",
    "c = int(input( \"c = \" ))\n",
    "\n",
    "pr = a * b * c\n",
    "\n",
    "print( f\"the product of { a } * { b } * { c } = { pr }\" )"
   ]
  },
  {
   "cell_type": "markdown",
   "metadata": {},
   "source": [
    "### Problem 2 :\n",
    "* Find the body mass index of the user according to the height and weight values you received from the user.\n",
    "* Body Mass Index : weight(kg) / height(m)*height(m)\n"
   ]
  },
  {
   "cell_type": "code",
   "execution_count": 8,
   "metadata": {},
   "outputs": [
    {
     "name": "stdout",
     "output_type": "stream",
     "text": [
      "weight = 84\n",
      "height = 1.73\n",
      "body mass index for weight 84 and height 1.73 -->  28.06642386982525\n"
     ]
    }
   ],
   "source": [
    "w = int(input( \"weight = \" ))\n",
    "h = float(input( \"height = \" ))\n",
    "\n",
    "mass_ind = w / ( h ** 2 )\n",
    "\n",
    "print( f\"body mass index for weight { w } and height { h } --> { mass_ind: }\")"
   ]
  },
  {
   "cell_type": "markdown",
   "metadata": {},
   "source": [
    "### Problem 3 :\n",
    "* Get information about how much a vehicle burns per kilometer and how many kilometers it travels and calculate how much the driver should pay in total."
   ]
  },
  {
   "cell_type": "code",
   "execution_count": 21,
   "metadata": {},
   "outputs": [
    {
     "name": "stdout",
     "output_type": "stream",
     "text": [
      "burns per km = 0.22\n",
      "total kilometer = 430\n",
      "amount of pay of amount = 94.600000 tl\n"
     ]
    }
   ],
   "source": [
    "burn = float(input( \"burns per km = \" ))\n",
    "km = int(input( \"total kilometer = \" ))\n",
    "\n",
    "pay = burn * km \n",
    "\n",
    "print( f\"amount of pay of amount = { pay:4f } tl\" )"
   ]
  },
  {
   "cell_type": "markdown",
   "metadata": {},
   "source": [
    "###  Problem 4 :\n",
    "* Get a name and surname and print they buttom up."
   ]
  },
  {
   "cell_type": "code",
   "execution_count": 23,
   "metadata": {},
   "outputs": [
    {
     "name": "stdout",
     "output_type": "stream",
     "text": [
      "name : cagrı\n",
      "surname : esen\n",
      "age : 26\n",
      "\n",
      "İnformation\n",
      "\n",
      "cagrı\n",
      "esen\n",
      "26\n"
     ]
    }
   ],
   "source": [
    "name = input( \"name : \" )\n",
    "surname = input( \"surname : \" )\n",
    "age = int(input( \"age : \" ))\n",
    "\n",
    "print( \"\\nInformation\\n\" )\n",
    "print( f\"{ name }\\n{ surname }\\n{ age }\" )\n"
   ]
  },
  {
   "cell_type": "markdown",
   "metadata": {},
   "source": [
    "### Problem 5 :\n",
    "* Enter two number and replace with each other.\n"
   ]
  },
  {
   "cell_type": "code",
   "execution_count": 25,
   "metadata": {},
   "outputs": [
    {
     "name": "stdout",
     "output_type": "stream",
     "text": [
      "a : 2\n",
      "b : 3\n",
      "normal situation a:2 b:3\n",
      "\n",
      "replace each other a:3 b:2\n"
     ]
    }
   ],
   "source": [
    "a = int(input( \"a : \" ))\n",
    "b = int(input( \"b : \" ))\n",
    "print( f\"normal situation a:{ a } b:{ b }\\n\" )\n",
    "\n",
    "a,b = b,a \n",
    "print( f\"replace each other a:{ a } b:{ b }\" )"
   ]
  },
  {
   "cell_type": "markdown",
   "metadata": {},
   "source": [
    "### Problem 6 :\n",
    "* Take the two perpendicular sides (a, b) of a right triangle from the user and try to find the hypotenuse    length.\n",
    "* Formula : a^2 + b^2 = c^2"
   ]
  },
  {
   "cell_type": "code",
   "execution_count": 6,
   "metadata": {},
   "outputs": [
    {
     "name": "stdout",
     "output_type": "stream",
     "text": [
      "a : 12\n",
      "b : 5\n",
      "hypo : 13.0\n"
     ]
    }
   ],
   "source": [
    "a = int(input( \"a : \" ))\n",
    "b = int(input( \"b : \" ))\n",
    "c = (( a ** 2 ) + ( b ** 2 )) ** 0.5  \n",
    "print( \"hypo :\",c )\n",
    "#print( f\"if the sides of right triangle is a:{ a } b:{ b }, hypotenuse is c:{ c }\" )  "
   ]
  }
 ],
 "metadata": {
  "kernelspec": {
   "display_name": "Python 3",
   "language": "python",
   "name": "python3"
  },
  "language_info": {
   "codemirror_mode": {
    "name": "ipython",
    "version": 3
   },
   "file_extension": ".py",
   "mimetype": "text/x-python",
   "name": "python",
   "nbconvert_exporter": "python",
   "pygments_lexer": "ipython3",
   "version": "3.8.3"
  }
 },
 "nbformat": 4,
 "nbformat_minor": 4
}
