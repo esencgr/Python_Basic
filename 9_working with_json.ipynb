{
 "cells": [
  {
   "cell_type": "markdown",
   "metadata": {},
   "source": [
    "## Working With JSON Objects\n",
    "\n",
    "* JSON : Java Script Object Notation\n",
    "* JSON is a data exchange formaat similar to XML\n",
    "\n",
    "**Adress Record**\n",
    "\n",
    "![](json.png)\n",
    "\n",
    "* JSON format has keys - values pair\n",
    "\n",
    "* XML format has opening - closing tags"
   ]
  },
  {
   "cell_type": "markdown",
   "metadata": {},
   "source": [
    "**EXAMPLE:**\n",
    "We will write two programs,\n",
    "\n",
    "**(1)** To create adress book and write some record into it \n"
   ]
  },
  {
   "cell_type": "code",
   "execution_count": 2,
   "metadata": {},
   "outputs": [],
   "source": [
    "book = {}\n",
    "\n",
    "book[\"tom\"] = {\n",
    "    \"name\" : \"tom\",\n",
    "    \"adress\" : \"green street\",\n",
    "    \"phone\" : \"11111\"\n",
    "}\n",
    "\n",
    "book[\"bob\"] = {\n",
    "    \"name\" : \"bob\",\n",
    "    \"adress\" : \"red street\",\n",
    "    \"phone\" : \"22222\"\n",
    "}"
   ]
  },
  {
   "cell_type": "code",
   "execution_count": 11,
   "metadata": {},
   "outputs": [
    {
     "name": "stdout",
     "output_type": "stream",
     "text": [
      "{\"tom\": {\"name\": \"tom\", \"adress\": \"green street\", \"phone\": \"11111\"}, \"bob\": {\"name\": \"bob\", \"adress\": \"red street\", \"phone\": \"22222\"}}\n"
     ]
    }
   ],
   "source": [
    "import json\n",
    "\n",
    "# dumps function converts dict object to string it will into a json format \n",
    "s = json.dumps(book)\n",
    "print(s)"
   ]
  },
  {
   "cell_type": "code",
   "execution_count": 12,
   "metadata": {},
   "outputs": [],
   "source": [
    "with open(\"book.txt\", \"w\") as f:\n",
    "    f.write(s)"
   ]
  },
  {
   "cell_type": "markdown",
   "metadata": {},
   "source": [
    "* ***Content of in this file is in a JSON format***\n",
    "\n",
    "* You can now read this JSON DATA using ***any language that supports JSON such as JAVASCRIPT C++ etc.*** \n",
    "\n",
    "* Hence this is called data exchange format (i.e exchanging data from python program to js program.)"
   ]
  },
  {
   "cell_type": "markdown",
   "metadata": {},
   "source": [
    "**(2)** Read this adress book  "
   ]
  },
  {
   "cell_type": "code",
   "execution_count": 26,
   "metadata": {},
   "outputs": [
    {
     "data": {
      "text/plain": [
       "'{\"tom\": {\"name\": \"tom\", \"adress\": \"green street\", \"phone\": \"11111\"}, \"bob\": {\"name\": \"bob\", \"adress\": \"red street\", \"phone\": \"22222\"}}'"
      ]
     },
     "execution_count": 26,
     "metadata": {},
     "output_type": "execute_result"
    }
   ],
   "source": [
    "with open(\"book.txt\", \"r\") as f:\n",
    "    strng = f.read()\n",
    "strng            # string format"
   ]
  },
  {
   "cell_type": "markdown",
   "metadata": {},
   "source": [
    "* If we want to learn specific data such as phone number, we have to use json module to read string and pass it into a json oject "
   ]
  },
  {
   "cell_type": "code",
   "execution_count": 29,
   "metadata": {},
   "outputs": [
    {
     "data": {
      "text/plain": [
       "{'tom': {'name': 'tom', 'adress': 'green street', 'phone': '11111'},\n",
       " 'bob': {'name': 'bob', 'adress': 'red street', 'phone': '22222'}}"
      ]
     },
     "execution_count": 29,
     "metadata": {},
     "output_type": "execute_result"
    }
   ],
   "source": [
    "import json\n",
    "\n",
    "# loads funtion is converts string into dict object\n",
    "book = json.loads(strng)\n",
    "book            # dict format"
   ]
  },
  {
   "cell_type": "code",
   "execution_count": 30,
   "metadata": {},
   "outputs": [
    {
     "data": {
      "text/plain": [
       "{'name': 'bob', 'adress': 'red street', 'phone': '22222'}"
      ]
     },
     "execution_count": 30,
     "metadata": {},
     "output_type": "execute_result"
    }
   ],
   "source": [
    "book[\"bob\"]"
   ]
  },
  {
   "cell_type": "code",
   "execution_count": 31,
   "metadata": {},
   "outputs": [
    {
     "data": {
      "text/plain": [
       "'22222'"
      ]
     },
     "execution_count": 31,
     "metadata": {},
     "output_type": "execute_result"
    }
   ],
   "source": [
    "book[\"bob\"][\"phone\"]"
   ]
  },
  {
   "cell_type": "code",
   "execution_count": 34,
   "metadata": {},
   "outputs": [
    {
     "name": "stdout",
     "output_type": "stream",
     "text": [
      "{'name': 'tom', 'adress': 'green street', 'phone': '11111'}\n",
      "11111\n",
      "{'name': 'bob', 'adress': 'red street', 'phone': '22222'}\n",
      "22222\n"
     ]
    }
   ],
   "source": [
    "for person in book:\n",
    "    print(book[person])\n",
    "    print(book[person][\"phone\"])"
   ]
  },
  {
   "cell_type": "code",
   "execution_count": null,
   "metadata": {},
   "outputs": [],
   "source": []
  }
 ],
 "metadata": {
  "kernelspec": {
   "display_name": "Python 3.7.6 64-bit",
   "language": "python",
   "name": "python376jvsc74a57bd0866d5841430c3d306be85ba8ea18c03bcd6daa2993a269ebe1bd3ffce43e06f1"
  },
  "language_info": {
   "codemirror_mode": {
    "name": "ipython",
    "version": 3
   },
   "file_extension": ".py",
   "mimetype": "text/x-python",
   "name": "python",
   "nbconvert_exporter": "python",
   "pygments_lexer": "ipython3",
   "version": "3.7.6"
  }
 },
 "nbformat": 4,
 "nbformat_minor": 4
}
