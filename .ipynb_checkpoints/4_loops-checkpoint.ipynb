{
 "cells": [
  {
   "cell_type": "markdown",
   "metadata": {},
   "source": [
    "## **LOOPS**"
   ]
  },
  {
   "cell_type": "markdown",
   "metadata": {},
   "source": [
    "### ***For Loops***"
   ]
  },
  {
   "cell_type": "code",
   "execution_count": 15,
   "metadata": {},
   "outputs": [
    {
     "name": "stdout",
     "output_type": "stream",
     "text": [
      "1\n",
      "2\n",
      "3\n",
      "4\n",
      "5\n"
     ]
    }
   ],
   "source": [
    "numbers = [ 1, 2, 3, 4, 5 ]  # list \n",
    "for num in numbers:\n",
    "    print( num )\n",
    "    #print( \"hi\" )   # writes 5 times hi because numbers list len = 5"
   ]
  },
  {
   "cell_type": "code",
   "execution_count": 16,
   "metadata": {},
   "outputs": [
    {
     "name": "stdout",
     "output_type": "stream",
     "text": [
      "my name is ali\n",
      "my name is veli\n"
     ]
    }
   ],
   "source": [
    "names = [ \"ali\", \"veli\" ]   # list \n",
    "for name in names:\n",
    "    print( f\"my name is {name}\" )"
   ]
  },
  {
   "cell_type": "code",
   "execution_count": 17,
   "metadata": {},
   "outputs": [
    {
     "name": "stdout",
     "output_type": "stream",
     "text": [
      "python\n"
     ]
    }
   ],
   "source": [
    "word = [ 'python' ]   # list \n",
    "for char in word:\n",
    "    print( char )"
   ]
  },
  {
   "cell_type": "code",
   "execution_count": 5,
   "metadata": {},
   "outputs": [
    {
     "name": "stdout",
     "output_type": "stream",
     "text": [
      "1\n",
      "2\n",
      "3\n",
      "4\n",
      "1 2\n",
      "3 4\n"
     ]
    }
   ],
   "source": [
    "tup = ( 1, 2, 3, 4 )             # tuple\n",
    "for a in tup :\n",
    "    print( a )\n",
    "\n",
    "# tup = ( { 1, 2 }, { 3, 4 } )   # tuple\n",
    "# tup = [ ( 1, 2 ), ( 3, 4 ) ]   # tuple\n",
    "tup = ( [ 1, 2 ], [ 3, 4 ] )     # tuple\n",
    "\n",
    "for a,b in tup :\n",
    "    print( a,b )"
   ]
  },
  {
   "cell_type": "code",
   "execution_count": 9,
   "metadata": {},
   "outputs": [
    {
     "name": "stdout",
     "output_type": "stream",
     "text": [
      "k1\n",
      "k2\n",
      "k3\n",
      "('k1', 1)\n",
      "('k2', 2)\n",
      "('k3', 3)\n",
      "k1\n",
      "k2\n",
      "k3\n",
      "1\n",
      "2\n",
      "3\n",
      "k1 1\n",
      "k2 2\n",
      "k3 3\n"
     ]
    }
   ],
   "source": [
    "dic = { \"k1\":1, \"k2\":2, \"k3\":3 }\n",
    "\n",
    "for item in dic:\n",
    "    print( item )          # only key information\n",
    "    \n",
    "for item in dic.items(): # each elements information\n",
    "    print( item )         \n",
    "\n",
    "for item in dic.keys():    # only key information\n",
    "    print( item  )\n",
    "    \n",
    "for item in dic.values():  # only value information\n",
    "    print( item )\n",
    "    \n",
    "for key,value in dic.items():\n",
    "    print( key,value )     # key and value info "
   ]
  },
  {
   "cell_type": "code",
   "execution_count": 5,
   "metadata": {},
   "outputs": [
    {
     "name": "stdout",
     "output_type": "stream",
     "text": [
      "{'1': 'inactive', '2': 'active', '3': 'inactive'}\n",
      "{'2': 'active'}\n"
     ]
    }
   ],
   "source": [
    "# Strategy:  Iterate over a copy\n",
    "users = { \"1\":\"inactive\", \"2\":\"active\", \"3\":\"inactive\" }\n",
    "print( users.copy() )   \n",
    "for user, status in users.copy().items():\n",
    "    if status == 'inactive':\n",
    "        del users[user]\n",
    "print( users )\n"
   ]
  },
  {
   "cell_type": "code",
   "execution_count": 2,
   "metadata": {},
   "outputs": [
    {
     "name": "stdout",
     "output_type": "stream",
     "text": [
      "{'1': 'inactive', '2': 'active', '3': 'inactive'}\n",
      "{'1': 'inactive', '3': 'inactive'}\n"
     ]
    }
   ],
   "source": [
    "# Strategy:  Create a new collection\n",
    "users = { \"1\":\"inactive\", \"2\":\"active\", \"3\":\"inactive\" }\n",
    "print( users )\n",
    "active_users = {}\n",
    "for user, status in users.items():\n",
    "    if status == 'inactive':\n",
    "        active_users[user] = status\n",
    "print( active_users )"
   ]
  },
  {
   "cell_type": "markdown",
   "metadata": {},
   "source": [
    "#### ***EXAMPLE***\n",
    "* **Which numbers in list is a multiple of 3?**"
   ]
  },
  {
   "cell_type": "code",
   "execution_count": 40,
   "metadata": {},
   "outputs": [],
   "source": [
    "lst = [ 1, 3, 5, 7, 9, 12, 19, 21 ]"
   ]
  },
  {
   "cell_type": "code",
   "execution_count": 41,
   "metadata": {},
   "outputs": [
    {
     "name": "stdout",
     "output_type": "stream",
     "text": [
      "3\n",
      "9\n",
      "12\n",
      "21\n"
     ]
    }
   ],
   "source": [
    "for num in lst:\n",
    "    if( num % 3 == 0 ):\n",
    "        print( num )"
   ]
  },
  {
   "cell_type": "markdown",
   "metadata": {},
   "source": [
    "* **What is sum of numbers in the list ?**"
   ]
  },
  {
   "cell_type": "code",
   "execution_count": 42,
   "metadata": {},
   "outputs": [
    {
     "name": "stdout",
     "output_type": "stream",
     "text": [
      "77\n"
     ]
    }
   ],
   "source": [
    "tot = 0\n",
    "for num in lst:\n",
    "    tot += num \n",
    "print( tot )"
   ]
  },
  {
   "cell_type": "markdown",
   "metadata": {},
   "source": [
    "* **What is square of odd numbers  ?**"
   ]
  },
  {
   "cell_type": "code",
   "execution_count": 44,
   "metadata": {},
   "outputs": [
    {
     "name": "stdout",
     "output_type": "stream",
     "text": [
      "1\n",
      "9\n",
      "25\n",
      "49\n",
      "81\n",
      "361\n",
      "441\n"
     ]
    }
   ],
   "source": [
    "for num in lst:\n",
    "    if( num % 2 == 1 ):\n",
    "        print( num ** 2 )"
   ]
  },
  {
   "cell_type": "markdown",
   "metadata": {},
   "source": [
    "* **Which cities include the most of 5 character ?**"
   ]
  },
  {
   "cell_type": "code",
   "execution_count": 46,
   "metadata": {},
   "outputs": [],
   "source": [
    "cities = [ \"kocaeli\", \"istanbul\", \"ankara\", \"izmir\", \"rize\" ]"
   ]
  },
  {
   "cell_type": "code",
   "execution_count": 50,
   "metadata": {},
   "outputs": [
    {
     "name": "stdout",
     "output_type": "stream",
     "text": [
      "izmir\n",
      "rize\n"
     ]
    }
   ],
   "source": [
    "for city in cities:\n",
    "    size = len( city )\n",
    "    if( size <= 5 ):\n",
    "        print( city )"
   ]
  },
  {
   "cell_type": "markdown",
   "metadata": {},
   "source": [
    "### ***While Loops***"
   ]
  },
  {
   "cell_type": "code",
   "execution_count": 10,
   "metadata": {},
   "outputs": [
    {
     "name": "stdout",
     "output_type": "stream",
     "text": [
      "5\n",
      "4\n",
      "3\n",
      "2\n",
      "1\n",
      "0\n"
     ]
    }
   ],
   "source": [
    "k = 5\n",
    "while( k >= 0 ):\n",
    "    print( k )\n",
    "    k -= 1"
   ]
  },
  {
   "cell_type": "code",
   "execution_count": 7,
   "metadata": {},
   "outputs": [
    {
     "name": "stdout",
     "output_type": "stream",
     "text": [
      "1\n",
      "3\n",
      "5\n",
      "7\n",
      "9\n"
     ]
    }
   ],
   "source": [
    "n = 0\n",
    "lst = [ 1, 3, 5, 7, 9 ]\n",
    "while( n < len(lst) ):\n",
    "    print( lst[ n ] )\n",
    "    n += 1\n"
   ]
  },
  {
   "cell_type": "markdown",
   "metadata": {},
   "source": [
    "#### ***EXAMPLE***\n",
    "* **Odd and even numbers betwween 0-limit ?**"
   ]
  },
  {
   "cell_type": "code",
   "execution_count": 16,
   "metadata": {},
   "outputs": [
    {
     "name": "stdout",
     "output_type": "stream",
     "text": [
      "enter up limit : 30\n",
      "odd numbers in 0-30 = [1, 3, 5, 7, 9, 11, 13, 15, 17, 19, 21, 23, 25, 27, 29]\n",
      "even numbers in 0-30 = [0, 2, 4, 6, 8, 10, 12, 14, 16, 18, 20, 22, 24, 26, 28]\n"
     ]
    }
   ],
   "source": [
    "n = 0\n",
    "odds = list()\n",
    "evens = list()\n",
    "limit = int( input( \"enter up limit : \" ))\n",
    "\n",
    "while( n < limit ):\n",
    "    if( n % 2 == 1 ):\n",
    "        odds.append( n )\n",
    "    else:\n",
    "        evens.append( n ) \n",
    "    n += 1    \n",
    "\n",
    "print( f\"odd numbers in 0-{limit} = { odds }\" )\n",
    "print( f\"even numbers in 0-{limit} = { evens }\" )\n"
   ]
  },
  {
   "cell_type": "code",
   "execution_count": 17,
   "metadata": {},
   "outputs": [
    {
     "name": "stdout",
     "output_type": "stream",
     "text": [
      "enter name : \n",
      "enter name : \n",
      "enter name : cgr\n",
      "hello, cgr\n"
     ]
    }
   ],
   "source": [
    "name = \"\"\n",
    "while not name.strip():    # strip is prevents space character input\n",
    "     name = input( \"enter name : \" )\n",
    "\n",
    "print( f\"hello, {name}\" ) "
   ]
  },
  {
   "cell_type": "markdown",
   "metadata": {},
   "source": [
    "### ***Break & Continue***"
   ]
  },
  {
   "cell_type": "code",
   "execution_count": 6,
   "metadata": {},
   "outputs": [
    {
     "name": "stdout",
     "output_type": "stream",
     "text": [
      "w\n",
      "w\n",
      "w\n"
     ]
    }
   ],
   "source": [
    "web = \"www.google.com\"\n",
    "for ch in web:\n",
    "    if( ch == '.' ):\n",
    "        break;\n",
    "    print( ch )"
   ]
  },
  {
   "cell_type": "code",
   "execution_count": 22,
   "metadata": {},
   "outputs": [
    {
     "name": "stdout",
     "output_type": "stream",
     "text": [
      "w\n",
      "w\n",
      "w\n",
      "x\n",
      "x\n",
      "c\n",
      "o\n",
      "m\n"
     ]
    }
   ],
   "source": [
    "web = \"www.xx.com\"\n",
    "for ch in web:\n",
    "    if( ch == '.' ):\n",
    "        continue;\n",
    "    print( ch ) "
   ]
  },
  {
   "cell_type": "code",
   "execution_count": 1,
   "metadata": {},
   "outputs": [
    {
     "name": "stdout",
     "output_type": "stream",
     "text": [
      "name( exit:q ): ww\n",
      "hello ww !\n",
      "name( exit:q ): cgr\n",
      "hello cgr !\n",
      "name( exit:q ): q\n"
     ]
    }
   ],
   "source": [
    "while True:\n",
    "    name = input( \"name( exit:q ): \" )\n",
    "    if( name == 'q' ):\n",
    "        break\n",
    "    print( f\"hello {name} !\" )"
   ]
  },
  {
   "cell_type": "markdown",
   "metadata": {},
   "source": [
    "#### ***EXAMPLE***\n",
    "* **Sum of odd numbers between 0-100 ?**"
   ]
  },
  {
   "cell_type": "code",
   "execution_count": 3,
   "metadata": {},
   "outputs": [
    {
     "name": "stdout",
     "output_type": "stream",
     "text": [
      "2500\n"
     ]
    }
   ],
   "source": [
    "n = 0 \n",
    "tot = 0\n",
    "while( n < 100 ):\n",
    "    n += 1 \n",
    "    if( n % 2 == 0 ):\n",
    "        continue\n",
    "    tot += n \n",
    "print( tot )"
   ]
  },
  {
   "cell_type": "markdown",
   "metadata": {},
   "source": [
    "### ***Loop Methods : range(), enumerate(), zip()***"
   ]
  },
  {
   "cell_type": "markdown",
   "metadata": {},
   "source": [
    "###  ***range()***"
   ]
  },
  {
   "cell_type": "code",
   "execution_count": 7,
   "metadata": {},
   "outputs": [
    {
     "name": "stdout",
     "output_type": "stream",
     "text": [
      "range(0, 20)\n",
      "0 1 2 3 4 5 6 7 8 9 10 11 12 13 14 15 16 17 18 19\n"
     ]
    }
   ],
   "source": [
    "print( range( 0,20 ) ) \n",
    "print( *range( 0,20 ) ) "
   ]
  },
  {
   "cell_type": "code",
   "execution_count": 13,
   "metadata": {},
   "outputs": [
    {
     "name": "stdout",
     "output_type": "stream",
     "text": [
      "\n",
      "20 19 18 17 16 15 14 13 12 11 10 9 8 7 6 5 4 3 2 1\n"
     ]
    }
   ],
   "source": [
    "print( *range( 20, 0 ) )        # not going down. dont anything in this line\n",
    "print( *range( 20, 0, -1 ) )    # reverse range\n"
   ]
  },
  {
   "cell_type": "code",
   "execution_count": 14,
   "metadata": {},
   "outputs": [
    {
     "name": "stdout",
     "output_type": "stream",
     "text": [
      "[0, 1, 2, 3, 4, 5, 6, 7, 8, 9]\n"
     ]
    }
   ],
   "source": [
    "# convert a list \n",
    "print( list(range( 0, 10 )) ) "
   ]
  },
  {
   "cell_type": "code",
   "execution_count": 9,
   "metadata": {},
   "outputs": [
    {
     "name": "stdout",
     "output_type": "stream",
     "text": [
      "0 \n",
      "1 *\n",
      "2 **\n",
      "3 ***\n",
      "4 ****\n",
      "5 *****\n",
      "6 ******\n",
      "7 *******\n",
      "8 ********\n",
      "9 *********\n"
     ]
    }
   ],
   "source": [
    "for item in range( 0, 10 ):\n",
    "    print( item, \"*\" * item )"
   ]
  },
  {
   "cell_type": "code",
   "execution_count": 16,
   "metadata": {},
   "outputs": [
    {
     "name": "stdout",
     "output_type": "stream",
     "text": [
      "[50, 60, 70, 80, 90]\n"
     ]
    }
   ],
   "source": [
    "l = list()\n",
    "for item in range( 50, 100, 10 ):\n",
    "    l.append( item )\n",
    "print( l )"
   ]
  },
  {
   "cell_type": "code",
   "execution_count": 17,
   "metadata": {},
   "outputs": [
    {
     "name": "stdout",
     "output_type": "stream",
     "text": [
      "50\n",
      "60\n",
      "70\n",
      "80\n",
      "90\n",
      "[5, 15, 25, 35, 45, 55, 65, 75, 85, 95]\n"
     ]
    }
   ],
   "source": [
    "for item in range( 50, 100, 10 ):\n",
    "    print( item )\n",
    "print( list( range ( 5, 100, 10 ) ))"
   ]
  },
  {
   "cell_type": "code",
   "execution_count": 9,
   "metadata": {
    "scrolled": true
   },
   "outputs": [
    {
     "name": "stdout",
     "output_type": "stream",
     "text": [
      "0\n",
      "1\n",
      "2\n",
      "3\n",
      "4\n",
      "5\n",
      "6\n",
      "7\n",
      "8\n",
      "9\n"
     ]
    }
   ],
   "source": [
    "i = 0\n",
    "while( i in range(0, 10) ):\n",
    "    print( i )\n",
    "    i += 1 "
   ]
  },
  {
   "cell_type": "markdown",
   "metadata": {},
   "source": [
    "###  ***enumerate()***"
   ]
  },
  {
   "cell_type": "code",
   "execution_count": 21,
   "metadata": {},
   "outputs": [
    {
     "name": "stdout",
     "output_type": "stream",
     "text": [
      "index : 0 \t char : h \n",
      "index : 1 \t char : e \n",
      "index : 2 \t char : l \n",
      "index : 3 \t char : l \n",
      "index : 4 \t char : o \n"
     ]
    }
   ],
   "source": [
    "ind = 0 \n",
    "word = \"hello\"\n",
    "for ch in word:\n",
    "    print( f\"index : { ind } \\t char : { word[ ind ] } \" ) ## word[ ind ] == ch this is same result \n",
    "    ind += 1"
   ]
  },
  {
   "cell_type": "code",
   "execution_count": 18,
   "metadata": {},
   "outputs": [
    {
     "name": "stdout",
     "output_type": "stream",
     "text": [
      "(0, 'h')\n",
      "(1, 'e')\n",
      "(2, 'l')\n",
      "(3, 'l')\n",
      "(4, 'o')\n",
      "index : 0 \t char : h \n",
      "index : 1 \t char : e \n",
      "index : 2 \t char : l \n",
      "index : 3 \t char : l \n",
      "index : 4 \t char : o \n"
     ]
    }
   ],
   "source": [
    "word = \"hello\"\n",
    "    \n",
    "for item in enumerate( word ):\n",
    "    print( item )\n",
    "    \n",
    "for ind,letter in enumerate( word ):\n",
    "    #print( ind, letter)\n",
    "    print( f\"index : { ind } \\t char : { letter } \" )\n"
   ]
  },
  {
   "cell_type": "markdown",
   "metadata": {},
   "source": [
    "###  ***zip()***"
   ]
  },
  {
   "cell_type": "code",
   "execution_count": 20,
   "metadata": {},
   "outputs": [
    {
     "name": "stdout",
     "output_type": "stream",
     "text": [
      "[(1, 'a', 100), (2, 'b', 200), (3, 'c', 300), (4, 'd', 400), (5, 'e', 500)]\n",
      "(1, 'a', 100)\n",
      "(2, 'b', 200)\n",
      "(3, 'c', 300)\n",
      "(4, 'd', 400)\n",
      "(5, 'e', 500)\n",
      "1 a 100\n",
      "2 b 200\n",
      "3 c 300\n",
      "4 d 400\n",
      "5 e 500\n"
     ]
    }
   ],
   "source": [
    "names = [ 1,2,3,4,5 ]\n",
    "phones = [ \"a\",\"b\",\"c\",\"d\",\"e\"]\n",
    "no = [ 100,200,300,400,500 ]\n",
    "\n",
    "new_ls = list(zip( names, phones, no ))\n",
    "\n",
    "print( new_ls )\n",
    " \n",
    "for item in new_ls:    # same in the below code block\n",
    "    print( item )\n",
    "    \n",
    "#for item in zip( names, phones, no ):\n",
    "#   print( item )\n",
    "    \n",
    "for a, b, c in new_ls:\n",
    "    print( a,b,c )\n",
    "    #print( a )\n",
    "\n"
   ]
  },
  {
   "cell_type": "markdown",
   "metadata": {},
   "source": [
    "### ***List Comprehensions***"
   ]
  },
  {
   "cell_type": "markdown",
   "metadata": {},
   "source": [
    "* ***This way is altenative of while or for loops.***\n"
   ]
  },
  {
   "cell_type": "code",
   "execution_count": 21,
   "metadata": {},
   "outputs": [
    {
     "name": "stdout",
     "output_type": "stream",
     "text": [
      "[0, 1, 4, 9, 16, 25, 36, 49, 64, 81]\n",
      "[0, 1, 4, 9, 16, 25, 36, 49, 64, 81]\n",
      "[0, 9, 36, 81]\n"
     ]
    }
   ],
   "source": [
    "num_list = list()\n",
    "for x in range( 10 ):\n",
    "    num_list.append( x**2 )\n",
    "print( num_list)\n",
    "    \n",
    "# an easy way with list comp.\n",
    "numbers = [ x**2 for x in range( 10 ) ]\n",
    "print( numbers )\n",
    "\n",
    "numbers = [ x**2 for x in range( 10 ) if x % 3 == 0 ]\n",
    "print( numbers )"
   ]
  },
  {
   "cell_type": "code",
   "execution_count": 73,
   "metadata": {},
   "outputs": [
    {
     "name": "stdout",
     "output_type": "stream",
     "text": [
      "['p', 'y', 't', 'h', 'o', 'n']\n",
      "['p', 'y', 't', 'h', 'o', 'n']\n"
     ]
    }
   ],
   "source": [
    "word = \"python\"\n",
    "lst = list()\n",
    "for c in word:\n",
    "    lst.append( c )\n",
    "print( lst )\n",
    "\n",
    "# an easy way with list comp.\n",
    "ls = [ c for c in word ]\n",
    "print( ls )"
   ]
  },
  {
   "cell_type": "code",
   "execution_count": 1,
   "metadata": {},
   "outputs": [
    {
     "name": "stdout",
     "output_type": "stream",
     "text": [
      "[22, 21, 12, 20]\n"
     ]
    }
   ],
   "source": [
    "years = [ 1998, 1999, 2008, 2000 ]\n",
    "ages = [ 2020 - year for year in years ]\n",
    "print( ages )"
   ]
  },
  {
   "cell_type": "code",
   "execution_count": 24,
   "metadata": {},
   "outputs": [
    {
     "name": "stdout",
     "output_type": "stream",
     "text": [
      "[0, 'odd', 2, 'odd', 4, 'odd', 6, 'odd', 8, 'odd']\n"
     ]
    }
   ],
   "source": [
    "res = [ x if x % 2 == 0 else \"odd\" for x in range( 10 ) ]\n",
    "print( res )"
   ]
  },
  {
   "cell_type": "code",
   "execution_count": 2,
   "metadata": {},
   "outputs": [
    {
     "name": "stdout",
     "output_type": "stream",
     "text": [
      "[1, 2, 3, 4, 5, 6, 7, 8, 9]\n",
      "['odd', 'even', 'odd', 'even', 'odd', 'even', 'odd', 'even', 'odd']\n"
     ]
    }
   ],
   "source": [
    "lst = [ x for x in range( 1, 10 ) ]\n",
    "print( lst )\n",
    "\n",
    "l = [ \"even\" if( y % 2 == 0) else \"odd\" for y in lst  ]\n",
    "print( l )"
   ]
  },
  {
   "cell_type": "code",
   "execution_count": 98,
   "metadata": {
    "scrolled": true
   },
   "outputs": [
    {
     "name": "stdout",
     "output_type": "stream",
     "text": [
      "[(0, 0), (0, 1), (1, 0), (1, 1)]\n",
      "[(0, 0), (0, 1), (1, 0), (1, 1)]\n"
     ]
    }
   ],
   "source": [
    "res = list()\n",
    "for x in range( 2 ):\n",
    "    for y in range( 2 ):\n",
    "        res.append( (x, y) )\n",
    "print( res )\n",
    "\n",
    "# easy way with list comp\n",
    "ls = list()\n",
    "ls = [ (x,y) for x in range( 2 ) for y in range( 2 ) ] \n",
    "print( ls )"
   ]
  },
  {
   "cell_type": "markdown",
   "metadata": {},
   "source": [
    "#### ***Note : Convert the nested list to one list.***"
   ]
  },
  {
   "cell_type": "code",
   "execution_count": 26,
   "metadata": {},
   "outputs": [
    {
     "name": "stdout",
     "output_type": "stream",
     "text": [
      "[1, 2, 3, 4, 5, 6, 7, 8, 9]\n",
      "[1, 2, 3, 4, 5, 6, 7, 8, 9]\n"
     ]
    }
   ],
   "source": [
    "# classical \n",
    "lst = [[ 1,2,3 ], [ 4,5,6,7 ], [ 8,9 ]]\n",
    "new1 = list()\n",
    "for i in lst:\n",
    "    for x in i:\n",
    "        new1.append( x )\n",
    "print( new1 )\n",
    "\n",
    "# list comp.\n",
    "new = [ x for i in lst for x in i ]\n",
    "print( new )"
   ]
  },
  {
   "cell_type": "code",
   "execution_count": 25,
   "metadata": {},
   "outputs": [
    {
     "name": "stdout",
     "output_type": "stream",
     "text": [
      "[(1, 2), (2, 3), (3, 4)]\n",
      "[2, 6, 12]\n",
      "[(1, 2), (2, 3), (3, 4)]\n",
      "[1, 2, 3]\n",
      "[2, 3, 4]\n"
     ]
    }
   ],
   "source": [
    "ls = [ (1,2), (2,3), (3,4) ]\n",
    "\n",
    "t = [ i for i in ls ]\n",
    "print( t )\n",
    "\n",
    "t = [ i*j for i,j in ls ]\n",
    "print( t )\n",
    "\n",
    "t = [ (i,j) for i,j in ls ]\n",
    "print( t )\n",
    "\n",
    "t = [ i for i,j in ls ]\n",
    "print( t )\n",
    "\n",
    "t = [ j for i,j in ls ]\n",
    "print( t )"
   ]
  },
  {
   "cell_type": "code",
   "execution_count": 19,
   "metadata": {},
   "outputs": [
    {
     "name": "stdout",
     "output_type": "stream",
     "text": [
      "['ppp', 'yyy', 'ttt', 'hhh', 'ooo', 'nnn']\n"
     ]
    }
   ],
   "source": [
    "s = \"python\"\n",
    "lst = [ i * 3 for i in s ]\n",
    "print( lst )"
   ]
  }
 ],
 "metadata": {
  "kernelspec": {
   "display_name": "Python 3",
   "language": "python",
   "name": "python3"
  },
  "language_info": {
   "codemirror_mode": {
    "name": "ipython",
    "version": 3
   },
   "file_extension": ".py",
   "mimetype": "text/x-python",
   "name": "python",
   "nbconvert_exporter": "python",
   "pygments_lexer": "ipython3",
   "version": "3.8.3"
  }
 },
 "nbformat": 4,
 "nbformat_minor": 4
}
