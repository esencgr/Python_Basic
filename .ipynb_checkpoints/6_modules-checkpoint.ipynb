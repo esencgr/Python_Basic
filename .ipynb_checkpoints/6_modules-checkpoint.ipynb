{
 "cells": [
  {
   "cell_type": "markdown",
   "metadata": {},
   "source": [
    "## **MODULES**"
   ]
  },
  {
   "cell_type": "markdown",
   "metadata": {},
   "source": [
    "### ***Import Modules Way 1***"
   ]
  },
  {
   "cell_type": "code",
   "execution_count": 3,
   "metadata": {},
   "outputs": [
    {
     "name": "stdout",
     "output_type": "stream",
     "text": [
      "/home/cgr/Documents/GitHub-Py/Python_Basic_Notebooks\n",
      "6.0_modules.ipynb\n",
      "3_condition-blocks.ipynb\n",
      "package_list.ipynb\n",
      ".ipynb_checkpoints\n",
      "good_practice.ipynb\n",
      "5_functions.ipynb\n",
      "4_loops.ipynb\n",
      "6.1_module1.py\n",
      ".git\n",
      "2_operators.ipynb\n",
      "__pycache__\n",
      "README.md\n",
      "1_objects_data_types.ipynb\n",
      "tab enter for clean\n"
     ]
    },
    {
     "data": {
      "text/plain": [
       "0"
      ]
     },
     "execution_count": 3,
     "metadata": {},
     "output_type": "execute_result"
    }
   ],
   "source": [
    "# list of os modules content  \n",
    "import os \n",
    "#for i in dir( os ):\n",
    "#    if \"_\" not in i :\n",
    "#        print( i )\n",
    "\n",
    "#current path \n",
    "current = os.getcwd()\n",
    "print( current )\n",
    "\n",
    "# change the path\n",
    "#os.chdir( \"/home/cgr\")\n",
    "#current = os.getcwd()\n",
    "#print( current )\n",
    "#print(os.listdir())\n",
    "\n",
    "for i in os.listdir(\".\"):\n",
    "    print( i )\n",
    "input( \"tab enter for clean\")\n",
    "os.system(\" clear\")"
   ]
  },
  {
   "cell_type": "markdown",
   "metadata": {},
   "source": [
    "#### ***Time Module***"
   ]
  },
  {
   "cell_type": "code",
   "execution_count": 28,
   "metadata": {},
   "outputs": [
    {
     "name": "stdout",
     "output_type": "stream",
     "text": [
      "1603106966.4873216\n",
      "Mon Oct 19 14:29:26 2020\n",
      "Help on built-in function strftime in module time:\n",
      "\n",
      "strftime(...)\n",
      "    strftime(format[, tuple]) -> string\n",
      "    \n",
      "    Convert a time tuple to a string according to a format specification.\n",
      "    See the library reference manual for formatting codes. When the time tuple\n",
      "    is not present, current time as returned by localtime() is used.\n",
      "    \n",
      "    Commonly used format codes:\n",
      "    \n",
      "    %Y  Year with century as a decimal number.\n",
      "    %m  Month as a decimal number [01,12].\n",
      "    %d  Day of the month as a decimal number [01,31].\n",
      "    %H  Hour (24-hour clock) as a decimal number [00,23].\n",
      "    %M  Minute as a decimal number [00,59].\n",
      "    %S  Second as a decimal number [00,61].\n",
      "    %z  Time zone offset from UTC.\n",
      "    %a  Locale's abbreviated weekday name.\n",
      "    %A  Locale's full weekday name.\n",
      "    %b  Locale's abbreviated month name.\n",
      "    %B  Locale's full month name.\n",
      "    %c  Locale's appropriate date and time representation.\n",
      "    %I  Hour (12-hour clock) as a decimal number [01,12].\n",
      "    %p  Locale's equivalent of either AM or PM.\n",
      "    \n",
      "    Other codes may be available on your platform.  See documentation for\n",
      "    the C library strftime function.\n",
      "\n",
      "None\n"
     ]
    }
   ],
   "source": [
    "# list of os modules content  \n",
    "import time \n",
    "\n",
    "\"\"\"\n",
    "for i in dir( time ):\n",
    "    if \"_\" not in i :\n",
    "        print( i )\n",
    "\"\"\"        \n",
    "\n",
    "t1 = time.time()\n",
    "print( t1 ) \n",
    "\n",
    "\"\"\"\n",
    "time.sleep( 3 )\n",
    "t2 = time.time()\n",
    "print( t2 )\n",
    "\n",
    "print( f\"diff : { t2 - t1 }\" )\n",
    "\"\"\"\n",
    "\n",
    "\"\"\"\n",
    "format_time = time.gmtime( )\n",
    "print( format_time ) \n",
    "\"\"\"\n",
    "\n",
    "\"\"\"\n",
    "# computers birhday\n",
    "c_time = time.gmtime(0)\n",
    "print( c_time )\n",
    "\"\"\"\n",
    "\n",
    "\"\"\"\n",
    "# local time for tr istanbul\n",
    "l_time = time.localtime()\n",
    "print( l_time)\n",
    "\"\"\"\n",
    "\n",
    "\"\"\"\n",
    "# asc time for tr istanbul\n",
    "a_time = time.asctime()\n",
    "print( a_time)\n",
    "\n",
    "\"\"\"\n",
    "\n",
    "# strf time for tr istanbul\n",
    "x = time.strftime( \"%c\" )\n",
    "print( x )\n",
    "\n",
    "print( help( time.strftime ) )"
   ]
  },
  {
   "cell_type": "markdown",
   "metadata": {},
   "source": [
    "#### ***Random Module***"
   ]
  },
  {
   "cell_type": "code",
   "execution_count": 1,
   "metadata": {},
   "outputs": [
    {
     "name": "stdout",
     "output_type": "stream",
     "text": [
      "465\n"
     ]
    },
    {
     "data": {
      "text/plain": [
       "0"
      ]
     },
     "execution_count": 1,
     "metadata": {},
     "output_type": "execute_result"
    }
   ],
   "source": [
    "# list of os modules content  \n",
    "from random import randint\n",
    "from os import system as delete\n",
    "\n",
    "delete( \"clear\" )\n",
    "\n",
    "rnd = randint( 100, 500 )\n",
    "print(rnd )\n",
    "delete( \"clear\" )"
   ]
  },
  {
   "cell_type": "code",
   "execution_count": 5,
   "metadata": {},
   "outputs": [
    {
     "name": "stdout",
     "output_type": "stream",
     "text": [
      "[9, 46, 7]\n"
     ]
    }
   ],
   "source": [
    "import random\n",
    "numbers = range( 1, 50 )\n",
    "r = random.sample( numbers, 3 )   # create 3 random sample int\n",
    "print( r )"
   ]
  },
  {
   "cell_type": "code",
   "execution_count": 4,
   "metadata": {},
   "outputs": [
    {
     "data": {
      "text/plain": [
       "0.8939966636005579"
      ]
     },
     "execution_count": 4,
     "metadata": {},
     "output_type": "execute_result"
    }
   ],
   "source": [
    "import math\n",
    "math.gcd( 9, 81 )\n",
    "math.sin( 90 )"
   ]
  },
  {
   "cell_type": "markdown",
   "metadata": {},
   "source": [
    "#### ***Note  :  You can use a different name a module*** "
   ]
  },
  {
   "cell_type": "code",
   "execution_count": 5,
   "metadata": {},
   "outputs": [
    {
     "data": {
      "text/plain": [
       "120"
      ]
     },
     "execution_count": 5,
     "metadata": {},
     "output_type": "execute_result"
    }
   ],
   "source": [
    "import math as mt\n",
    "mt.factorial( 5 )"
   ]
  },
  {
   "cell_type": "markdown",
   "metadata": {},
   "source": [
    "#### ***Turtle Module***"
   ]
  },
  {
   "cell_type": "code",
   "execution_count": 1,
   "metadata": {},
   "outputs": [],
   "source": [
    "# import turtle\n",
    "\n",
    "# # pen = turtle.Turtle()\n",
    "# # pen.penup()\n",
    "# # pen.setposition( 180, 0 )\n",
    "# # pen.pendown()\n",
    "# # pen.circle( 90 )\n"
   ]
  },
  {
   "cell_type": "markdown",
   "metadata": {},
   "source": [
    "### ***Import Modules Way 2***"
   ]
  },
  {
   "cell_type": "code",
   "execution_count": 18,
   "metadata": {},
   "outputs": [
    {
     "data": {
      "text/plain": [
       "5"
      ]
     },
     "execution_count": 18,
     "metadata": {},
     "output_type": "execute_result"
    }
   ],
   "source": [
    "from math import *    ## In this way(*) provide the get all functions \n",
    "\n",
    "factorial( 5 )        # Not necessarily define the math module before func like that ( math.floor() ) \n",
    "floor( 5.4 )"
   ]
  },
  {
   "cell_type": "code",
   "execution_count": 1,
   "metadata": {},
   "outputs": [],
   "source": [
    "from math import floor,ceil   ## In this way you can get one function that you want"
   ]
  },
  {
   "cell_type": "code",
   "execution_count": 2,
   "metadata": {},
   "outputs": [
    {
     "ename": "NameError",
     "evalue": "name 'factorial' is not defined",
     "output_type": "error",
     "traceback": [
      "\u001b[0;31m---------------------------------------------------------------------------\u001b[0m",
      "\u001b[0;31mNameError\u001b[0m                                 Traceback (most recent call last)",
      "\u001b[0;32m<ipython-input-2-f94a42f8f4c0>\u001b[0m in \u001b[0;36m<module>\u001b[0;34m\u001b[0m\n\u001b[1;32m      1\u001b[0m \u001b[0mfloor\u001b[0m\u001b[0;34m(\u001b[0m \u001b[0;36m5.4\u001b[0m \u001b[0;34m)\u001b[0m\u001b[0;34m\u001b[0m\u001b[0;34m\u001b[0m\u001b[0m\n\u001b[0;32m----> 2\u001b[0;31m \u001b[0mfactorial\u001b[0m\u001b[0;34m(\u001b[0m \u001b[0;36m5\u001b[0m \u001b[0;34m)\u001b[0m\u001b[0;34m\u001b[0m\u001b[0;34m\u001b[0m\u001b[0m\n\u001b[0m",
      "\u001b[0;31mNameError\u001b[0m: name 'factorial' is not defined"
     ]
    }
   ],
   "source": [
    "floor( 5.4 )\n",
    "factorial( 5 )"
   ]
  },
  {
   "cell_type": "markdown",
   "metadata": {},
   "source": [
    "### ***Create Own Module***"
   ]
  },
  {
   "cell_type": "markdown",
   "metadata": {},
   "source": [
    "#### ***Note  :  You should add this module's py file to your working directory. ( Where will to use ? )*** "
   ]
  },
  {
   "cell_type": "code",
   "execution_count": 2,
   "metadata": {},
   "outputs": [
    {
     "data": {
      "text/plain": [
       "['__builtins__',\n",
       " '__cached__',\n",
       " '__doc__',\n",
       " '__file__',\n",
       " '__loader__',\n",
       " '__name__',\n",
       " '__package__',\n",
       " '__spec__',\n",
       " 'hello',\n",
       " 'obj',\n",
       " 'tot']"
      ]
     },
     "execution_count": 2,
     "metadata": {},
     "output_type": "execute_result"
    }
   ],
   "source": [
    "import module1\n",
    "dir( module1 )"
   ]
  },
  {
   "cell_type": "code",
   "execution_count": 4,
   "metadata": {},
   "outputs": [
    {
     "name": "stdout",
     "output_type": "stream",
     "text": [
      "Help on module module1:\n",
      "\n",
      "NAME\n",
      "    module1 - # -*- coding: utf-8 -*-\n",
      "\n",
      "FUNCTIONS\n",
      "    hello(s)\n",
      "        Parameters\n",
      "        ----------\n",
      "        s : string\n",
      "        \n",
      "        Returns\n",
      "        -------\n",
      "        say hello\n",
      "    \n",
      "    tot(*args)\n",
      "        Parameters\n",
      "        ----------\n",
      "        *args : int variables  \n",
      "        \n",
      "        Returns\n",
      "        -------\n",
      "        sum of this variables .\n",
      "\n",
      "DATA\n",
      "    obj = ['python', 'cpp', 'c', 'git']\n",
      "\n",
      "FILE\n",
      "    /home/cgr/Documents/GitHub-Py/Python_Basic_Notebooks/module1.py\n",
      "\n",
      "\n"
     ]
    }
   ],
   "source": [
    "help( module1 )"
   ]
  },
  {
   "cell_type": "code",
   "execution_count": 5,
   "metadata": {},
   "outputs": [
    {
     "name": "stdout",
     "output_type": "stream",
     "text": [
      "hello cagri \n"
     ]
    }
   ],
   "source": [
    "module1.hello( \"cagri \")"
   ]
  },
  {
   "cell_type": "code",
   "execution_count": 6,
   "metadata": {},
   "outputs": [
    {
     "name": "stdout",
     "output_type": "stream",
     "text": [
      "21\n",
      "10\n"
     ]
    }
   ],
   "source": [
    "print( module1.tot( 1,2,3,4,5,6 ) ) \n",
    "print( module1.tot( 1,2,3,4) ) "
   ]
  },
  {
   "cell_type": "code",
   "execution_count": 7,
   "metadata": {
    "scrolled": true
   },
   "outputs": [
    {
     "name": "stdout",
     "output_type": "stream",
     "text": [
      "['python', 'cpp', 'c', 'git']\n"
     ]
    }
   ],
   "source": [
    "print( module1.obj )"
   ]
  },
  {
   "cell_type": "markdown",
   "metadata": {},
   "source": [
    "#### ***Note  :  If you want to access own module from anywhere you should add this module file to this path =  \" c: / python3.5 / lib \"*** "
   ]
  }
 ],
 "metadata": {
  "kernelspec": {
   "display_name": "Python 3",
   "language": "python",
   "name": "python3"
  },
  "language_info": {
   "codemirror_mode": {
    "name": "ipython",
    "version": 3
   },
   "file_extension": ".py",
   "mimetype": "text/x-python",
   "name": "python",
   "nbconvert_exporter": "python",
   "pygments_lexer": "ipython3",
   "version": "3.8.3"
  }
 },
 "nbformat": 4,
 "nbformat_minor": 4
}
