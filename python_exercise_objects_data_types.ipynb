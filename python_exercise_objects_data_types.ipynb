{
 "cells": [
  {
   "cell_type": "markdown",
   "metadata": {},
   "source": [
    "## Exercises - Basic Python Objects & Data Types "
   ]
  },
  {
   "cell_type": "markdown",
   "metadata": {},
   "source": [
    "### Problem 1 :\n",
    "* Multiply the 3 numbers you received from the user and print them on the screen. Try to print on screen with the format method.\n"
   ]
  },
  {
   "cell_type": "code",
   "execution_count": 6,
   "metadata": {},
   "outputs": [
    {
     "name": "stdout",
     "output_type": "stream",
     "text": [
      "a = 2\n",
      "b = 3\n",
      "c = 4\n",
      "the product of 2 * 3 * 4 = 24\n"
     ]
    }
   ],
   "source": [
    "a = int(input( \"a = \" ))\n",
    "b = int(input( \"b = \" ))\n",
    "c = int(input( \"c = \" ))\n",
    "\n",
    "pr = a * b * c\n",
    "\n",
    "print( f\"the product of { a } * { b } * { c } = { pr }\" )"
   ]
  },
  {
   "cell_type": "markdown",
   "metadata": {},
   "source": [
    "### Problem 2 :\n",
    "* Find the body mass index of the user according to the height and weight values you received from the user.\n",
    "* Body Mass Index : weight(kg) / height(m)*height(m)\n"
   ]
  },
  {
   "cell_type": "code",
   "execution_count": 8,
   "metadata": {},
   "outputs": [
    {
     "name": "stdout",
     "output_type": "stream",
     "text": [
      "weight = 84\n",
      "height = 1.73\n",
      "body mass index for weight 84 and height 1.73 -->  28.06642386982525\n"
     ]
    }
   ],
   "source": [
    "w = int(input( \"weight = \" ))\n",
    "h = float(input( \"height = \" ))\n",
    "\n",
    "mass_ind = w / ( h ** 2 )\n",
    "\n",
    "print( f\"body mass index for weight { w } and height { h } --> { mass_ind: }\")"
   ]
  },
  {
   "cell_type": "markdown",
   "metadata": {},
   "source": [
    "### Problem 3 :\n",
    "* Get information about how much a vehicle burns per kilometer and how many kilometers it travels and calculate how much the driver should pay in total."
   ]
  },
  {
   "cell_type": "code",
   "execution_count": 21,
   "metadata": {},
   "outputs": [
    {
     "name": "stdout",
     "output_type": "stream",
     "text": [
      "burns per km = 0.22\n",
      "total kilometer = 430\n",
      "amount of pay of amount = 94.600000 tl\n"
     ]
    }
   ],
   "source": [
    "burn = float(input( \"burns per km = \" ))\n",
    "km = int(input( \"total kilometer = \" ))\n",
    "\n",
    "pay = burn * km \n",
    "\n",
    "print( f\"amount of pay of amount = { pay:4f } tl\" )"
   ]
  },
  {
   "cell_type": "markdown",
   "metadata": {},
   "source": [
    "###  Problem 4 :\n",
    "* Get a name and surname and print they buttom up."
   ]
  },
  {
   "cell_type": "code",
   "execution_count": 23,
   "metadata": {},
   "outputs": [
    {
     "name": "stdout",
     "output_type": "stream",
     "text": [
      "name : cagrı\n",
      "surname : esen\n",
      "age : 26\n",
      "\n",
      "İnformation\n",
      "\n",
      "cagrı\n",
      "esen\n",
      "26\n"
     ]
    }
   ],
   "source": [
    "name = input( \"name : \" )\n",
    "surname = input( \"surname : \" )\n",
    "age = int(input( \"age : \" ))\n",
    "\n",
    "print( \"\\nInformation\\n\" )\n",
    "print( f\"{ name }\\n{ surname }\\n{ age }\" )\n"
   ]
  },
  {
   "cell_type": "markdown",
   "metadata": {},
   "source": [
    "### Problem 5 :\n",
    "* Enter two number and replace with each other.\n"
   ]
  },
  {
   "cell_type": "code",
   "execution_count": 25,
   "metadata": {},
   "outputs": [
    {
     "name": "stdout",
     "output_type": "stream",
     "text": [
      "a : 2\n",
      "b : 3\n",
      "normal situation a:2 b:3\n",
      "\n",
      "replace each other a:3 b:2\n"
     ]
    }
   ],
   "source": [
    "a = int(input( \"a : \" ))\n",
    "b = int(input( \"b : \" ))\n",
    "print( f\"normal situation a:{ a } b:{ b }\\n\" )\n",
    "\n",
    "a,b = b,a \n",
    "print( f\"replace each other a:{ a } b:{ b }\" )"
   ]
  },
  {
   "cell_type": "markdown",
   "metadata": {},
   "source": [
    "### Problem 6 :\n",
    "* Take the two perpendicular sides (a, b) of a right triangle from the user and try to find the hypotenuse    length.\n",
    "* Formula : a^2 + b^2 = c^2"
   ]
  },
  {
   "cell_type": "code",
   "execution_count": 6,
   "metadata": {},
   "outputs": [
    {
     "name": "stdout",
     "output_type": "stream",
     "text": [
      "a : 12\n",
      "b : 5\n",
      "hypo : 13.0\n"
     ]
    }
   ],
   "source": [
    "a = int(input( \"a : \" ))\n",
    "b = int(input( \"b : \" ))\n",
    "c = (( a ** 2 ) + ( b ** 2 )) ** 0.5  \n",
    "print( \"hypo :\",c )\n",
    "#print( f\"if the sides of right triangle is a:{ a } b:{ b }, hypotenuse is c:{ c }\" )  "
   ]
  },
  {
   "cell_type": "code",
   "execution_count": null,
   "metadata": {},
   "outputs": [],
   "source": []
  }
 ],
 "metadata": {
  "kernelspec": {
   "display_name": "Python 3",
   "language": "python",
   "name": "python3"
  },
  "language_info": {
   "codemirror_mode": {
    "name": "ipython",
    "version": 3
   },
   "file_extension": ".py",
   "mimetype": "text/x-python",
   "name": "python",
   "nbconvert_exporter": "python",
   "pygments_lexer": "ipython3",
   "version": "3.8.3"
  }
 },
 "nbformat": 4,
 "nbformat_minor": 4
}
