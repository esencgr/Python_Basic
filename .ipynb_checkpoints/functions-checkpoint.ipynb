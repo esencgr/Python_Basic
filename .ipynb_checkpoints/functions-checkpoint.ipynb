{
 "cells": [
  {
   "cell_type": "markdown",
   "metadata": {},
   "source": [
    "## **FUNCTIONS**"
   ]
  },
  {
   "cell_type": "markdown",
   "metadata": {},
   "source": [
    "### ***Function Usage***"
   ]
  },
  {
   "cell_type": "code",
   "execution_count": 10,
   "metadata": {},
   "outputs": [
    {
     "name": "stdout",
     "output_type": "stream",
     "text": [
      "hello cgr\n",
      "hi user\n"
     ]
    }
   ],
   "source": [
    "def say_hello( name ):\n",
    "    print( \"hello\", name )\n",
    "say_hello(\"cgr\")\n",
    "\n",
    "def say_hi( name = 'user' ):\n",
    "    print( \"hi\", name )\n",
    "say_hi()"
   ]
  },
  {
   "cell_type": "code",
   "execution_count": 4,
   "metadata": {},
   "outputs": [
    {
     "name": "stdout",
     "output_type": "stream",
     "text": [
      "hello, cgr\n"
     ]
    }
   ],
   "source": [
    "def say_hello( name ):\n",
    "    return \"hello, \" + name\n",
    "s = say_hello(\"cgr\") \n",
    "print( s ))"
   ]
  },
  {
   "cell_type": "code",
   "execution_count": 23,
   "metadata": {},
   "outputs": [
    {
     "name": "stdout",
     "output_type": "stream",
     "text": [
      "8\n"
     ]
    }
   ],
   "source": [
    "def total( num1, num2 ):\n",
    "    return num1+num2\n",
    "print( total( 3, 5 ) )"
   ]
  },
  {
   "cell_type": "code",
   "execution_count": 1,
   "metadata": {},
   "outputs": [
    {
     "name": "stdout",
     "output_type": "stream",
     "text": [
      "enter your name : cgr\n",
      "enter birth year : 1994\n",
      "remaining year = 39\n",
      "Help on function retirement in module __main__:\n",
      "\n",
      "retirement(name, birth)\n",
      "    DOCSTRING : Calculate the remaining year.\n",
      "    INPUT : Name, Birth Year\n",
      "    OUTPUT : Remaining Year\n",
      "\n",
      "None\n"
     ]
    }
   ],
   "source": [
    "def age( birth ):\n",
    "    return ( 2020 - birth )\n",
    "\n",
    "def retirement( name, birth ):\n",
    "    '''\n",
    "       DOCSTRING : Calculate the remaining year.\n",
    "       INPUT : Name, Birth Year\n",
    "       OUTPUT : Remaining Year \n",
    "       \n",
    "    '''\n",
    "    ag = age( birth )\n",
    "    year = 65 - ag \n",
    "    if( year > 0 ):\n",
    "        print( f\"remaining year = { year }\" )\n",
    "    else:\n",
    "        print( \"you deserve retirement \")\n",
    "        \n",
    "name = input( \"enter your name : \" )    \n",
    "brth = int(input( \"enter birth year : \" ))\n",
    "retirement( name, brth )\n",
    "\n",
    "print( help( retirement ) )"
   ]
  },
  {
   "cell_type": "markdown",
   "metadata": {},
   "source": [
    "#### ***Note : Help Function*** "
   ]
  },
  {
   "cell_type": "code",
   "execution_count": 24,
   "metadata": {},
   "outputs": [
    {
     "name": "stdout",
     "output_type": "stream",
     "text": [
      "Help on built-in function append:\n",
      "\n",
      "append(object, /) method of builtins.list instance\n",
      "    Append object to the end of the list.\n",
      "\n",
      "None\n"
     ]
    }
   ],
   "source": [
    "lst = [ 1,2,3 ]\n",
    "print( help(lst.append ) ) "
   ]
  },
  {
   "cell_type": "markdown",
   "metadata": {},
   "source": [
    "### ***Function Parameters***"
   ]
  },
  {
   "cell_type": "markdown",
   "metadata": {},
   "source": [
    "####  **Value Type Parameters**"
   ]
  },
  {
   "cell_type": "markdown",
   "metadata": {},
   "source": [
    "####  ***Functions with String***"
   ]
  },
  {
   "cell_type": "code",
   "execution_count": 9,
   "metadata": {},
   "outputs": [
    {
     "name": "stdout",
     "output_type": "stream",
     "text": [
      "cgr\n"
     ]
    }
   ],
   "source": [
    "# n is a string and strings are value type \n",
    "# function doesnt use name string's adress  \n",
    "# variable copy\n",
    "\n",
    "def change_name( *n ):\n",
    "    n = \"ada\"\n",
    "    \n",
    "name = \"cgr\" \n",
    "change_name( *name )\n",
    "print( name )"
   ]
  },
  {
   "cell_type": "markdown",
   "metadata": {},
   "source": [
    "####  ***Functions with Number***"
   ]
  },
  {
   "cell_type": "code",
   "execution_count": 30,
   "metadata": {},
   "outputs": [
    {
     "data": {
      "text/plain": [
       "156"
      ]
     },
     "execution_count": 30,
     "metadata": {},
     "output_type": "execute_result"
    }
   ],
   "source": [
    "def add( n1, n2 ):\n",
    "    return n1+n2\n",
    "add( 89, 67 )"
   ]
  },
  {
   "cell_type": "markdown",
   "metadata": {},
   "source": [
    "####  ***Flexible Parameter Number***"
   ]
  },
  {
   "cell_type": "code",
   "execution_count": 33,
   "metadata": {},
   "outputs": [
    {
     "name": "stdout",
     "output_type": "stream",
     "text": [
      "(1, 2, 3, 4, 5)\n"
     ]
    }
   ],
   "source": [
    "def pr( *arg ):\n",
    "    print( arg )\n",
    "pr( 1,2,3,4,5 )"
   ]
  },
  {
   "cell_type": "code",
   "execution_count": 50,
   "metadata": {},
   "outputs": [
    {
     "name": "stdout",
     "output_type": "stream",
     "text": [
      "26\n",
      "52\n",
      "47\n"
     ]
    }
   ],
   "source": [
    "def tot( *arg ):\n",
    "    s = 0 \n",
    "    for i in arg:\n",
    "        s += i  \n",
    "    print( s )\n",
    "\n",
    "tot( 8, 9, 9 )\n",
    "tot( 8*2, 9*2, 2*9 )\n",
    "tot( 8, 9, 9, 10, 11)\n"
   ]
  },
  {
   "cell_type": "markdown",
   "metadata": {},
   "source": [
    "#### **Reference Type Parameters**"
   ]
  },
  {
   "cell_type": "markdown",
   "metadata": {},
   "source": [
    "#### ***Functions with List***"
   ]
  },
  {
   "cell_type": "code",
   "execution_count": 10,
   "metadata": {},
   "outputs": [
    {
     "name": "stdout",
     "output_type": "stream",
     "text": [
      "['istanbul', 'ankara']\n"
     ]
    }
   ],
   "source": [
    "# n is a list and list are reference  type \n",
    "# function uses lst list's adress \n",
    "# adress copy\n",
    "\n",
    "def change( n ):\n",
    "    n[ 0 ] = \"istanbul\"\n",
    "\n",
    "cities = [ \"izmir\", \"ankara\" ] \n",
    "change( cities )\n",
    "print( cities )"
   ]
  },
  {
   "cell_type": "code",
   "execution_count": 2,
   "metadata": {},
   "outputs": [
    {
     "name": "stdout",
     "output_type": "stream",
     "text": [
      "['ist', 'ankara']\n"
     ]
    }
   ],
   "source": [
    "cities = [ \"izmir\", \"ankara\" ] \n",
    "n = cities       # adress copy\n",
    "n[ 0 ] = \"ist\" \n",
    "print( cities )  # cities and n list are in the same adres "
   ]
  },
  {
   "cell_type": "code",
   "execution_count": 14,
   "metadata": {},
   "outputs": [
    {
     "name": "stdout",
     "output_type": "stream",
     "text": [
      "['izmir', 'ankara']\n"
     ]
    }
   ],
   "source": [
    "cities = [ \"izmir\", \"ankara\" ] \n",
    "n = cities[ : ]   # value copy : slicing : like as value type assigning\n",
    "n[ 0 ] = \"ist\"\n",
    "print( cities )  \n"
   ]
  },
  {
   "cell_type": "markdown",
   "metadata": {},
   "source": [
    "#### ***Sum Function***"
   ]
  },
  {
   "cell_type": "code",
   "execution_count": 10,
   "metadata": {},
   "outputs": [
    {
     "name": "stdout",
     "output_type": "stream",
     "text": [
      "8\n"
     ]
    }
   ],
   "source": [
    "def add( a, b ):\n",
    "    return sum( (a, b) )\n",
    "\n",
    "print( add(  3,5 ) )"
   ]
  },
  {
   "cell_type": "markdown",
   "metadata": {},
   "source": [
    "#### ***Functions with Tuple***"
   ]
  },
  {
   "cell_type": "code",
   "execution_count": 5,
   "metadata": {},
   "outputs": [
    {
     "name": "stdout",
     "output_type": "stream",
     "text": [
      "(8, 9, 10, 20, 30, 90)\n",
      "8\n",
      "<class 'tuple'>\n",
      "167\n"
     ]
    }
   ],
   "source": [
    "def add( *params ):\n",
    "    print( params ) \n",
    "    print( params[ 0 ] )\n",
    "    print( type(params) ) \n",
    "    return sum( params )\n",
    "\n",
    "# print( add(8, 9, 10) )  # if how many parameter do you want you can enter \n",
    "print( add(8, 9, 10, 20, 30, 90 ) )  \n"
   ]
  },
  {
   "cell_type": "code",
   "execution_count": 4,
   "metadata": {
    "scrolled": false
   },
   "outputs": [
    {
     "name": "stdout",
     "output_type": "stream",
     "text": [
      "167\n"
     ]
    }
   ],
   "source": [
    "# another way to sum \n",
    "def add( *params ):\n",
    "    tot = 0 \n",
    "    for pr in params:\n",
    "        tot += pr \n",
    "    return tot\n",
    "\n",
    "# print( add(8, 9, 10) )  # if how many parameter do you want you can enter \n",
    "print( add(8, 9, 10, 20, 30, 90 ) )  \n"
   ]
  },
  {
   "cell_type": "markdown",
   "metadata": {},
   "source": [
    "#### ***Functions with Dictionary***"
   ]
  },
  {
   "cell_type": "code",
   "execution_count": 13,
   "metadata": {
    "scrolled": true
   },
   "outputs": [
    {
     "name": "stdout",
     "output_type": "stream",
     "text": [
      "{'key1': 'value1', 'key2': 'value2'}\n",
      "key1 key2\n"
     ]
    }
   ],
   "source": [
    "def display( **kwargs ):\n",
    "    print( kwargs )\n",
    "    print( *kwargs )\n",
    "\n",
    "display( key1 = \"value1\", key2 = \"value2\"  )\n"
   ]
  },
  {
   "cell_type": "code",
   "execution_count": 8,
   "metadata": {
    "scrolled": true
   },
   "outputs": [
    {
     "name": "stdout",
     "output_type": "stream",
     "text": [
      "value1\n",
      "value2\n"
     ]
    }
   ],
   "source": [
    "def display( **kwargs ):\n",
    "    for key, value in kwargs.items():\n",
    "        print(  value )\n",
    "display( key1 = \"value1\", key2 = \"value2\"  )\n"
   ]
  },
  {
   "cell_type": "code",
   "execution_count": 19,
   "metadata": {},
   "outputs": [
    {
     "name": "stdout",
     "output_type": "stream",
     "text": [
      "('name', 'cgr')\n",
      "('age', 12)\n",
      "('phone', 1234)\n",
      "name cgr\n",
      "age 12\n",
      "phone 1234\n",
      "<class 'dict'>\n"
     ]
    }
   ],
   "source": [
    "def display( **args ):   # doesnt matter name args or another **param **hi     \n",
    "    for arg in args.items():\n",
    "        print( arg )\n",
    "\n",
    "dic = { \"name\":\"cgr\", \"age\":12, \"phone\": 1234 }\n",
    "display( **dic )\n",
    "\n",
    "\n",
    "# access key and value \n",
    "def display( **args ):   # doesnt matter name args or another **param **hi     \n",
    "    for key,val in args.items():\n",
    "        print( key,val )\n",
    "\n",
    "dic = { \"name\":\"cgr\", \"age\":12, \"phone\": 1234 }\n",
    "display( **dic )\n",
    "print( type (dic) )"
   ]
  },
  {
   "cell_type": "code",
   "execution_count": 12,
   "metadata": {},
   "outputs": [
    {
     "name": "stdout",
     "output_type": "stream",
     "text": [
      "3 4 5 (10, 20, 30) {'key1': 'value1', 'key2': 'value2'}\n"
     ]
    }
   ],
   "source": [
    "def display( a, b, c, *args, **kwargs ):\n",
    "    print( a, b, c, args, kwargs )\n",
    "    \n",
    "display( 3, 4, 5, 10, 20, 30, key1 = \"value1\", key2 = \"value2\"  )"
   ]
  },
  {
   "cell_type": "markdown",
   "metadata": {},
   "source": [
    "### ***Methods***"
   ]
  },
  {
   "cell_type": "code",
   "execution_count": 15,
   "metadata": {},
   "outputs": [
    {
     "name": "stdout",
     "output_type": "stream",
     "text": [
      "<class 'list'>\n",
      "[1, 'cgr', 2, 3, 4]\n",
      "[1, 'cgr', 2, 3, 4, 'last']\n",
      "[1, 'cgr', 2, 3, 4]\n",
      "Help on built-in function append:\n",
      "\n",
      "append(object, /) method of builtins.list instance\n",
      "    Append object to the end of the list.\n",
      "\n"
     ]
    }
   ],
   "source": [
    "# TYPE METHOD\n",
    "a = [ 1, 2, 3, 4 ]\n",
    "print( type( a ))\n",
    "\n",
    "# INSERT METHOD \n",
    "a = [ 1, 2, 3, 4 ]\n",
    "a.insert( 1, \"cgr\")\n",
    "print( a )\n",
    "\n",
    "# APPEND METHOD\n",
    "a.append( \"last\" )\n",
    "print( a )\n",
    "\n",
    "# POP METHOD \n",
    "a.pop()\n",
    "print( a ) \n",
    "\n",
    "# HELP METHOD \n",
    "help (a.append)"
   ]
  },
  {
   "cell_type": "markdown",
   "metadata": {},
   "source": [
    "### ***Lambda Expressions  &  Map  &  Filter***"
   ]
  },
  {
   "cell_type": "code",
   "execution_count": 53,
   "metadata": {},
   "outputs": [
    {
     "name": "stdout",
     "output_type": "stream",
     "text": [
      "81\n"
     ]
    }
   ],
   "source": [
    "# MAP \n",
    "def square( num ): return( num ** 2 )\n",
    "res = square( 9 )\n",
    "print( res )"
   ]
  },
  {
   "cell_type": "code",
   "execution_count": 58,
   "metadata": {},
   "outputs": [
    {
     "name": "stdout",
     "output_type": "stream",
     "text": [
      "<map object at 0x7fd8b0572b50>\n",
      "[1, 9, 25, 49]\n",
      "1\n",
      "9\n",
      "25\n",
      "49\n"
     ]
    }
   ],
   "source": [
    "def square( num ): return( num ** 2 )\n",
    "\n",
    "numbers = [ 1, 3, 5, 7 ]\n",
    "\n",
    "res = map( square, numbers )\n",
    "print( res )\n",
    "\n",
    "res = list( map( square, numbers ) )\n",
    "print( res )\n",
    "\n",
    "for item in map( square, numbers ):\n",
    "    print( item )"
   ]
  },
  {
   "cell_type": "code",
   "execution_count": 63,
   "metadata": {},
   "outputs": [
    {
     "name": "stdout",
     "output_type": "stream",
     "text": [
      "[1, 9, 25, 49]\n",
      "[1, 9, 25, 49]\n",
      "9\n"
     ]
    }
   ],
   "source": [
    "# LAMBDA \n",
    "# def square( num ): return( num ** 2 )\n",
    "# lamda parameter : return \n",
    "numbers = [ 1, 3, 5, 7 ]\n",
    "res = list( map( lambda num : num **2 , numbers ) )\n",
    "print( res )\n",
    "\n",
    "# also you can define name of lambda function \n",
    "square = lambda num : num **2 \n",
    "res = list( map( square , numbers ) )\n",
    "print( res )\n",
    "\n",
    "result = square( 3 )\n",
    "print( result )"
   ]
  },
  {
   "cell_type": "code",
   "execution_count": 70,
   "metadata": {},
   "outputs": [
    {
     "name": "stdout",
     "output_type": "stream",
     "text": [
      "[2, 4]\n",
      "[2, 4]\n",
      "[2, 4]\n",
      "True\n"
     ]
    }
   ],
   "source": [
    "# FILTER\n",
    "nums = [ 1, 2, 3, 4, 5 ]\n",
    "\n",
    "def check_even( num ):\n",
    "    return num % 2 == 0 \n",
    "\n",
    "res = list(filter( check_even, nums ))\n",
    "print( res )\n",
    "\n",
    "res = list(filter( lambda num : num % 2 == 0, nums ))\n",
    "print( res )\n",
    "\n",
    "check_even = lambda num : num % 2 == 0\n",
    "res = list(filter( check_even, nums ))\n",
    "print( res )\n",
    "\n",
    "res = check_even( nums[ 3 ] ) \n",
    "print( res )\n"
   ]
  },
  {
   "cell_type": "markdown",
   "metadata": {},
   "source": [
    "### ***Global & Local Variables***"
   ]
  },
  {
   "cell_type": "code",
   "execution_count": 4,
   "metadata": {},
   "outputs": [
    {
     "name": "stdout",
     "output_type": "stream",
     "text": [
      "local x\n",
      "global x\n"
     ]
    }
   ],
   "source": [
    "#global x \n",
    "x = \"global x\"\n",
    "\n",
    "# this x variable defines-----------  \n",
    "def fun( ):      \n",
    "    x = \"local x\"     # in this area\n",
    "    print( x )\n",
    "#-----------------------------------\n",
    "\n",
    "fun()\n",
    "print( x )"
   ]
  },
  {
   "cell_type": "code",
   "execution_count": 9,
   "metadata": {},
   "outputs": [
    {
     "name": "stdout",
     "output_type": "stream",
     "text": [
      "hello cgr\n",
      "global name\n"
     ]
    }
   ],
   "source": [
    "#global x \n",
    "name = \"global name\"\n",
    "\n",
    "def fun():  \n",
    "    name = \"cgr\"\n",
    "    \n",
    "    def hello():  \n",
    "        print( \"hello \" + name  )\n",
    "    \n",
    "    hello()\n",
    "\n",
    "fun()\n",
    "print( name )"
   ]
  },
  {
   "cell_type": "code",
   "execution_count": 17,
   "metadata": {},
   "outputs": [
    {
     "name": "stdout",
     "output_type": "stream",
     "text": [
      "x = 50\n",
      "x changed to 100\n",
      "50\n"
     ]
    }
   ],
   "source": [
    "x = 50 \n",
    "def test( x ):\n",
    "    print( f'x = {x}' )\n",
    "    x = 100\n",
    "    print( f'x changed to {x}' )\n",
    "\n",
    "test( x )\n",
    "print( x ) "
   ]
  },
  {
   "cell_type": "code",
   "execution_count": 18,
   "metadata": {},
   "outputs": [
    {
     "name": "stdout",
     "output_type": "stream",
     "text": [
      "x = 50\n",
      "x changed to 100\n",
      "100\n"
     ]
    }
   ],
   "source": [
    "# global is moves the x var into the function\n",
    "x = 50 \n",
    "def test() :\n",
    "    global x\n",
    "    print( f'x = {x}' )\n",
    "    x = 100\n",
    "    print( f'x changed to {x}' )\n",
    "\n",
    "test( )\n",
    "print( x ) "
   ]
  },
  {
   "cell_type": "code",
   "execution_count": null,
   "metadata": {},
   "outputs": [],
   "source": [
    "\n",
    "\n",
    "\n",
    "\n",
    "\n",
    "\n",
    "\n",
    "\n",
    "\n",
    "\n",
    "\n",
    "\n",
    "\n",
    "\n",
    "\n",
    "\n",
    "\n",
    "\n",
    "\n",
    "\n"
   ]
  }
 ],
 "metadata": {
  "kernelspec": {
   "display_name": "Python 3",
   "language": "python",
   "name": "python3"
  },
  "language_info": {
   "codemirror_mode": {
    "name": "ipython",
    "version": 3
   },
   "file_extension": ".py",
   "mimetype": "text/x-python",
   "name": "python",
   "nbconvert_exporter": "python",
   "pygments_lexer": "ipython3",
   "version": "3.8.3"
  }
 },
 "nbformat": 4,
 "nbformat_minor": 4
}
