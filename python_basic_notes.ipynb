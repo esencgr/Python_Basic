{
 "cells": [
  {
   "cell_type": "markdown",
   "metadata": {},
   "source": [
    "## USER I/O\n",
    "\n",
    "### *Print Function* "
   ]
  },
  {
   "cell_type": "code",
   "execution_count": 1,
   "metadata": {},
   "outputs": [
    {
     "name": "stdout",
     "output_type": "stream",
     "text": [
      "hello\n",
      "3\n",
      "cgr hello.\n"
     ]
    }
   ],
   "source": [
    "print(\"hello\")\n",
    "print( 3 )\n",
    "\n",
    "s = \"cgr\"\n",
    "k = \" hello\"\n",
    "print( s + k + \".\" )"
   ]
  },
  {
   "cell_type": "markdown",
   "metadata": {},
   "source": [
    "### *Input Function*"
   ]
  },
  {
   "cell_type": "code",
   "execution_count": 2,
   "metadata": {},
   "outputs": [
    {
     "name": "stdout",
     "output_type": "stream",
     "text": [
      "1\n",
      "1\n"
     ]
    }
   ],
   "source": [
    "a = input()\n",
    "print( a )"
   ]
  },
  {
   "cell_type": "code",
   "execution_count": 3,
   "metadata": {},
   "outputs": [
    {
     "name": "stdout",
     "output_type": "stream",
     "text": [
      "your name : cgr\n",
      "hello cgr\n"
     ]
    }
   ],
   "source": [
    "name = input( \"your name : \" )\n",
    "print( \"hello \" + name )"
   ]
  },
  {
   "cell_type": "code",
   "execution_count": 4,
   "metadata": {},
   "outputs": [
    {
     "name": "stdout",
     "output_type": "stream",
     "text": [
      "your age : 26\n",
      "age : 261\n",
      "<class 'str'>\n"
     ]
    }
   ],
   "source": [
    "age = input(\"your age : \" )  # all input values in str type\n",
    "print( \"age : \" + age + str(1) )   \n",
    "print( type(age) )"
   ]
  },
  {
   "cell_type": "markdown",
   "metadata": {},
   "source": [
    "##  MATH OPERATORS & VARIABLES \n"
   ]
  },
  {
   "cell_type": "code",
   "execution_count": 5,
   "metadata": {},
   "outputs": [
    {
     "name": "stdout",
     "output_type": "stream",
     "text": [
      "a = 4\n",
      "b = 3\n",
      "7\n",
      "21\n",
      "3.5\n",
      "64\n",
      "7\n",
      "a = 3\n",
      "b = 4\n"
     ]
    }
   ],
   "source": [
    "#---------------------------- MATH OPERATORS ----------------------------- \n",
    "a = 4 \n",
    "b = 3\n",
    "print( \"a = \" + str(a) )\n",
    "print( \"b = \" + str(b) )\n",
    "c = a + b \n",
    "print( c )\n",
    "print( c * 3 )\n",
    "print( c / 2 )\n",
    "print( a ** b )\n",
    "\n",
    "c = -c \n",
    "print( abs(c) )\n",
    "\n",
    "#----------------------------- VARIABLES ----------------------------------\n",
    "# this code changes a variable with b value and b variable with a value\n",
    "a,b = b,a \n",
    "print( \"a = \" + str(a) )\n",
    "print( \"b = \" + str(b) )\n",
    "\n"
   ]
  },
  {
   "cell_type": "markdown",
   "metadata": {},
   "source": [
    "## TYPE CONVERSATION"
   ]
  },
  {
   "cell_type": "code",
   "execution_count": 6,
   "metadata": {},
   "outputs": [
    {
     "name": "stdout",
     "output_type": "stream",
     "text": [
      "enter num1 : 2\n",
      "enter num2 : 2\n",
      "sum : 22\n",
      "enter num1 : 2\n",
      "enter num2 : 2\n",
      "sum : 4\n"
     ]
    }
   ],
   "source": [
    "#----------------------------TYPE CONVERSATION----------------------------------\n",
    "\n",
    "num1 = input( \"enter num1 : \" )  # 7 \n",
    "num2 = input( \"enter num2 : \" )  # 8\n",
    "sum = num1 + num2 \n",
    "print( \"sum : \" + sum )     # in string types output : 78 \n",
    "                \n",
    "                                                                               \n",
    "num1 = int( input( \"enter num1 : \" )) # 7 \n",
    "num2 = int( input( \"enter num2 : \" )) # 8\n",
    "sum = num1 + num2           # in int type output : 15 \n",
    "print( \"sum : \" + str( sum ) ) \n"
   ]
  },
  {
   "cell_type": "markdown",
   "metadata": {},
   "source": [
    "## DATA TYPES "
   ]
  },
  {
   "cell_type": "markdown",
   "metadata": {},
   "source": [
    "## *Integer - Float - Bool*"
   ]
  },
  {
   "cell_type": "code",
   "execution_count": 13,
   "metadata": {},
   "outputs": [
    {
     "name": "stdout",
     "output_type": "stream",
     "text": [
      "False\n",
      "False\n",
      "num1 : 1\n",
      "num2 : 1\n",
      "result : 1\n",
      "False\n"
     ]
    }
   ],
   "source": [
    "i = 3                # int\n",
    "f = 6.7              # float ,\n",
    "b = i > f            # bool \n",
    "print( b )           # false \n",
    "\n",
    "b = (i*3) == f        # bool \n",
    "print( b )           # false\n",
    "\n",
    "a = int( input( \"num1 : \" ))    # 3\n",
    "b = int( input( \"num2 : \" ))    # 5 \n",
    "c = int( input( \"result : \" ))\n",
    "print( c == a + b  )  # true or false \n"
   ]
  },
  {
   "cell_type": "markdown",
   "metadata": {},
   "source": [
    "## *String*"
   ]
  },
  {
   "cell_type": "code",
   "execution_count": 10,
   "metadata": {},
   "outputs": [
    {
     "name": "stdout",
     "output_type": "stream",
     "text": [
      "Python is easy\n",
      "Python is easy\n",
      "Python is easy and cool\n"
     ]
    }
   ],
   "source": [
    "print(\"Python is easy\")\n",
    "print('Python is easy')\n",
    "s = \"cool\"\n",
    "print(\"Python is easy and \" + s )"
   ]
  },
  {
   "cell_type": "code",
   "execution_count": 6,
   "metadata": {},
   "outputs": [
    {
     "name": "stdout",
     "output_type": "stream",
     "text": [
      "Python's rules\n"
     ]
    }
   ],
   "source": [
    "print(\"Python's rules\")"
   ]
  },
  {
   "cell_type": "code",
   "execution_count": 7,
   "metadata": {},
   "outputs": [
    {
     "name": "stdout",
     "output_type": "stream",
     "text": [
      "<class 'str'>\n"
     ]
    }
   ],
   "source": [
    "s = \"hello\"\n",
    "print( type(s) )"
   ]
  },
  {
   "cell_type": "markdown",
   "metadata": {},
   "source": [
    "## *Array* "
   ]
  },
  {
   "cell_type": "code",
   "execution_count": 7,
   "metadata": {},
   "outputs": [
    {
     "name": "stdout",
     "output_type": "stream",
     "text": [
      "Enter array element :\n",
      "1\n",
      "2\n",
      "3\n",
      "initial list : [1, 2, 3]\n",
      "update list : [2, 4, 6]\n"
     ]
    }
   ],
   "source": [
    "print(\"Enter array element :\")\n",
    "number = []\n",
    "def init( number ):\n",
    "    for i in range ( 0, 3 ):\n",
    "       a = int(input()) \n",
    "       number.append( a )  \n",
    "       \n",
    "init( number )\n",
    "print( \"initial list : \" + str(number) )\n",
    "\n",
    "\n",
    "def arr( number ):\n",
    "    for i in range ( 0, 3 ):\n",
    "        number[ i ] *= 2   #number[ i ] * 2;\n",
    "    \n",
    "    return number\n",
    "\n",
    "res = arr( number )\n",
    "print( \"update list : \" + str(res) )"
   ]
  },
  {
   "cell_type": "markdown",
   "metadata": {},
   "source": [
    "## *List*"
   ]
  },
  {
   "cell_type": "code",
   "execution_count": 4,
   "metadata": {},
   "outputs": [
    {
     "name": "stdout",
     "output_type": "stream",
     "text": [
      "['ahmet', 'enes', 'mahmut', 'kerem', 'ali', '1']\n",
      "['enes', 'mahmut']\n",
      "['ahmet', 'enes']\n",
      "['mahmut', 'kerem', 'ali', '1']\n",
      "['enes', 'kerem', '1']\n",
      "['enes', 'kerem', 'ali', '1', 'büşra']\n"
     ]
    }
   ],
   "source": [
    "ls = [ \"ahmet\", \"enes\", \"mahmut\", \"kerem\", \"ali\", str(1)  ]\n",
    "print( ls )\n",
    "print( ls[ 1:3 ] )\n",
    "print( ls[ :2 ] )\n",
    "print( ls[ 2: ] )\n",
    "print( ls[ 1::2 ] )\n",
    "\n",
    "ls.append( \"büşra\" )     # add büşra\n",
    "ls.remove( \"ahmet\" )     # remove ahmmet \n",
    "del( ls[ 1 ]  )          # del enes \n",
    "print( ls )"
   ]
  },
  {
   "cell_type": "code",
   "execution_count": 6,
   "metadata": {},
   "outputs": [
    {
     "name": "stdout",
     "output_type": "stream",
     "text": [
      "['1', 'ali', 'büşra', 'xxx', 'enes', 'kerem', 'xxx']\n",
      "0\n",
      "1\n"
     ]
    }
   ],
   "source": [
    "ls.reverse()             # reverse order \n",
    "ls.sort()                # sort by alphabetic  \n",
    "print( ls )\n",
    "\n",
    "ls.insert( 3, \"xxx\")\n",
    "print( ls )\n",
    "\n",
    "print( ls.count(\"ahmet\") )\n",
    "print( ls.count(\"kerem\") )"
   ]
  },
  {
   "cell_type": "markdown",
   "metadata": {},
   "source": [
    "### <font color = 'GREEN'> ***EXAMPLE :*** <font> "
   ]
  },
  {
   "cell_type": "markdown",
   "metadata": {},
   "source": [
    "#### Find the students that below avarage.      "
   ]
  },
  {
   "cell_type": "code",
   "execution_count": 20,
   "metadata": {},
   "outputs": [
    {
     "name": "stdout",
     "output_type": "stream",
     "text": [
      "avarage : 65.2\n",
      "enes\n",
      "mahmut\n"
     ]
    }
   ],
   "source": [
    "students = [ \"ahmet\", \"enes\", \"mahmut\", \"kerem\", \"ali\" ]\n",
    "notes   = [ 75, 25, 48, 78, 100 ]\n",
    "#print( student + notes )\n",
    "\n",
    "def avr( notes ):\n",
    "     tot = 0\n",
    "     size = len(notes)\n",
    "     for i in range( 0, size ):\n",
    "        tot += notes[ i ] \n",
    "     \n",
    "     return tot/size\n",
    "   \n",
    "av = avr( notes )\n",
    "\n",
    "def check( students, notes, avr):\n",
    "     size = len(notes)\n",
    "     for i in range( 0, size ):\n",
    "         if( notes[ i ] <= av ):\n",
    "             print( students[ i ] )\n",
    "\n",
    "print(\"avarage : \" + str(av) )\n",
    "check( students, notes, av )"
   ]
  },
  {
   "cell_type": "markdown",
   "metadata": {},
   "source": [
    "## *Tuple* "
   ]
  },
  {
   "cell_type": "markdown",
   "metadata": {},
   "source": [
    "<font size = 4 font color = \"black\" > Tuple includes constant variable, add and delete invalid  <font> "
   ]
  },
  {
   "cell_type": "code",
   "execution_count": 15,
   "metadata": {},
   "outputs": [
    {
     "name": "stdout",
     "output_type": "stream",
     "text": [
      "('enes', 'tuzlu')\n"
     ]
    }
   ],
   "source": [
    "a = ( \"enes\", \"tuzlu\" )     # tuple with paranthesis( dif list)\n",
    "print( a )\n",
    "a = list(a)                 #tuple is converted a list"
   ]
  },
  {
   "cell_type": "markdown",
   "metadata": {},
   "source": [
    "## *Set*"
   ]
  },
  {
   "cell_type": "markdown",
   "metadata": {},
   "source": [
    "<font size = 4 >  Sets dont uses index and cant including same element. <font> "
   ]
  },
  {
   "cell_type": "code",
   "execution_count": 14,
   "metadata": {},
   "outputs": [
    {
     "name": "stdout",
     "output_type": "stream",
     "text": [
      "{1, 2, 3}\n"
     ]
    }
   ],
   "source": [
    "sets = { 1, 1, 2, 3, 2 }     \n",
    "print( sets )                # { 1, 2, 3 }"
   ]
  },
  {
   "cell_type": "code",
   "execution_count": 13,
   "metadata": {},
   "outputs": [
    {
     "name": "stdout",
     "output_type": "stream",
     "text": [
      "{'apple', 'orange'}\n",
      "set()\n"
     ]
    }
   ],
   "source": [
    "fruit = { \"apple\", \"banana\"}\n",
    "fruit.add( \"orange\" )       \n",
    "fruit.add( \"apple\" )         # dont cahnge anythng\n",
    "fruit.remove( \"banana\" )\n",
    "print( fruit )\n",
    "fruit.clear()\n",
    "print( fruit )"
   ]
  },
  {
   "cell_type": "markdown",
   "metadata": {},
   "source": [
    "## *Dictionary*"
   ]
  },
  {
   "cell_type": "markdown",
   "metadata": {},
   "source": [
    "<font size = 4 >  Dictionary = keys : value  <font> "
   ]
  },
  {
   "cell_type": "code",
   "execution_count": 16,
   "metadata": {},
   "outputs": [
    {
     "name": "stdout",
     "output_type": "stream",
     "text": [
      "{'enes': 75, 'kerem': 89, 'hasan': 10}\n",
      "75\n",
      "{'enes': 75, 'kerem': 89, 'hasan': 10, 'ezgi': 100}\n"
     ]
    }
   ],
   "source": [
    "\n",
    "notes = { \"enes\" : 75, \"kerem\" : 89, \"hasan\" : 10 }\n",
    "print( notes )\n",
    "print( notes[\"enes\"] )    # print ennes notes \n",
    "\n",
    "notes[\"ezgi\"] = 100       # add ezgi\n",
    "notes_copy = notes.copy()\n",
    "notes.clear()\n",
    "print( notes_copy ) "
   ]
  },
  {
   "cell_type": "code",
   "execution_count": null,
   "metadata": {},
   "outputs": [],
   "source": []
  }
 ],
 "metadata": {
  "kernelspec": {
   "display_name": "Python 3",
   "language": "python",
   "name": "python3"
  },
  "language_info": {
   "codemirror_mode": {
    "name": "ipython",
    "version": 3
   },
   "file_extension": ".py",
   "mimetype": "text/x-python",
   "name": "python",
   "nbconvert_exporter": "python",
   "pygments_lexer": "ipython3",
   "version": "3.8.3"
  }
 },
 "nbformat": 4,
 "nbformat_minor": 4
}
